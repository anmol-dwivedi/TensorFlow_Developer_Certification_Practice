{
  "nbformat": 4,
  "nbformat_minor": 0,
  "metadata": {
    "colab": {
      "provenance": [],
      "gpuType": "T4"
    },
    "kernelspec": {
      "name": "python3",
      "display_name": "Python 3"
    },
    "language_info": {
      "name": "python"
    },
    "accelerator": "GPU"
  },
  "cells": [
    {
      "cell_type": "code",
      "execution_count": 1,
      "metadata": {
        "id": "I63TQilETQ4L"
      },
      "outputs": [],
      "source": [
        "import numpy as np\n",
        "import pandas as pd\n",
        "import seaborn as sns\n",
        "import matplotlib.pyplot as plt\n",
        "\n",
        "import sys\n",
        "import os\n",
        "\n",
        "import tensorflow as tf"
      ]
    },
    {
      "cell_type": "markdown",
      "source": [
        "# Intro to Regression with TF"
      ],
      "metadata": {
        "id": "o7zX-m6rTkR2"
      }
    },
    {
      "cell_type": "code",
      "source": [
        "print(tf.__version__)"
      ],
      "metadata": {
        "colab": {
          "base_uri": "https://localhost:8080/"
        },
        "id": "EBD0n_0rYX8F",
        "outputId": "76028c1f-b33a-4953-a06f-c9063d4fba76"
      },
      "execution_count": 2,
      "outputs": [
        {
          "output_type": "stream",
          "name": "stdout",
          "text": [
            "2.15.0\n"
          ]
        }
      ]
    },
    {
      "cell_type": "markdown",
      "source": [
        "# Creating data to view and fit\n"
      ],
      "metadata": {
        "id": "dgJnoNXSYr8Y"
      }
    },
    {
      "cell_type": "code",
      "source": [
        "# Create Features\n",
        "X = np.array([-7.0, -4.0,-1.0, 2.0, 5.0, 8.0, 11.0, 14.0])\n",
        "\n",
        "# Create Labels\n",
        "y = np.array([3.0, 6.0, 9.0, 12.0, 15.0, 18.0, 21.0, 24.0])\n",
        "\n",
        "# Visualize it\n",
        "plt.scatter(X, y);"
      ],
      "metadata": {
        "colab": {
          "base_uri": "https://localhost:8080/",
          "height": 435
        },
        "id": "ALxG44ETY3gR",
        "outputId": "d5d3de27-89d8-4afa-fbd6-ccc5e6995fb9"
      },
      "execution_count": 3,
      "outputs": [
        {
          "output_type": "display_data",
          "data": {
            "text/plain": [
              "<Figure size 640x480 with 1 Axes>"
            ],
            "image/png": "[encoded data removed]"
          },
          "metadata": {}
        }
      ]
    },
    {
      "cell_type": "code",
      "source": [
        "y == X + 10"
      ],
      "metadata": {
        "colab": {
          "base_uri": "https://localhost:8080/"
        },
        "id": "KnCI7Z8aZSTb",
        "outputId": "65c7a425-2a55-459b-eb72-1ff6bb1ef095"
      },
      "execution_count": 4,
      "outputs": [
        {
          "output_type": "execute_result",
          "data": {
            "text/plain": [
              "array([ True,  True,  True,  True,  True,  True,  True,  True])"
            ]
          },
          "metadata": {},
          "execution_count": 4
        }
      ]
    },
    {
      "cell_type": "markdown",
      "source": [
        "### Input and Output shapes"
      ],
      "metadata": {
        "id": "wkzzuxBuZjH4"
      }
    },
    {
      "cell_type": "code",
      "source": [
        "# Create a demo tensor for our housing price prediction problem\n",
        "house_info = tf.constant(['bedroom', 'bathroom', 'garage'])\n",
        "house_price = tf.constant([939700])\n",
        "\n",
        "house_info, house_price"
      ],
      "metadata": {
        "colab": {
          "base_uri": "https://localhost:8080/"
        },
        "id": "T9Upiab2ZquD",
        "outputId": "88173953-5f90-43e7-8f0b-37ab19bfc083"
      },
      "execution_count": 5,
      "outputs": [
        {
          "output_type": "execute_result",
          "data": {
            "text/plain": [
              "(<tf.Tensor: shape=(3,), dtype=string, numpy=array([b'bedroom', b'bathroom', b'garage'], dtype=object)>,\n",
              " <tf.Tensor: shape=(1,), dtype=int32, numpy=array([939700], dtype=int32)>)"
            ]
          },
          "metadata": {},
          "execution_count": 5
        }
      ]
    },
    {
      "cell_type": "code",
      "source": [
        "input_shape = X.shape\n",
        "output_shape = y.shape\n",
        "\n",
        "input_shape, output_shape"
      ],
      "metadata": {
        "colab": {
          "base_uri": "https://localhost:8080/"
        },
        "id": "I_4MAHzlaFlO",
        "outputId": "a56adc09-5a44-4ae4-c664-fae6bed08c00"
      },
      "execution_count": 6,
      "outputs": [
        {
          "output_type": "execute_result",
          "data": {
            "text/plain": [
              "((8,), (8,))"
            ]
          },
          "metadata": {},
          "execution_count": 6
        }
      ]
    },
    {
      "cell_type": "code",
      "source": [
        "X[0].ndim, y[0].ndim"
      ],
      "metadata": {
        "colab": {
          "base_uri": "https://localhost:8080/"
        },
        "id": "5ctpcrCraSCQ",
        "outputId": "ed6ef4fc-ad21-4101-d323-0ae32949ce85"
      },
      "execution_count": 7,
      "outputs": [
        {
          "output_type": "execute_result",
          "data": {
            "text/plain": [
              "(0, 0)"
            ]
          },
          "metadata": {},
          "execution_count": 7
        }
      ]
    },
    {
      "cell_type": "code",
      "source": [
        "# turn our numpy array to tensors\n",
        "X = tf.constant(X)\n",
        "y = tf.constant(y)\n",
        "\n",
        "X,y"
      ],
      "metadata": {
        "colab": {
          "base_uri": "https://localhost:8080/"
        },
        "id": "T9G7_0bxeVXf",
        "outputId": "b9aad2a2-eed6-4a02-9db2-66274514999c"
      },
      "execution_count": 8,
      "outputs": [
        {
          "output_type": "execute_result",
          "data": {
            "text/plain": [
              "(<tf.Tensor: shape=(8,), dtype=float64, numpy=array([-7., -4., -1.,  2.,  5.,  8., 11., 14.])>,\n",
              " <tf.Tensor: shape=(8,), dtype=float64, numpy=array([ 3.,  6.,  9., 12., 15., 18., 21., 24.])>)"
            ]
          },
          "metadata": {},
          "execution_count": 8
        }
      ]
    },
    {
      "cell_type": "code",
      "source": [
        "input_shape = X[0].shape\n",
        "output_shape = y[0].shape\n",
        "\n",
        "input_shape, output_shape"
      ],
      "metadata": {
        "colab": {
          "base_uri": "https://localhost:8080/"
        },
        "id": "HQc3UC4CerfW",
        "outputId": "4a74417d-55cb-4a8e-b684-e3bbfbf23f70"
      },
      "execution_count": 9,
      "outputs": [
        {
          "output_type": "execute_result",
          "data": {
            "text/plain": [
              "(TensorShape([]), TensorShape([]))"
            ]
          },
          "metadata": {},
          "execution_count": 9
        }
      ]
    },
    {
      "cell_type": "code",
      "source": [
        "plt.scatter(X, y)"
      ],
      "metadata": {
        "colab": {
          "base_uri": "https://localhost:8080/",
          "height": 453
        },
        "id": "bPGvjnqNezCW",
        "outputId": "880d8d70-ad1c-4d5f-d385-0534999a6dbf"
      },
      "execution_count": 10,
      "outputs": [
        {
          "output_type": "execute_result",
          "data": {
            "text/plain": [
              "<matplotlib.collections.PathCollection at 0x78f9fa353670>"
            ]
          },
          "metadata": {},
          "execution_count": 10
        },
        {
          "output_type": "display_data",
          "data": {
            "text/plain": [
              "<Figure size 640x480 with 1 Axes>"
            ],
            "image/png": "[encoded data removed]"
          },
          "metadata": {}
        }
      ]
    },
    {
      "cell_type": "markdown",
      "source": [
        "# Steps in modelling with Tensorflow"
      ],
      "metadata": {
        "id": "hl3SoFO7e4eQ"
      }
    },
    {
      "cell_type": "code",
      "source": [
        "# set the random seed\n",
        "tf.random.set_seed(42)\n",
        "\n",
        "# 1. Create a model using Sequential API\n",
        "model = tf.keras.Sequential([\n",
        "    tf.keras.layers.Dense(1)\n",
        "])\n",
        "\n",
        "\n",
        "# 2. Comple the model\n",
        "model.compile(loss = tf.keras.losses.mae,\n",
        "              optimizer = tf.keras.optimizers.SGD(),\n",
        "              metrics = ['mae'])\n",
        "\n",
        "# Fit the model\n",
        "model.fit(tf.expand_dims(X, axis=-1), y, epochs=5)"
      ],
      "metadata": {
        "colab": {
          "base_uri": "https://localhost:8080/"
        },
        "id": "Okl-kH8te7R-",
        "outputId": "3622f44c-1515-4abe-f2e0-de6b64b2d3ee"
      },
      "execution_count": 11,
      "outputs": [
        {
          "output_type": "stream",
          "name": "stdout",
          "text": [
            "Epoch 1/5\n",
            "1/1 [==============================] - 1s 1s/step - loss: 12.5944 - mae: 12.5944\n",
            "Epoch 2/5\n",
            "1/1 [==============================] - 0s 10ms/step - loss: 12.4619 - mae: 12.4619\n",
            "Epoch 3/5\n",
            "1/1 [==============================] - 0s 10ms/step - loss: 12.3294 - mae: 12.3294\n",
            "Epoch 4/5\n",
            "1/1 [==============================] - 0s 10ms/step - loss: 12.1969 - mae: 12.1969\n",
            "Epoch 5/5\n",
            "1/1 [==============================] - 0s 10ms/step - loss: 12.0644 - mae: 12.0644\n"
          ]
        },
        {
          "output_type": "execute_result",
          "data": {
            "text/plain": [
              "<keras.src.callbacks.History at 0x78f9fc445900>"
            ]
          },
          "metadata": {},
          "execution_count": 11
        }
      ]
    },
    {
      "cell_type": "code",
      "source": [
        "# Check out X and y\n",
        "X, y"
      ],
      "metadata": {
        "colab": {
          "base_uri": "https://localhost:8080/"
        },
        "id": "5tv3_40dgblA",
        "outputId": "01a250bd-ab85-47c9-a043-7fbb04f1d412"
      },
      "execution_count": 12,
      "outputs": [
        {
          "output_type": "execute_result",
          "data": {
            "text/plain": [
              "(<tf.Tensor: shape=(8,), dtype=float64, numpy=array([-7., -4., -1.,  2.,  5.,  8., 11., 14.])>,\n",
              " <tf.Tensor: shape=(8,), dtype=float64, numpy=array([ 3.,  6.,  9., 12., 15., 18., 21., 24.])>)"
            ]
          },
          "metadata": {},
          "execution_count": 12
        }
      ]
    },
    {
      "cell_type": "code",
      "source": [
        "# Try and make predictions using the model\n",
        "model.predict(X), model.predict([17.0])"
      ],
      "metadata": {
        "colab": {
          "base_uri": "https://localhost:8080/"
        },
        "id": "h_tF2qUeiD9Y",
        "outputId": "15a3ef19-3e2d-4db8-98db-0d996b40eb07"
      },
      "execution_count": 13,
      "outputs": [
        {
          "output_type": "stream",
          "name": "stdout",
          "text": [
            "1/1 [==============================] - 0s 63ms/step\n",
            "1/1 [==============================] - 0s 57ms/step\n"
          ]
        },
        {
          "output_type": "execute_result",
          "data": {
            "text/plain": [
              "(array([[-2.9862196 ],\n",
              "        [-1.6849827 ],\n",
              "        [-0.38374567],\n",
              "        [ 0.9174913 ],\n",
              "        [ 2.2187283 ],\n",
              "        [ 3.5199652 ],\n",
              "        [ 4.8212023 ],\n",
              "        [ 6.1224394 ]], dtype=float32),\n",
              " array([[7.4236765]], dtype=float32))"
            ]
          },
          "metadata": {},
          "execution_count": 13
        }
      ]
    },
    {
      "cell_type": "markdown",
      "source": [
        "# Improving our Model\n",
        "\n",
        "* Creating a model -\n",
        "  * here we might add more layers.\n",
        "  * increase the number of hidden layers.\n",
        "  * change the activation funtion of each layer.\n",
        "* **Compiling a model** - here we might change the optimization function or perhaps the **learning rate** of the optimization function.\n",
        "* **Fitting a Model** - Fit the model for more **epochs** or on **more data**."
      ],
      "metadata": {
        "id": "hCDjfkbmiI1q"
      }
    },
    {
      "cell_type": "code",
      "source": [
        "## Rebuild the model\n",
        "\n",
        "# creat the model\n",
        "model = tf.keras.Sequential([\n",
        "    tf.keras.layers.Dense(1)\n",
        "])\n",
        "\n",
        "# Compile the model\n",
        "model.compile(loss = tf.keras.losses.mae,\n",
        "              optimizer = tf.keras.optimizers.SGD(),\n",
        "              metrics=['mae'])\n",
        "\n",
        "# Fit the model ()\n",
        "model.fit(tf.expand_dims(X, axis=-1), y, epochs=100)"
      ],
      "metadata": {
        "id": "1teFTG5GiYgK",
        "colab": {
          "base_uri": "https://localhost:8080/"
        },
        "outputId": "219b79db-adc9-4601-e4d4-2f40de553aa9"
      },
      "execution_count": 14,
      "outputs": [
        {
          "output_type": "stream",
          "name": "stdout",
          "text": [
            "Epoch 1/100\n",
            "1/1 [==============================] - 0s 475ms/step - loss: 12.2191 - mae: 12.2191\n",
            "Epoch 2/100\n",
            "1/1 [==============================] - 0s 14ms/step - loss: 12.0866 - mae: 12.0866\n",
            "Epoch 3/100\n",
            "1/1 [==============================] - 0s 14ms/step - loss: 11.9541 - mae: 11.9541\n",
            "Epoch 4/100\n",
            "1/1 [==============================] - 0s 14ms/step - loss: 11.8216 - mae: 11.8216\n",
            "Epoch 5/100\n",
            "1/1 [==============================] - 0s 12ms/step - loss: 11.6891 - mae: 11.6891\n",
            "Epoch 6/100\n",
            "1/1 [==============================] - 0s 17ms/step - loss: 11.5566 - mae: 11.5566\n",
            "Epoch 7/100\n",
            "1/1 [==============================] - 0s 13ms/step - loss: 11.4241 - mae: 11.4241\n",
            "Epoch 8/100\n",
            "1/1 [==============================] - 0s 12ms/step - loss: 11.2916 - mae: 11.2916\n",
            "Epoch 9/100\n",
            "1/1 [==============================] - 0s 11ms/step - loss: 11.1591 - mae: 11.1591\n",
            "Epoch 10/100\n",
            "1/1 [==============================] - 0s 14ms/step - loss: 11.0266 - mae: 11.0266\n",
            "Epoch 11/100\n",
            "1/1 [==============================] - 0s 14ms/step - loss: 10.8941 - mae: 10.8941\n",
            "Epoch 12/100\n",
            "1/1 [==============================] - 0s 12ms/step - loss: 10.7616 - mae: 10.7616\n",
            "Epoch 13/100\n",
            "1/1 [==============================] - 0s 11ms/step - loss: 10.6291 - mae: 10.6291\n",
            "Epoch 14/100\n",
            "1/1 [==============================] - 0s 12ms/step - loss: 10.4966 - mae: 10.4966\n",
            "Epoch 15/100\n",
            "1/1 [==============================] - 0s 13ms/step - loss: 10.3641 - mae: 10.3641\n",
            "Epoch 16/100\n",
            "1/1 [==============================] - 0s 10ms/step - loss: 10.2316 - mae: 10.2316\n",
            "Epoch 17/100\n",
            "1/1 [==============================] - 0s 11ms/step - loss: 10.0991 - mae: 10.0991\n",
            "Epoch 18/100\n",
            "1/1 [==============================] - 0s 10ms/step - loss: 9.9666 - mae: 9.9666\n",
            "Epoch 19/100\n",
            "1/1 [==============================] - 0s 11ms/step - loss: 9.8341 - mae: 9.8341\n",
            "Epoch 20/100\n",
            "1/1 [==============================] - 0s 11ms/step - loss: 9.7016 - mae: 9.7016\n",
            "Epoch 21/100\n",
            "1/1 [==============================] - 0s 13ms/step - loss: 9.5691 - mae: 9.5691\n",
            "Epoch 22/100\n",
            "1/1 [==============================] - 0s 11ms/step - loss: 9.4366 - mae: 9.4366\n",
            "Epoch 23/100\n",
            "1/1 [==============================] - 0s 15ms/step - loss: 9.3041 - mae: 9.3041\n",
            "Epoch 24/100\n",
            "1/1 [==============================] - 0s 11ms/step - loss: 9.1716 - mae: 9.1716\n",
            "Epoch 25/100\n",
            "1/1 [==============================] - 0s 9ms/step - loss: 9.0391 - mae: 9.0391\n",
            "Epoch 26/100\n",
            "1/1 [==============================] - 0s 13ms/step - loss: 8.9066 - mae: 8.9066\n",
            "Epoch 27/100\n",
            "1/1 [==============================] - 0s 12ms/step - loss: 8.7741 - mae: 8.7741\n",
            "Epoch 28/100\n",
            "1/1 [==============================] - 0s 12ms/step - loss: 8.6416 - mae: 8.6416\n",
            "Epoch 29/100\n",
            "1/1 [==============================] - 0s 9ms/step - loss: 8.5091 - mae: 8.5091\n",
            "Epoch 30/100\n",
            "1/1 [==============================] - 0s 11ms/step - loss: 8.3766 - mae: 8.3766\n",
            "Epoch 31/100\n",
            "1/1 [==============================] - 0s 10ms/step - loss: 8.2441 - mae: 8.2441\n",
            "Epoch 32/100\n",
            "1/1 [==============================] - 0s 9ms/step - loss: 8.1116 - mae: 8.1116\n",
            "Epoch 33/100\n",
            "1/1 [==============================] - 0s 10ms/step - loss: 7.9791 - mae: 7.9791\n",
            "Epoch 34/100\n",
            "1/1 [==============================] - 0s 9ms/step - loss: 7.8466 - mae: 7.8466\n",
            "Epoch 35/100\n",
            "1/1 [==============================] - 0s 10ms/step - loss: 7.7141 - mae: 7.7141\n",
            "Epoch 36/100\n",
            "1/1 [==============================] - 0s 10ms/step - loss: 7.5816 - mae: 7.5816\n",
            "Epoch 37/100\n",
            "1/1 [==============================] - 0s 11ms/step - loss: 7.4491 - mae: 7.4491\n",
            "Epoch 38/100\n",
            "1/1 [==============================] - 0s 9ms/step - loss: 7.3166 - mae: 7.3166\n",
            "Epoch 39/100\n",
            "1/1 [==============================] - 0s 10ms/step - loss: 7.2150 - mae: 7.2150\n",
            "Epoch 40/100\n",
            "1/1 [==============================] - 0s 10ms/step - loss: 7.2094 - mae: 7.2094\n",
            "Epoch 41/100\n",
            "1/1 [==============================] - 0s 9ms/step - loss: 7.2038 - mae: 7.2038\n",
            "Epoch 42/100\n",
            "1/1 [==============================] - 0s 10ms/step - loss: 7.1981 - mae: 7.1981\n",
            "Epoch 43/100\n",
            "1/1 [==============================] - 0s 9ms/step - loss: 7.1925 - mae: 7.1925\n",
            "Epoch 44/100\n",
            "1/1 [==============================] - 0s 9ms/step - loss: 7.1869 - mae: 7.1869\n",
            "Epoch 45/100\n",
            "1/1 [==============================] - 0s 9ms/step - loss: 7.1813 - mae: 7.1813\n",
            "Epoch 46/100\n",
            "1/1 [==============================] - 0s 11ms/step - loss: 7.1756 - mae: 7.1756\n",
            "Epoch 47/100\n",
            "1/1 [==============================] - 0s 11ms/step - loss: 7.1700 - mae: 7.1700\n",
            "Epoch 48/100\n",
            "1/1 [==============================] - 0s 10ms/step - loss: 7.1644 - mae: 7.1644\n",
            "Epoch 49/100\n",
            "1/1 [==============================] - 0s 10ms/step - loss: 7.1588 - mae: 7.1588\n",
            "Epoch 50/100\n",
            "1/1 [==============================] - 0s 12ms/step - loss: 7.1531 - mae: 7.1531\n",
            "Epoch 51/100\n",
            "1/1 [==============================] - 0s 13ms/step - loss: 7.1475 - mae: 7.1475\n",
            "Epoch 52/100\n",
            "1/1 [==============================] - 0s 10ms/step - loss: 7.1419 - mae: 7.1419\n",
            "Epoch 53/100\n",
            "1/1 [==============================] - 0s 14ms/step - loss: 7.1363 - mae: 7.1363\n",
            "Epoch 54/100\n",
            "1/1 [==============================] - 0s 12ms/step - loss: 7.1306 - mae: 7.1306\n",
            "Epoch 55/100\n",
            "1/1 [==============================] - 0s 10ms/step - loss: 7.1250 - mae: 7.1250\n",
            "Epoch 56/100\n",
            "1/1 [==============================] - 0s 10ms/step - loss: 7.1194 - mae: 7.1194\n",
            "Epoch 57/100\n",
            "1/1 [==============================] - 0s 10ms/step - loss: 7.1137 - mae: 7.1137\n",
            "Epoch 58/100\n",
            "1/1 [==============================] - 0s 10ms/step - loss: 7.1081 - mae: 7.1081\n",
            "Epoch 59/100\n",
            "1/1 [==============================] - 0s 15ms/step - loss: 7.1025 - mae: 7.1025\n",
            "Epoch 60/100\n",
            "1/1 [==============================] - 0s 14ms/step - loss: 7.0969 - mae: 7.0969\n",
            "Epoch 61/100\n",
            "1/1 [==============================] - 0s 14ms/step - loss: 7.0913 - mae: 7.0913\n",
            "Epoch 62/100\n",
            "1/1 [==============================] - 0s 12ms/step - loss: 7.0856 - mae: 7.0856\n",
            "Epoch 63/100\n",
            "1/1 [==============================] - 0s 14ms/step - loss: 7.0800 - mae: 7.0800\n",
            "Epoch 64/100\n",
            "1/1 [==============================] - 0s 10ms/step - loss: 7.0744 - mae: 7.0744\n",
            "Epoch 65/100\n",
            "1/1 [==============================] - 0s 10ms/step - loss: 7.0688 - mae: 7.0688\n",
            "Epoch 66/100\n",
            "1/1 [==============================] - 0s 13ms/step - loss: 7.0631 - mae: 7.0631\n",
            "Epoch 67/100\n",
            "1/1 [==============================] - 0s 13ms/step - loss: 7.0575 - mae: 7.0575\n",
            "Epoch 68/100\n",
            "1/1 [==============================] - 0s 11ms/step - loss: 7.0519 - mae: 7.0519\n",
            "Epoch 69/100\n",
            "1/1 [==============================] - 0s 10ms/step - loss: 7.0463 - mae: 7.0463\n",
            "Epoch 70/100\n",
            "1/1 [==============================] - 0s 10ms/step - loss: 7.0406 - mae: 7.0406\n",
            "Epoch 71/100\n",
            "1/1 [==============================] - 0s 11ms/step - loss: 7.0350 - mae: 7.0350\n",
            "Epoch 72/100\n",
            "1/1 [==============================] - 0s 12ms/step - loss: 7.0294 - mae: 7.0294\n",
            "Epoch 73/100\n",
            "1/1 [==============================] - 0s 11ms/step - loss: 7.0238 - mae: 7.0238\n",
            "Epoch 74/100\n",
            "1/1 [==============================] - 0s 9ms/step - loss: 7.0181 - mae: 7.0181\n",
            "Epoch 75/100\n",
            "1/1 [==============================] - 0s 10ms/step - loss: 7.0125 - mae: 7.0125\n",
            "Epoch 76/100\n",
            "1/1 [==============================] - 0s 9ms/step - loss: 7.0069 - mae: 7.0069\n",
            "Epoch 77/100\n",
            "1/1 [==============================] - 0s 9ms/step - loss: 7.0013 - mae: 7.0013\n",
            "Epoch 78/100\n",
            "1/1 [==============================] - 0s 9ms/step - loss: 6.9956 - mae: 6.9956\n",
            "Epoch 79/100\n",
            "1/1 [==============================] - 0s 9ms/step - loss: 6.9900 - mae: 6.9900\n",
            "Epoch 80/100\n",
            "1/1 [==============================] - 0s 10ms/step - loss: 6.9844 - mae: 6.9844\n",
            "Epoch 81/100\n",
            "1/1 [==============================] - 0s 9ms/step - loss: 6.9788 - mae: 6.9788\n",
            "Epoch 82/100\n",
            "1/1 [==============================] - 0s 10ms/step - loss: 6.9731 - mae: 6.9731\n",
            "Epoch 83/100\n",
            "1/1 [==============================] - 0s 12ms/step - loss: 6.9675 - mae: 6.9675\n",
            "Epoch 84/100\n",
            "1/1 [==============================] - 0s 13ms/step - loss: 6.9619 - mae: 6.9619\n",
            "Epoch 85/100\n",
            "1/1 [==============================] - 0s 18ms/step - loss: 6.9563 - mae: 6.9563\n",
            "Epoch 86/100\n",
            "1/1 [==============================] - 0s 13ms/step - loss: 6.9506 - mae: 6.9506\n",
            "Epoch 87/100\n",
            "1/1 [==============================] - 0s 9ms/step - loss: 6.9450 - mae: 6.9450\n",
            "Epoch 88/100\n",
            "1/1 [==============================] - 0s 10ms/step - loss: 6.9394 - mae: 6.9394\n",
            "Epoch 89/100\n",
            "1/1 [==============================] - 0s 10ms/step - loss: 6.9338 - mae: 6.9338\n",
            "Epoch 90/100\n",
            "1/1 [==============================] - 0s 9ms/step - loss: 6.9281 - mae: 6.9281\n",
            "Epoch 91/100\n",
            "1/1 [==============================] - 0s 9ms/step - loss: 6.9225 - mae: 6.9225\n",
            "Epoch 92/100\n",
            "1/1 [==============================] - 0s 9ms/step - loss: 6.9169 - mae: 6.9169\n",
            "Epoch 93/100\n",
            "1/1 [==============================] - 0s 10ms/step - loss: 6.9113 - mae: 6.9113\n",
            "Epoch 94/100\n",
            "1/1 [==============================] - 0s 9ms/step - loss: 6.9056 - mae: 6.9056\n",
            "Epoch 95/100\n",
            "1/1 [==============================] - 0s 10ms/step - loss: 6.9000 - mae: 6.9000\n",
            "Epoch 96/100\n",
            "1/1 [==============================] - 0s 9ms/step - loss: 6.8944 - mae: 6.8944\n",
            "Epoch 97/100\n",
            "1/1 [==============================] - 0s 9ms/step - loss: 6.8888 - mae: 6.8888\n",
            "Epoch 98/100\n",
            "1/1 [==============================] - 0s 9ms/step - loss: 6.8831 - mae: 6.8831\n",
            "Epoch 99/100\n",
            "1/1 [==============================] - 0s 10ms/step - loss: 6.8775 - mae: 6.8775\n",
            "Epoch 100/100\n",
            "1/1 [==============================] - 0s 13ms/step - loss: 6.8719 - mae: 6.8719\n"
          ]
        },
        {
          "output_type": "execute_result",
          "data": {
            "text/plain": [
              "<keras.src.callbacks.History at 0x78f9f00e6a70>"
            ]
          },
          "metadata": {},
          "execution_count": 14
        }
      ]
    },
    {
      "cell_type": "code",
      "source": [
        "# Remind ourselves of the data\n",
        "X, y"
      ],
      "metadata": {
        "colab": {
          "base_uri": "https://localhost:8080/"
        },
        "id": "Qr39Xkv7cXAd",
        "outputId": "9ac8c64d-119e-42b9-d29f-805841f20365"
      },
      "execution_count": 15,
      "outputs": [
        {
          "output_type": "execute_result",
          "data": {
            "text/plain": [
              "(<tf.Tensor: shape=(8,), dtype=float64, numpy=array([-7., -4., -1.,  2.,  5.,  8., 11., 14.])>,\n",
              " <tf.Tensor: shape=(8,), dtype=float64, numpy=array([ 3.,  6.,  9., 12., 15., 18., 21., 24.])>)"
            ]
          },
          "metadata": {},
          "execution_count": 15
        }
      ]
    },
    {
      "cell_type": "code",
      "source": [
        "# let's chek the model predictino\n",
        "model.predict([17.0])"
      ],
      "metadata": {
        "colab": {
          "base_uri": "https://localhost:8080/"
        },
        "id": "VrdwXkPHc68c",
        "outputId": "89e93dcc-abb7-4f4a-a63d-be0e3b047003"
      },
      "execution_count": 16,
      "outputs": [
        {
          "output_type": "stream",
          "name": "stdout",
          "text": [
            "1/1 [==============================] - 0s 54ms/step\n"
          ]
        },
        {
          "output_type": "execute_result",
          "data": {
            "text/plain": [
              "array([[29.67631]], dtype=float32)"
            ]
          },
          "metadata": {},
          "execution_count": 16
        }
      ]
    },
    {
      "cell_type": "code",
      "source": [
        "## Rebuild the model\n",
        "\n",
        "# create model with extra dense layer\n",
        "model = tf.keras.Sequential([\n",
        "    tf.keras.layers.Dense(50, activation=None),\n",
        "    tf.keras.layers.Dense(1)\n",
        "])\n",
        "\n",
        "# compile the model\n",
        "model.compile(loss=\"mae\",\n",
        "              optimizer=tf.keras.optimizers.Adam(learning_rate=0.01),\n",
        "              metrics=[\"mae\"])\n",
        "\n",
        "# fit the model\n",
        "model.fit(tf.expand_dims(X, axis=-1), y, epochs=100)"
      ],
      "metadata": {
        "colab": {
          "base_uri": "https://localhost:8080/"
        },
        "id": "GlHbzdwtdAH4",
        "outputId": "5da227a8-7230-4d66-8cc2-8894c6f483ac"
      },
      "execution_count": 17,
      "outputs": [
        {
          "output_type": "stream",
          "name": "stdout",
          "text": [
            "Epoch 1/100\n",
            "1/1 [==============================] - 1s 1s/step - loss: 11.7601 - mae: 11.7601\n",
            "Epoch 2/100\n",
            "1/1 [==============================] - 0s 11ms/step - loss: 11.0626 - mae: 11.0626\n",
            "Epoch 3/100\n",
            "1/1 [==============================] - 0s 16ms/step - loss: 10.3523 - mae: 10.3523\n",
            "Epoch 4/100\n",
            "1/1 [==============================] - 0s 13ms/step - loss: 9.6272 - mae: 9.6272\n",
            "Epoch 5/100\n",
            "1/1 [==============================] - 0s 12ms/step - loss: 8.8852 - mae: 8.8852\n",
            "Epoch 6/100\n",
            "1/1 [==============================] - 0s 11ms/step - loss: 8.1248 - mae: 8.1248\n",
            "Epoch 7/100\n",
            "1/1 [==============================] - 0s 11ms/step - loss: 7.3443 - mae: 7.3443\n",
            "Epoch 8/100\n",
            "1/1 [==============================] - 0s 12ms/step - loss: 6.9437 - mae: 6.9437\n",
            "Epoch 9/100\n",
            "1/1 [==============================] - 0s 13ms/step - loss: 7.1886 - mae: 7.1886\n",
            "Epoch 10/100\n",
            "1/1 [==============================] - 0s 14ms/step - loss: 7.4603 - mae: 7.4603\n",
            "Epoch 11/100\n",
            "1/1 [==============================] - 0s 14ms/step - loss: 7.6656 - mae: 7.6656\n",
            "Epoch 12/100\n",
            "1/1 [==============================] - 0s 16ms/step - loss: 7.6900 - mae: 7.6900\n",
            "Epoch 13/100\n",
            "1/1 [==============================] - 0s 11ms/step - loss: 7.5113 - mae: 7.5113\n",
            "Epoch 14/100\n",
            "1/1 [==============================] - 0s 16ms/step - loss: 7.2367 - mae: 7.2367\n",
            "Epoch 15/100\n",
            "1/1 [==============================] - 0s 12ms/step - loss: 6.9925 - mae: 6.9925\n",
            "Epoch 16/100\n",
            "1/1 [==============================] - 0s 10ms/step - loss: 6.7246 - mae: 6.7246\n",
            "Epoch 17/100\n",
            "1/1 [==============================] - 0s 10ms/step - loss: 6.4384 - mae: 6.4384\n",
            "Epoch 18/100\n",
            "1/1 [==============================] - 0s 10ms/step - loss: 6.2963 - mae: 6.2963\n",
            "Epoch 19/100\n",
            "1/1 [==============================] - 0s 10ms/step - loss: 6.2469 - mae: 6.2469\n",
            "Epoch 20/100\n",
            "1/1 [==============================] - 0s 10ms/step - loss: 6.3549 - mae: 6.3549\n",
            "Epoch 21/100\n",
            "1/1 [==============================] - 0s 13ms/step - loss: 6.4235 - mae: 6.4235\n",
            "Epoch 22/100\n",
            "1/1 [==============================] - 0s 12ms/step - loss: 6.3852 - mae: 6.3852\n",
            "Epoch 23/100\n",
            "1/1 [==============================] - 0s 13ms/step - loss: 6.2538 - mae: 6.2538\n",
            "Epoch 24/100\n",
            "1/1 [==============================] - 0s 12ms/step - loss: 6.0397 - mae: 6.0397\n",
            "Epoch 25/100\n",
            "1/1 [==============================] - 0s 14ms/step - loss: 5.7888 - mae: 5.7888\n",
            "Epoch 26/100\n",
            "1/1 [==============================] - 0s 14ms/step - loss: 5.6876 - mae: 5.6876\n",
            "Epoch 27/100\n",
            "1/1 [==============================] - 0s 14ms/step - loss: 5.5834 - mae: 5.5834\n",
            "Epoch 28/100\n",
            "1/1 [==============================] - 0s 14ms/step - loss: 5.5334 - mae: 5.5334\n",
            "Epoch 29/100\n",
            "1/1 [==============================] - 0s 11ms/step - loss: 5.5170 - mae: 5.5170\n",
            "Epoch 30/100\n",
            "1/1 [==============================] - 0s 16ms/step - loss: 5.4533 - mae: 5.4533\n",
            "Epoch 31/100\n",
            "1/1 [==============================] - 0s 13ms/step - loss: 5.3461 - mae: 5.3461\n",
            "Epoch 32/100\n",
            "1/1 [==============================] - 0s 13ms/step - loss: 5.1993 - mae: 5.1993\n",
            "Epoch 33/100\n",
            "1/1 [==============================] - 0s 11ms/step - loss: 5.0165 - mae: 5.0165\n",
            "Epoch 34/100\n",
            "1/1 [==============================] - 0s 15ms/step - loss: 4.9103 - mae: 4.9103\n",
            "Epoch 35/100\n",
            "1/1 [==============================] - 0s 12ms/step - loss: 4.8165 - mae: 4.8165\n",
            "Epoch 36/100\n",
            "1/1 [==============================] - 0s 12ms/step - loss: 4.7155 - mae: 4.7155\n",
            "Epoch 37/100\n",
            "1/1 [==============================] - 0s 14ms/step - loss: 4.6787 - mae: 4.6787\n",
            "Epoch 38/100\n",
            "1/1 [==============================] - 0s 11ms/step - loss: 4.5500 - mae: 4.5500\n",
            "Epoch 39/100\n",
            "1/1 [==============================] - 0s 14ms/step - loss: 4.3407 - mae: 4.3407\n",
            "Epoch 40/100\n",
            "1/1 [==============================] - 0s 13ms/step - loss: 4.1929 - mae: 4.1929\n",
            "Epoch 41/100\n",
            "1/1 [==============================] - 0s 14ms/step - loss: 4.0384 - mae: 4.0384\n",
            "Epoch 42/100\n",
            "1/1 [==============================] - 0s 17ms/step - loss: 3.8830 - mae: 3.8830\n",
            "Epoch 43/100\n",
            "1/1 [==============================] - 0s 14ms/step - loss: 3.7633 - mae: 3.7633\n",
            "Epoch 44/100\n",
            "1/1 [==============================] - 0s 10ms/step - loss: 3.5890 - mae: 3.5890\n",
            "Epoch 45/100\n",
            "1/1 [==============================] - 0s 10ms/step - loss: 3.4097 - mae: 3.4097\n",
            "Epoch 46/100\n",
            "1/1 [==============================] - 0s 12ms/step - loss: 3.2462 - mae: 3.2462\n",
            "Epoch 47/100\n",
            "1/1 [==============================] - 0s 10ms/step - loss: 3.0723 - mae: 3.0723\n",
            "Epoch 48/100\n",
            "1/1 [==============================] - 0s 12ms/step - loss: 2.8879 - mae: 2.8879\n",
            "Epoch 49/100\n",
            "1/1 [==============================] - 0s 14ms/step - loss: 2.6929 - mae: 2.6929\n",
            "Epoch 50/100\n",
            "1/1 [==============================] - 0s 10ms/step - loss: 2.5083 - mae: 2.5083\n",
            "Epoch 51/100\n",
            "1/1 [==============================] - 0s 11ms/step - loss: 2.2593 - mae: 2.2593\n",
            "Epoch 52/100\n",
            "1/1 [==============================] - 0s 11ms/step - loss: 2.0520 - mae: 2.0520\n",
            "Epoch 53/100\n",
            "1/1 [==============================] - 0s 10ms/step - loss: 1.8498 - mae: 1.8498\n",
            "Epoch 54/100\n",
            "1/1 [==============================] - 0s 10ms/step - loss: 1.5735 - mae: 1.5735\n",
            "Epoch 55/100\n",
            "1/1 [==============================] - 0s 10ms/step - loss: 1.3180 - mae: 1.3180\n",
            "Epoch 56/100\n",
            "1/1 [==============================] - 0s 10ms/step - loss: 1.2084 - mae: 1.2084\n",
            "Epoch 57/100\n",
            "1/1 [==============================] - 0s 8ms/step - loss: 0.9015 - mae: 0.9015\n",
            "Epoch 58/100\n",
            "1/1 [==============================] - 0s 9ms/step - loss: 0.5329 - mae: 0.5329\n",
            "Epoch 59/100\n",
            "1/1 [==============================] - 0s 11ms/step - loss: 0.3916 - mae: 0.3916\n",
            "Epoch 60/100\n",
            "1/1 [==============================] - 0s 11ms/step - loss: 0.0623 - mae: 0.0623\n",
            "Epoch 61/100\n",
            "1/1 [==============================] - 0s 11ms/step - loss: 0.3049 - mae: 0.3049\n",
            "Epoch 62/100\n",
            "1/1 [==============================] - 0s 10ms/step - loss: 0.4491 - mae: 0.4491\n",
            "Epoch 63/100\n",
            "1/1 [==============================] - 0s 9ms/step - loss: 0.5846 - mae: 0.5846\n",
            "Epoch 64/100\n",
            "1/1 [==============================] - 0s 10ms/step - loss: 0.6457 - mae: 0.6457\n",
            "Epoch 65/100\n",
            "1/1 [==============================] - 0s 10ms/step - loss: 0.6723 - mae: 0.6723\n",
            "Epoch 66/100\n",
            "1/1 [==============================] - 0s 11ms/step - loss: 0.5945 - mae: 0.5945\n",
            "Epoch 67/100\n",
            "1/1 [==============================] - 0s 10ms/step - loss: 0.6575 - mae: 0.6575\n",
            "Epoch 68/100\n",
            "1/1 [==============================] - 0s 9ms/step - loss: 0.5531 - mae: 0.5531\n",
            "Epoch 69/100\n",
            "1/1 [==============================] - 0s 9ms/step - loss: 0.3480 - mae: 0.3480\n",
            "Epoch 70/100\n",
            "1/1 [==============================] - 0s 8ms/step - loss: 0.3049 - mae: 0.3049\n",
            "Epoch 71/100\n",
            "1/1 [==============================] - 0s 13ms/step - loss: 0.0874 - mae: 0.0874\n",
            "Epoch 72/100\n",
            "1/1 [==============================] - 0s 10ms/step - loss: 0.1363 - mae: 0.1363\n",
            "Epoch 73/100\n",
            "1/1 [==============================] - 0s 9ms/step - loss: 0.3601 - mae: 0.3601\n",
            "Epoch 74/100\n",
            "1/1 [==============================] - 0s 9ms/step - loss: 0.4328 - mae: 0.4328\n",
            "Epoch 75/100\n",
            "1/1 [==============================] - 0s 11ms/step - loss: 0.3312 - mae: 0.3312\n",
            "Epoch 76/100\n",
            "1/1 [==============================] - 0s 10ms/step - loss: 0.4343 - mae: 0.4343\n",
            "Epoch 77/100\n",
            "1/1 [==============================] - 0s 10ms/step - loss: 0.3790 - mae: 0.3790\n",
            "Epoch 78/100\n",
            "1/1 [==============================] - 0s 10ms/step - loss: 0.3063 - mae: 0.3063\n",
            "Epoch 79/100\n",
            "1/1 [==============================] - 0s 10ms/step - loss: 0.2530 - mae: 0.2530\n",
            "Epoch 80/100\n",
            "1/1 [==============================] - 0s 10ms/step - loss: 0.1057 - mae: 0.1057\n",
            "Epoch 81/100\n",
            "1/1 [==============================] - 0s 9ms/step - loss: 0.0422 - mae: 0.0422\n",
            "Epoch 82/100\n",
            "1/1 [==============================] - 0s 9ms/step - loss: 0.1524 - mae: 0.1524\n",
            "Epoch 83/100\n",
            "1/1 [==============================] - 0s 10ms/step - loss: 0.1997 - mae: 0.1997\n",
            "Epoch 84/100\n",
            "1/1 [==============================] - 0s 9ms/step - loss: 0.1549 - mae: 0.1549\n",
            "Epoch 85/100\n",
            "1/1 [==============================] - 0s 10ms/step - loss: 0.1542 - mae: 0.1542\n",
            "Epoch 86/100\n",
            "1/1 [==============================] - 0s 10ms/step - loss: 0.1577 - mae: 0.1577\n",
            "Epoch 87/100\n",
            "1/1 [==============================] - 0s 9ms/step - loss: 0.0353 - mae: 0.0353\n",
            "Epoch 88/100\n",
            "1/1 [==============================] - 0s 11ms/step - loss: 0.1685 - mae: 0.1685\n",
            "Epoch 89/100\n",
            "1/1 [==============================] - 0s 9ms/step - loss: 0.1174 - mae: 0.1174\n",
            "Epoch 90/100\n",
            "1/1 [==============================] - 0s 9ms/step - loss: 0.2863 - mae: 0.2863\n",
            "Epoch 91/100\n",
            "1/1 [==============================] - 0s 9ms/step - loss: 0.2306 - mae: 0.2306\n",
            "Epoch 92/100\n",
            "1/1 [==============================] - 0s 9ms/step - loss: 0.1349 - mae: 0.1349\n",
            "Epoch 93/100\n",
            "1/1 [==============================] - 0s 9ms/step - loss: 0.1508 - mae: 0.1508\n",
            "Epoch 94/100\n",
            "1/1 [==============================] - 0s 9ms/step - loss: 0.1393 - mae: 0.1393\n",
            "Epoch 95/100\n",
            "1/1 [==============================] - 0s 10ms/step - loss: 0.1151 - mae: 0.1151\n",
            "Epoch 96/100\n",
            "1/1 [==============================] - 0s 10ms/step - loss: 0.1695 - mae: 0.1695\n",
            "Epoch 97/100\n",
            "1/1 [==============================] - 0s 10ms/step - loss: 0.1034 - mae: 0.1034\n",
            "Epoch 98/100\n",
            "1/1 [==============================] - 0s 11ms/step - loss: 0.2316 - mae: 0.2316\n",
            "Epoch 99/100\n",
            "1/1 [==============================] - 0s 13ms/step - loss: 0.2277 - mae: 0.2277\n",
            "Epoch 100/100\n",
            "1/1 [==============================] - 0s 12ms/step - loss: 0.0923 - mae: 0.0923\n"
          ]
        },
        {
          "output_type": "execute_result",
          "data": {
            "text/plain": [
              "<keras.src.callbacks.History at 0x78f9fc855990>"
            ]
          },
          "metadata": {},
          "execution_count": 17
        }
      ]
    },
    {
      "cell_type": "code",
      "source": [
        "# predictions\n",
        "model.predict([17.0])"
      ],
      "metadata": {
        "colab": {
          "base_uri": "https://localhost:8080/"
        },
        "id": "YjqkrdzPeEog",
        "outputId": "bd213969-c89a-4851-dc13-33392af5c968"
      },
      "execution_count": 18,
      "outputs": [
        {
          "output_type": "stream",
          "name": "stdout",
          "text": [
            "1/1 [==============================] - 0s 60ms/step\n"
          ]
        },
        {
          "output_type": "execute_result",
          "data": {
            "text/plain": [
              "array([[26.560223]], dtype=float32)"
            ]
          },
          "metadata": {},
          "execution_count": 18
        }
      ]
    },
    {
      "cell_type": "markdown",
      "source": [
        " # Evaluating a Model\n",
        "\n",
        " * Visualize the data\n",
        " * Visualize the model\n",
        " * Visualize the model training\n",
        " * Visualize the predictions"
      ],
      "metadata": {
        "id": "buLWflxAeyEi"
      }
    },
    {
      "cell_type": "code",
      "source": [
        "# Make a bigger dataset\n",
        "X = tf.range(-100, 100, 4)\n",
        "\n",
        "# Create labels\n",
        "y = X + 10\n",
        "y"
      ],
      "metadata": {
        "colab": {
          "base_uri": "https://localhost:8080/"
        },
        "id": "4UaODGbXftUX",
        "outputId": "ce432345-1496-4ec9-b29b-5a94c566fa51"
      },
      "execution_count": 19,
      "outputs": [
        {
          "output_type": "execute_result",
          "data": {
            "text/plain": [
              "<tf.Tensor: shape=(50,), dtype=int32, numpy=\n",
              "array([-90, -86, -82, -78, -74, -70, -66, -62, -58, -54, -50, -46, -42,\n",
              "       -38, -34, -30, -26, -22, -18, -14, -10,  -6,  -2,   2,   6,  10,\n",
              "        14,  18,  22,  26,  30,  34,  38,  42,  46,  50,  54,  58,  62,\n",
              "        66,  70,  74,  78,  82,  86,  90,  94,  98, 102, 106], dtype=int32)>"
            ]
          },
          "metadata": {},
          "execution_count": 19
        }
      ]
    },
    {
      "cell_type": "code",
      "source": [
        "# visualize the dataset\n",
        "plt.scatter(X,y)"
      ],
      "metadata": {
        "colab": {
          "base_uri": "https://localhost:8080/",
          "height": 448
        },
        "id": "nxY4Ato-hhaC",
        "outputId": "7ec49302-6f4e-42bf-c3c7-f97048f409c3"
      },
      "execution_count": 20,
      "outputs": [
        {
          "output_type": "execute_result",
          "data": {
            "text/plain": [
              "<matplotlib.collections.PathCollection at 0x78f9907aa320>"
            ]
          },
          "metadata": {},
          "execution_count": 20
        },
        {
          "output_type": "display_data",
          "data": {
            "text/plain": [
              "<Figure size 640x480 with 1 Axes>"
            ],
            "image/png": "[encoded data removed]"
          },
          "metadata": {}
        }
      ]
    },
    {
      "cell_type": "code",
      "source": [
        "from sklearn.model_selection import train_test_split\n",
        "\n",
        "X_train = X[:40]\n",
        "y_train = y[:40]\n",
        "\n",
        "X_test = X[40:]\n",
        "y_test = y[40:]\n",
        "\n",
        "len(X_train), len(X_test), len(y_train), len(y_test)"
      ],
      "metadata": {
        "colab": {
          "base_uri": "https://localhost:8080/"
        },
        "id": "73LehK1jhlpk",
        "outputId": "68572782-9a7a-4e82-b33a-d08dd5394f98"
      },
      "execution_count": 21,
      "outputs": [
        {
          "output_type": "execute_result",
          "data": {
            "text/plain": [
              "(40, 10, 40, 10)"
            ]
          },
          "metadata": {},
          "execution_count": 21
        }
      ]
    },
    {
      "cell_type": "markdown",
      "source": [
        "## Visualize the data"
      ],
      "metadata": {
        "id": "C8VR_ibMh47f"
      }
    },
    {
      "cell_type": "code",
      "source": [
        "plt.figure(figsize=(10,7))\n",
        "\n",
        "plt.scatter(X_train, y_train, c=\"b\", label=\"training data\")\n",
        "plt.scatter(X_test, y_test, c=\"g\", label=\"testing data\")"
      ],
      "metadata": {
        "colab": {
          "base_uri": "https://localhost:8080/",
          "height": 486
        },
        "id": "loPMnE_dmnag",
        "outputId": "649c785d-5a7e-46b9-e8c4-c4ef29e09501"
      },
      "execution_count": 22,
      "outputs": [
        {
          "output_type": "execute_result",
          "data": {
            "text/plain": [
              "<matplotlib.collections.PathCollection at 0x78f9901f1ae0>"
            ]
          },
          "metadata": {},
          "execution_count": 22
        },
        {
          "output_type": "display_data",
          "data": {
            "text/plain": [
              "<Figure size 1000x700 with 1 Axes>"
            ],
            "image/png": "[encoded data removed]"
          },
          "metadata": {}
        }
      ]
    },
    {
      "cell_type": "code",
      "source": [
        "# Build model using this data\n",
        "\n",
        "# Create the model\n",
        "model = tf.keras.Sequential([\n",
        "    tf.keras.layers.Dense(1)\n",
        "])\n",
        "\n",
        "# Compile the model\n",
        "model.compile(loss = tf.keras.losses.mae,\n",
        "              optimizer=tf.keras.optimizers.SGD(),\n",
        "              metrics=[\"mae\"])\n",
        "\n",
        "# fit the model\n",
        "# model.fit(tf.expand_dims(X_train, axis=-1), y_train, epochs=100)"
      ],
      "metadata": {
        "id": "bobPDGmBm0fD"
      },
      "execution_count": 23,
      "outputs": []
    },
    {
      "cell_type": "code",
      "source": [
        "# model.summary() won't work until we fit/build the model"
      ],
      "metadata": {
        "id": "Yt37RwSqow5_"
      },
      "execution_count": 24,
      "outputs": []
    },
    {
      "cell_type": "markdown",
      "source": [
        "## Visualize the model (without fitting it)"
      ],
      "metadata": {
        "id": "mZ06V0tdncnM"
      }
    },
    {
      "cell_type": "code",
      "source": [
        "# Let's create a model which builds automatically by defining the input_shape argument\n",
        "tf.random.set_seed(42)\n",
        "\n",
        "# create model\n",
        "model = tf.keras.Sequential([\n",
        "    tf.keras.layers.Dense(10, input_shape=[1], name=\"input_layer\"),\n",
        "    tf.keras.layers.Dense(1, name=\"output_layer\")\n",
        "], name = \"model\")\n",
        "\n",
        "\n",
        "# Compile the model\n",
        "model.compile(loss = tf.keras.losses.mae,\n",
        "              optimizer = tf.keras.optimizers.SGD(),\n",
        "              metrics=[\"mae\"])"
      ],
      "metadata": {
        "id": "uYejq1oGncoV"
      },
      "execution_count": 25,
      "outputs": []
    },
    {
      "cell_type": "code",
      "source": [
        "model.summary()"
      ],
      "metadata": {
        "colab": {
          "base_uri": "https://localhost:8080/"
        },
        "id": "oWLgATdeoE0J",
        "outputId": "abd0dd0a-ff5b-4bb7-d7d8-2688bca83374"
      },
      "execution_count": 26,
      "outputs": [
        {
          "output_type": "stream",
          "name": "stdout",
          "text": [
            "Model: \"model\"\n",
            "_________________________________________________________________\n",
            " Layer (type)                Output Shape              Param #   \n",
            "=================================================================\n",
            " input_layer (Dense)         (None, 10)                20        \n",
            "                                                                 \n",
            " output_layer (Dense)        (None, 1)                 11        \n",
            "                                                                 \n",
            "=================================================================\n",
            "Total params: 31 (124.00 Byte)\n",
            "Trainable params: 31 (124.00 Byte)\n",
            "Non-trainable params: 0 (0.00 Byte)\n",
            "_________________________________________________________________\n"
          ]
        }
      ]
    },
    {
      "cell_type": "markdown",
      "source": [
        "* total params - total number of parameters in the mdoel\n",
        "* trainable params - these are the parameters (patterns) the model can update as it trains\n",
        "(remember that when we use pre-built models, we will/may see different numbers of trainable and non-trainable params)\n",
        "* non-trainable params - the params that are not updated during training. Happens during transfer learning.\n"
      ],
      "metadata": {
        "id": "8npAFcFcpsEU"
      }
    },
    {
      "cell_type": "code",
      "source": [
        " # fitting the model\n",
        "model.fit(tf.expand_dims(X_train, axis=-1), y_train, epochs=100, verbose=0)"
      ],
      "metadata": {
        "colab": {
          "base_uri": "https://localhost:8080/"
        },
        "id": "53QodoBIq4ev",
        "outputId": "5821cb64-47c6-499b-a1a1-69ea93e0cc47"
      },
      "execution_count": 27,
      "outputs": [
        {
          "output_type": "execute_result",
          "data": {
            "text/plain": [
              "<keras.src.callbacks.History at 0x78f976f7dd50>"
            ]
          },
          "metadata": {},
          "execution_count": 27
        }
      ]
    },
    {
      "cell_type": "code",
      "source": [
        "# get the model summary\n",
        "\n",
        "model.summary()"
      ],
      "metadata": {
        "colab": {
          "base_uri": "https://localhost:8080/"
        },
        "id": "OvH7y05_vYsr",
        "outputId": "f24ce9c4-1350-40b3-fa1e-be8ec34b72ce"
      },
      "execution_count": 28,
      "outputs": [
        {
          "output_type": "stream",
          "name": "stdout",
          "text": [
            "Model: \"model\"\n",
            "_________________________________________________________________\n",
            " Layer (type)                Output Shape              Param #   \n",
            "=================================================================\n",
            " input_layer (Dense)         (None, 10)                20        \n",
            "                                                                 \n",
            " output_layer (Dense)        (None, 1)                 11        \n",
            "                                                                 \n",
            "=================================================================\n",
            "Total params: 31 (124.00 Byte)\n",
            "Trainable params: 31 (124.00 Byte)\n",
            "Non-trainable params: 0 (0.00 Byte)\n",
            "_________________________________________________________________\n"
          ]
        }
      ]
    },
    {
      "cell_type": "code",
      "source": [
        "from tensorflow.keras.utils import plot_model\n",
        "\n",
        "plot_model(model, show_shapes=True)"
      ],
      "metadata": {
        "colab": {
          "base_uri": "https://localhost:8080/",
          "height": 312
        },
        "id": "2ZzUr75xvooz",
        "outputId": "7274d1cd-1710-43bf-f1cf-fc98144f6299"
      },
      "execution_count": 29,
      "outputs": [
        {
          "output_type": "execute_result",
          "data": {
            "image/png": "[encoded data removed]",
            "text/plain": [
              "<IPython.core.display.Image object>"
            ]
          },
          "metadata": {},
          "execution_count": 29
        }
      ]
    },
    {
      "cell_type": "markdown",
      "source": [
        "### Visualizing Model Predictions"
      ],
      "metadata": {
        "id": "NTv4l8Dzv6Y6"
      }
    },
    {
      "cell_type": "code",
      "source": [
        "# make predictions\n",
        "y_pred = model.predict(X_test)\n",
        "y_pred"
      ],
      "metadata": {
        "colab": {
          "base_uri": "https://localhost:8080/"
        },
        "id": "ivcBbUSdwwoR",
        "outputId": "3f1a8979-f40b-40b5-d73c-2c79d571ecbc"
      },
      "execution_count": 30,
      "outputs": [
        {
          "output_type": "stream",
          "name": "stderr",
          "text": [
            "WARNING:tensorflow:5 out of the last 5 calls to <function Model.make_predict_function.<locals>.predict_function at 0x78f979740700> triggered tf.function retracing. Tracing is expensive and the excessive number of tracings could be due to (1) creating @tf.function repeatedly in a loop, (2) passing tensors with different shapes, (3) passing Python objects instead of tensors. For (1), please define your @tf.function outside of the loop. For (2), @tf.function has reduce_retracing=True option that can avoid unnecessary retracing. For (3), please refer to https://www.tensorflow.org/guide/function#controlling_retracing and https://www.tensorflow.org/api_docs/python/tf/function for  more details.\n"
          ]
        },
        {
          "output_type": "stream",
          "name": "stdout",
          "text": [
            "1/1 [==============================] - 0s 50ms/step\n"
          ]
        },
        {
          "output_type": "execute_result",
          "data": {
            "text/plain": [
              "array([[ 91.26591 ],\n",
              "       [ 97.22563 ],\n",
              "       [103.18536 ],\n",
              "       [109.14509 ],\n",
              "       [115.10482 ],\n",
              "       [121.064545],\n",
              "       [127.02427 ],\n",
              "       [132.984   ],\n",
              "       [138.94371 ],\n",
              "       [144.90344 ]], dtype=float32)"
            ]
          },
          "metadata": {},
          "execution_count": 30
        }
      ]
    },
    {
      "cell_type": "code",
      "source": [
        "y_test"
      ],
      "metadata": {
        "colab": {
          "base_uri": "https://localhost:8080/"
        },
        "id": "URQf9EEyxFdW",
        "outputId": "d535f017-fc01-4ce2-f178-928b71b6e79b"
      },
      "execution_count": 31,
      "outputs": [
        {
          "output_type": "execute_result",
          "data": {
            "text/plain": [
              "<tf.Tensor: shape=(10,), dtype=int32, numpy=array([ 70,  74,  78,  82,  86,  90,  94,  98, 102, 106], dtype=int32)>"
            ]
          },
          "metadata": {},
          "execution_count": 31
        }
      ]
    },
    {
      "cell_type": "code",
      "source": [
        "# Plotting Function\n",
        "def plot_predictions(train_data = X_train,\n",
        "                     train_labels = y_train,\n",
        "                     test_data = X_test,\n",
        "                     test_labels =y_test,\n",
        "                     predictions = y_pred):\n",
        "  plt.figure(figsize=(10,7))\n",
        "\n",
        "  plt.scatter(train_data, train_labels, c=\"b\", label=\"training data\")\n",
        "  plt.scatter(test_data, test_labels, c=\"g\", label=\"testing data\")\n",
        "  plt.scatter(test_data, predictions, c=\"r\", label=\"Predictions\")\n",
        "  plt.legend()"
      ],
      "metadata": {
        "id": "Q10AjpnQxWR5"
      },
      "execution_count": 32,
      "outputs": []
    },
    {
      "cell_type": "code",
      "source": [
        "plot_predictions(X_train, y_train, X_test, y_test, y_pred)"
      ],
      "metadata": {
        "colab": {
          "base_uri": "https://localhost:8080/",
          "height": 463
        },
        "id": "_JGOLCDmyTGS",
        "outputId": "d6d086cc-1947-415a-f3f6-f8dba7bd08e3"
      },
      "execution_count": 33,
      "outputs": [
        {
          "output_type": "display_data",
          "data": {
            "text/plain": [
              "<Figure size 1000x700 with 1 Axes>"
            ],
            "image/png": "[encoded data removed]"
          },
          "metadata": {}
        }
      ]
    },
    {
      "cell_type": "markdown",
      "source": [
        "### Evaluating Model Predicitons with Regression Evaluation metrics\n",
        "* mae\n",
        "* mse\n",
        "* mape\n",
        "* R2"
      ],
      "metadata": {
        "id": "4GWQyVulyVbE"
      }
    },
    {
      "cell_type": "code",
      "source": [
        "# Evaluate the model on the test (since we set metric as \"mae\",\n",
        "# we get mae for both the data samples)\n",
        "model.evaluate(X_test, y_test)"
      ],
      "metadata": {
        "colab": {
          "base_uri": "https://localhost:8080/"
        },
        "id": "IjPwdqwkysza",
        "outputId": "545d87cd-be34-4c16-8f3d-65be959c9b65"
      },
      "execution_count": 34,
      "outputs": [
        {
          "output_type": "stream",
          "name": "stdout",
          "text": [
            "1/1 [==============================] - 0s 125ms/step - loss: 30.0847 - mae: 30.0847\n"
          ]
        },
        {
          "output_type": "execute_result",
          "data": {
            "text/plain": [
              "[30.08467674255371, 30.08467674255371]"
            ]
          },
          "metadata": {},
          "execution_count": 34
        }
      ]
    },
    {
      "cell_type": "code",
      "source": [
        "# Calaculate MAE\n",
        "n = len(X_test)\n",
        "\n",
        "mae = sum((X_test - y_test)^2)/n\n",
        "mae"
      ],
      "metadata": {
        "colab": {
          "base_uri": "https://localhost:8080/"
        },
        "id": "-BWUiBTXzrYd",
        "outputId": "62499a19-0833-44d3-b8d2-ffa52e5a9a1f"
      },
      "execution_count": 35,
      "outputs": [
        {
          "output_type": "execute_result",
          "data": {
            "text/plain": [
              "<tf.Tensor: shape=(), dtype=float64, numpy=-12.0>"
            ]
          },
          "metadata": {},
          "execution_count": 35
        }
      ]
    },
    {
      "cell_type": "code",
      "source": [
        "tf.constant(y_pred)"
      ],
      "metadata": {
        "colab": {
          "base_uri": "https://localhost:8080/"
        },
        "id": "znzTqVRp1fiD",
        "outputId": "c2d90e8d-88b9-4dc8-e267-612fba5a8262"
      },
      "execution_count": 36,
      "outputs": [
        {
          "output_type": "execute_result",
          "data": {
            "text/plain": [
              "<tf.Tensor: shape=(10, 1), dtype=float32, numpy=\n",
              "array([[ 91.26591 ],\n",
              "       [ 97.22563 ],\n",
              "       [103.18536 ],\n",
              "       [109.14509 ],\n",
              "       [115.10482 ],\n",
              "       [121.064545],\n",
              "       [127.02427 ],\n",
              "       [132.984   ],\n",
              "       [138.94371 ],\n",
              "       [144.90344 ]], dtype=float32)>"
            ]
          },
          "metadata": {},
          "execution_count": 36
        }
      ]
    },
    {
      "cell_type": "code",
      "source": [
        "# this is incorrect because even though we converted y_pred to tensor, its shape is different\n",
        "mae = tf.metrics.mean_absolute_error(y_true = y_test,\n",
        "                                     y_pred = tf.constant(y_pred))\n",
        "mae"
      ],
      "metadata": {
        "colab": {
          "base_uri": "https://localhost:8080/"
        },
        "id": "PRGzolwz0Ox3",
        "outputId": "49283b4b-1ed3-4532-e6c6-c6379711f778"
      },
      "execution_count": 37,
      "outputs": [
        {
          "output_type": "execute_result",
          "data": {
            "text/plain": [
              "<tf.Tensor: shape=(10,), dtype=float32, numpy=\n",
              "array([10.253181, 12.090253, 15.748291, 21.145088, 27.104822, 33.064545,\n",
              "       39.02427 , 44.983994, 50.94371 , 56.903442], dtype=float32)>"
            ]
          },
          "metadata": {},
          "execution_count": 37
        }
      ]
    },
    {
      "cell_type": "code",
      "source": [
        "# change the shape of y_pred\n",
        "tf.squeeze(y_pred)"
      ],
      "metadata": {
        "colab": {
          "base_uri": "https://localhost:8080/"
        },
        "id": "0U5ukkda0SNj",
        "outputId": "d5f958b9-90c3-4a89-a52e-d14c4cea1baa"
      },
      "execution_count": 38,
      "outputs": [
        {
          "output_type": "execute_result",
          "data": {
            "text/plain": [
              "<tf.Tensor: shape=(10,), dtype=float32, numpy=\n",
              "array([ 91.26591 ,  97.22563 , 103.18536 , 109.14509 , 115.10482 ,\n",
              "       121.064545, 127.02427 , 132.984   , 138.94371 , 144.90344 ],\n",
              "      dtype=float32)>"
            ]
          },
          "metadata": {},
          "execution_count": 38
        }
      ]
    },
    {
      "cell_type": "code",
      "source": [
        "# calculate mae\n",
        "mae = tf.metrics.mean_absolute_error(y_test,\n",
        "                                     y_pred = tf.squeeze(y_pred))\n",
        "\n",
        "mae"
      ],
      "metadata": {
        "colab": {
          "base_uri": "https://localhost:8080/"
        },
        "id": "QIJb4-Og17pb",
        "outputId": "0cbf008c-a6ba-4b74-9ab4-d1ae66399a9a"
      },
      "execution_count": 39,
      "outputs": [
        {
          "output_type": "execute_result",
          "data": {
            "text/plain": [
              "<tf.Tensor: shape=(), dtype=float32, numpy=30.084677>"
            ]
          },
          "metadata": {},
          "execution_count": 39
        }
      ]
    },
    {
      "cell_type": "code",
      "source": [
        "# calculate the mse\n",
        "mse = tf.metrics.mean_squared_error(y_test,\n",
        "                                    y_pred = tf.squeeze(y_pred))\n",
        "mse"
      ],
      "metadata": {
        "colab": {
          "base_uri": "https://localhost:8080/"
        },
        "id": "zIhtbpGH2GDX",
        "outputId": "48145635-c289-4334-f7fd-b232551467e4"
      },
      "execution_count": 40,
      "outputs": [
        {
          "output_type": "execute_result",
          "data": {
            "text/plain": [
              "<tf.Tensor: shape=(), dtype=float32, numpy=936.7721>"
            ]
          },
          "metadata": {},
          "execution_count": 40
        }
      ]
    },
    {
      "cell_type": "code",
      "source": [
        "# make functions to reuse mae and mse\n",
        "def mae(y_true, y_pred):\n",
        "  return tf.metrics.mean_absolute_error(y_true = X_test,\n",
        "                                        y_pred = tf.squeeze(y_pred))\n",
        "\n",
        "def mse(y_true, y_pred):\n",
        "  return tf.metrics.mean_squared_error(y_true = y_true,\n",
        "                                       y_pred = tf.squeeze(y_pred))"
      ],
      "metadata": {
        "id": "ws3aX_AN2Qmw"
      },
      "execution_count": 43,
      "outputs": []
    },
    {
      "cell_type": "code",
      "source": [],
      "metadata": {
        "id": "duqollVx3Y0Q"
      },
      "execution_count": 42,
      "outputs": []
    },
    {
      "cell_type": "markdown",
      "source": [
        "# Running Experiments to Improve Our Model\n",
        "\n",
        "How to get better model performance\n",
        "- Get more data\n",
        "- Make your model larger\n",
        "- Train for longer\n",
        "\n",
        "\n",
        "We will run 3 experiments\n",
        "- `model 1` - same as original model, 1 layer, trained for 100 epochs\n",
        "- `model 2` - 2 layers, trained for 100 epochs\n",
        "- `model 3` - 2 layers, trained for 500 epochs"
      ],
      "metadata": {
        "id": "TiJr9Svx_MLV"
      }
    },
    {
      "cell_type": "code",
      "source": [
        "X_train, y_train"
      ],
      "metadata": {
        "colab": {
          "base_uri": "https://localhost:8080/"
        },
        "id": "WpX37Cp__PaG",
        "outputId": "4a0c273c-4cb3-47d9-9ae0-dad0b7792e54"
      },
      "execution_count": 46,
      "outputs": [
        {
          "output_type": "execute_result",
          "data": {
            "text/plain": [
              "(<tf.Tensor: shape=(40,), dtype=int32, numpy=\n",
              " array([-100,  -96,  -92,  -88,  -84,  -80,  -76,  -72,  -68,  -64,  -60,\n",
              "         -56,  -52,  -48,  -44,  -40,  -36,  -32,  -28,  -24,  -20,  -16,\n",
              "         -12,   -8,   -4,    0,    4,    8,   12,   16,   20,   24,   28,\n",
              "          32,   36,   40,   44,   48,   52,   56], dtype=int32)>,\n",
              " <tf.Tensor: shape=(40,), dtype=int32, numpy=\n",
              " array([-90, -86, -82, -78, -74, -70, -66, -62, -58, -54, -50, -46, -42,\n",
              "        -38, -34, -30, -26, -22, -18, -14, -10,  -6,  -2,   2,   6,  10,\n",
              "         14,  18,  22,  26,  30,  34,  38,  42,  46,  50,  54,  58,  62,\n",
              "         66], dtype=int32)>)"
            ]
          },
          "metadata": {},
          "execution_count": 46
        }
      ]
    },
    {
      "cell_type": "markdown",
      "source": [
        "## Build Model 1"
      ],
      "metadata": {
        "id": "ClZwXACOG3Xw"
      }
    },
    {
      "cell_type": "code",
      "source": [
        "# set the random seed\n",
        "tf.random.set_seed(23)\n",
        "\n",
        "# 1. create the model\n",
        "model_1 = tf.keras.Sequential([\n",
        "    tf.keras.layers.Dense(1, input_shape=[1])\n",
        "])\n",
        "\n",
        "\n",
        "\n",
        "# 2. Compile the model\n",
        "model_1.compile(loss = tf.keras.losses.mae,\n",
        "              optimizer = tf.keras.optimizers.SGD(),\n",
        "              metrics = ['mae'])\n",
        "\n",
        "# 3. Fit the model\n",
        "model_1.fit(X_train, y_train, epochs=100)"
      ],
      "metadata": {
        "id": "bQLo7qtW__M_",
        "colab": {
          "base_uri": "https://localhost:8080/"
        },
        "outputId": "6fa55936-bf36-46de-8bbf-0a6a35f7bcf7"
      },
      "execution_count": 58,
      "outputs": [
        {
          "output_type": "stream",
          "name": "stdout",
          "text": [
            "Epoch 1/100\n",
            "2/2 [==============================] - 1s 29ms/step - loss: 80.6711 - mae: 80.6711\n",
            "Epoch 2/100\n",
            "2/2 [==============================] - 0s 10ms/step - loss: 44.8254 - mae: 44.8254\n",
            "Epoch 3/100\n",
            "2/2 [==============================] - 0s 10ms/step - loss: 12.8335 - mae: 12.8335\n",
            "Epoch 4/100\n",
            "2/2 [==============================] - 0s 11ms/step - loss: 13.2414 - mae: 13.2414\n",
            "Epoch 5/100\n",
            "2/2 [==============================] - 0s 11ms/step - loss: 17.5015 - mae: 17.5015\n",
            "Epoch 6/100\n",
            "2/2 [==============================] - 0s 13ms/step - loss: 11.0722 - mae: 11.0722\n",
            "Epoch 7/100\n",
            "2/2 [==============================] - 0s 13ms/step - loss: 15.2960 - mae: 15.2960\n",
            "Epoch 8/100\n",
            "2/2 [==============================] - 0s 16ms/step - loss: 9.5175 - mae: 9.5175\n",
            "Epoch 9/100\n",
            "2/2 [==============================] - 0s 13ms/step - loss: 9.0077 - mae: 9.0077\n",
            "Epoch 10/100\n",
            "2/2 [==============================] - 0s 12ms/step - loss: 11.2606 - mae: 11.2606\n",
            "Epoch 11/100\n",
            "2/2 [==============================] - 0s 12ms/step - loss: 14.2632 - mae: 14.2632\n",
            "Epoch 12/100\n",
            "2/2 [==============================] - 0s 13ms/step - loss: 13.0862 - mae: 13.0862\n",
            "Epoch 13/100\n",
            "2/2 [==============================] - 0s 14ms/step - loss: 12.3634 - mae: 12.3634\n",
            "Epoch 14/100\n",
            "2/2 [==============================] - 0s 17ms/step - loss: 9.2856 - mae: 9.2856\n",
            "Epoch 15/100\n",
            "2/2 [==============================] - 0s 10ms/step - loss: 11.4483 - mae: 11.4483\n",
            "Epoch 16/100\n",
            "2/2 [==============================] - 0s 20ms/step - loss: 15.8393 - mae: 15.8393\n",
            "Epoch 17/100\n",
            "2/2 [==============================] - 0s 13ms/step - loss: 18.1523 - mae: 18.1523\n",
            "Epoch 18/100\n",
            "2/2 [==============================] - 0s 18ms/step - loss: 11.3983 - mae: 11.3983\n",
            "Epoch 19/100\n",
            "2/2 [==============================] - 0s 17ms/step - loss: 10.0049 - mae: 10.0049\n",
            "Epoch 20/100\n",
            "2/2 [==============================] - 0s 14ms/step - loss: 10.2208 - mae: 10.2208\n",
            "Epoch 21/100\n",
            "2/2 [==============================] - 0s 12ms/step - loss: 12.4817 - mae: 12.4817\n",
            "Epoch 22/100\n",
            "2/2 [==============================] - 0s 14ms/step - loss: 11.4723 - mae: 11.4723\n",
            "Epoch 23/100\n",
            "2/2 [==============================] - 0s 18ms/step - loss: 8.4361 - mae: 8.4361\n",
            "Epoch 24/100\n",
            "2/2 [==============================] - 0s 10ms/step - loss: 8.9520 - mae: 8.9520\n",
            "Epoch 25/100\n",
            "2/2 [==============================] - 0s 11ms/step - loss: 10.1461 - mae: 10.1461\n",
            "Epoch 26/100\n",
            "2/2 [==============================] - 0s 14ms/step - loss: 15.0467 - mae: 15.0467\n",
            "Epoch 27/100\n",
            "2/2 [==============================] - 0s 16ms/step - loss: 13.6555 - mae: 13.6555\n",
            "Epoch 28/100\n",
            "2/2 [==============================] - 0s 17ms/step - loss: 8.9103 - mae: 8.9103\n",
            "Epoch 29/100\n",
            "2/2 [==============================] - 0s 8ms/step - loss: 8.6654 - mae: 8.6654\n",
            "Epoch 30/100\n",
            "2/2 [==============================] - 0s 9ms/step - loss: 11.3107 - mae: 11.3107\n",
            "Epoch 31/100\n",
            "2/2 [==============================] - 0s 10ms/step - loss: 12.0959 - mae: 12.0959\n",
            "Epoch 32/100\n",
            "2/2 [==============================] - 0s 10ms/step - loss: 9.8355 - mae: 9.8355\n",
            "Epoch 33/100\n",
            "2/2 [==============================] - 0s 9ms/step - loss: 10.4580 - mae: 10.4580\n",
            "Epoch 34/100\n",
            "2/2 [==============================] - 0s 9ms/step - loss: 7.8724 - mae: 7.8724\n",
            "Epoch 35/100\n",
            "2/2 [==============================] - 0s 9ms/step - loss: 11.0068 - mae: 11.0068\n",
            "Epoch 36/100\n",
            "2/2 [==============================] - 0s 9ms/step - loss: 14.2902 - mae: 14.2902\n",
            "Epoch 37/100\n",
            "2/2 [==============================] - 0s 11ms/step - loss: 8.8118 - mae: 8.8118\n",
            "Epoch 38/100\n",
            "2/2 [==============================] - 0s 10ms/step - loss: 13.0242 - mae: 13.0242\n",
            "Epoch 39/100\n",
            "2/2 [==============================] - 0s 10ms/step - loss: 20.0571 - mae: 20.0571\n",
            "Epoch 40/100\n",
            "2/2 [==============================] - 0s 10ms/step - loss: 7.2884 - mae: 7.2884\n",
            "Epoch 41/100\n",
            "2/2 [==============================] - 0s 11ms/step - loss: 12.2472 - mae: 12.2472\n",
            "Epoch 42/100\n",
            "2/2 [==============================] - 0s 10ms/step - loss: 11.1223 - mae: 11.1223\n",
            "Epoch 43/100\n",
            "2/2 [==============================] - 0s 15ms/step - loss: 9.6164 - mae: 9.6164\n",
            "Epoch 44/100\n",
            "2/2 [==============================] - 0s 11ms/step - loss: 10.4883 - mae: 10.4883\n",
            "Epoch 45/100\n",
            "2/2 [==============================] - 0s 10ms/step - loss: 12.1073 - mae: 12.1073\n",
            "Epoch 46/100\n",
            "2/2 [==============================] - 0s 10ms/step - loss: 17.0139 - mae: 17.0139\n",
            "Epoch 47/100\n",
            "2/2 [==============================] - 0s 11ms/step - loss: 8.8963 - mae: 8.8963\n",
            "Epoch 48/100\n",
            "2/2 [==============================] - 0s 10ms/step - loss: 15.9601 - mae: 15.9601\n",
            "Epoch 49/100\n",
            "2/2 [==============================] - 0s 10ms/step - loss: 10.4256 - mae: 10.4256\n",
            "Epoch 50/100\n",
            "2/2 [==============================] - 0s 10ms/step - loss: 9.3068 - mae: 9.3068\n",
            "Epoch 51/100\n",
            "2/2 [==============================] - 0s 11ms/step - loss: 7.6741 - mae: 7.6741\n",
            "Epoch 52/100\n",
            "2/2 [==============================] - 0s 12ms/step - loss: 9.9264 - mae: 9.9264\n",
            "Epoch 53/100\n",
            "2/2 [==============================] - 0s 10ms/step - loss: 7.8767 - mae: 7.8767\n",
            "Epoch 54/100\n",
            "2/2 [==============================] - 0s 16ms/step - loss: 10.6223 - mae: 10.6223\n",
            "Epoch 55/100\n",
            "2/2 [==============================] - 0s 11ms/step - loss: 9.2472 - mae: 9.2472\n",
            "Epoch 56/100\n",
            "2/2 [==============================] - 0s 11ms/step - loss: 10.0260 - mae: 10.0260\n",
            "Epoch 57/100\n",
            "2/2 [==============================] - 0s 9ms/step - loss: 10.7759 - mae: 10.7759\n",
            "Epoch 58/100\n",
            "2/2 [==============================] - 0s 9ms/step - loss: 8.9648 - mae: 8.9648\n",
            "Epoch 59/100\n",
            "2/2 [==============================] - 0s 9ms/step - loss: 10.6581 - mae: 10.6581\n",
            "Epoch 60/100\n",
            "2/2 [==============================] - 0s 9ms/step - loss: 11.3335 - mae: 11.3335\n",
            "Epoch 61/100\n",
            "2/2 [==============================] - 0s 13ms/step - loss: 11.8559 - mae: 11.8559\n",
            "Epoch 62/100\n",
            "2/2 [==============================] - 0s 7ms/step - loss: 9.9505 - mae: 9.9505\n",
            "Epoch 63/100\n",
            "2/2 [==============================] - 0s 6ms/step - loss: 16.7856 - mae: 16.7856\n",
            "Epoch 64/100\n",
            "2/2 [==============================] - 0s 7ms/step - loss: 8.4506 - mae: 8.4506\n",
            "Epoch 65/100\n",
            "2/2 [==============================] - 0s 7ms/step - loss: 9.0260 - mae: 9.0260\n",
            "Epoch 66/100\n",
            "2/2 [==============================] - 0s 7ms/step - loss: 10.5506 - mae: 10.5506\n",
            "Epoch 67/100\n",
            "2/2 [==============================] - 0s 7ms/step - loss: 15.9425 - mae: 15.9425\n",
            "Epoch 68/100\n",
            "2/2 [==============================] - 0s 7ms/step - loss: 8.7258 - mae: 8.7258\n",
            "Epoch 69/100\n",
            "2/2 [==============================] - 0s 7ms/step - loss: 8.2916 - mae: 8.2916\n",
            "Epoch 70/100\n",
            "2/2 [==============================] - 0s 7ms/step - loss: 13.5995 - mae: 13.5995\n",
            "Epoch 71/100\n",
            "2/2 [==============================] - 0s 10ms/step - loss: 12.0058 - mae: 12.0058\n",
            "Epoch 72/100\n",
            "2/2 [==============================] - 0s 7ms/step - loss: 11.6233 - mae: 11.6233\n",
            "Epoch 73/100\n",
            "2/2 [==============================] - 0s 12ms/step - loss: 6.9454 - mae: 6.9454\n",
            "Epoch 74/100\n",
            "2/2 [==============================] - 0s 9ms/step - loss: 7.4551 - mae: 7.4551\n",
            "Epoch 75/100\n",
            "2/2 [==============================] - 0s 10ms/step - loss: 11.3128 - mae: 11.3128\n",
            "Epoch 76/100\n",
            "2/2 [==============================] - 0s 7ms/step - loss: 12.3656 - mae: 12.3656\n",
            "Epoch 77/100\n",
            "2/2 [==============================] - 0s 7ms/step - loss: 16.1510 - mae: 16.1510\n",
            "Epoch 78/100\n",
            "2/2 [==============================] - 0s 7ms/step - loss: 8.5611 - mae: 8.5611\n",
            "Epoch 79/100\n",
            "2/2 [==============================] - 0s 7ms/step - loss: 11.5848 - mae: 11.5848\n",
            "Epoch 80/100\n",
            "2/2 [==============================] - 0s 7ms/step - loss: 14.3693 - mae: 14.3693\n",
            "Epoch 81/100\n",
            "2/2 [==============================] - 0s 8ms/step - loss: 12.3242 - mae: 12.3242\n",
            "Epoch 82/100\n",
            "2/2 [==============================] - 0s 8ms/step - loss: 9.3577 - mae: 9.3577\n",
            "Epoch 83/100\n",
            "2/2 [==============================] - 0s 7ms/step - loss: 8.3486 - mae: 8.3486\n",
            "Epoch 84/100\n",
            "2/2 [==============================] - 0s 7ms/step - loss: 9.5101 - mae: 9.5101\n",
            "Epoch 85/100\n",
            "2/2 [==============================] - 0s 8ms/step - loss: 18.6536 - mae: 18.6536\n",
            "Epoch 86/100\n",
            "2/2 [==============================] - 0s 6ms/step - loss: 8.6341 - mae: 8.6341\n",
            "Epoch 87/100\n",
            "2/2 [==============================] - 0s 6ms/step - loss: 13.3839 - mae: 13.3839\n",
            "Epoch 88/100\n",
            "2/2 [==============================] - 0s 6ms/step - loss: 12.5366 - mae: 12.5366\n",
            "Epoch 89/100\n",
            "2/2 [==============================] - 0s 7ms/step - loss: 7.3887 - mae: 7.3887\n",
            "Epoch 90/100\n",
            "2/2 [==============================] - 0s 7ms/step - loss: 8.8766 - mae: 8.8766\n",
            "Epoch 91/100\n",
            "2/2 [==============================] - 0s 6ms/step - loss: 10.6398 - mae: 10.6398\n",
            "Epoch 92/100\n",
            "2/2 [==============================] - 0s 6ms/step - loss: 16.5415 - mae: 16.5415\n",
            "Epoch 93/100\n",
            "2/2 [==============================] - 0s 7ms/step - loss: 7.3946 - mae: 7.3946\n",
            "Epoch 94/100\n",
            "2/2 [==============================] - 0s 7ms/step - loss: 11.5370 - mae: 11.5370\n",
            "Epoch 95/100\n",
            "2/2 [==============================] - 0s 6ms/step - loss: 8.8669 - mae: 8.8669\n",
            "Epoch 96/100\n",
            "2/2 [==============================] - 0s 7ms/step - loss: 8.6171 - mae: 8.6171\n",
            "Epoch 97/100\n",
            "2/2 [==============================] - 0s 7ms/step - loss: 9.3088 - mae: 9.3088\n",
            "Epoch 98/100\n",
            "2/2 [==============================] - 0s 7ms/step - loss: 8.8322 - mae: 8.8322\n",
            "Epoch 99/100\n",
            "2/2 [==============================] - 0s 6ms/step - loss: 8.4613 - mae: 8.4613\n",
            "Epoch 100/100\n",
            "2/2 [==============================] - 0s 6ms/step - loss: 14.1053 - mae: 14.1053\n"
          ]
        },
        {
          "output_type": "execute_result",
          "data": {
            "text/plain": [
              "<keras.src.callbacks.History at 0x78f97949a1d0>"
            ]
          },
          "metadata": {},
          "execution_count": 58
        }
      ]
    },
    {
      "cell_type": "code",
      "source": [
        "# make and plot predictions with model_1\n",
        "\n",
        "y_preds_1 = model_1.predict(X_test)\n",
        "plot_predictions(predictions=y_preds_1)"
      ],
      "metadata": {
        "colab": {
          "base_uri": "https://localhost:8080/",
          "height": 486
        },
        "id": "ywRU-JdlHZtv",
        "outputId": "775d1a79-a657-45d6-c214-fef9de20e73f"
      },
      "execution_count": 59,
      "outputs": [
        {
          "output_type": "stream",
          "name": "stdout",
          "text": [
            "1/1 [==============================] - 0s 39ms/step\n"
          ]
        },
        {
          "output_type": "display_data",
          "data": {
            "text/plain": [
              "<Figure size 1000x700 with 1 Axes>"
            ],
            "image/png": "[encoded data removed]"
          },
          "metadata": {}
        }
      ]
    },
    {
      "cell_type": "code",
      "source": [
        "# calculate model_1 evaluation metrics\n",
        "mae_1 = mae(y_test, y_preds_1)\n",
        "mse_1 = mse(y_test, y_preds_1)\n",
        "\n",
        "mae_1, mse_1"
      ],
      "metadata": {
        "colab": {
          "base_uri": "https://localhost:8080/"
        },
        "id": "nmwNPXnrJK9P",
        "outputId": "f42fe8e8-6285-4c25-b39b-cbd2ffa6d654"
      },
      "execution_count": 60,
      "outputs": [
        {
          "output_type": "execute_result",
          "data": {
            "text/plain": [
              "(<tf.Tensor: shape=(), dtype=float32, numpy=6.6113157>,\n",
              " <tf.Tensor: shape=(), dtype=float32, numpy=277.29443>)"
            ]
          },
          "metadata": {},
          "execution_count": 60
        }
      ]
    },
    {
      "cell_type": "markdown",
      "source": [
        "## Build Model 2"
      ],
      "metadata": {
        "id": "rA5NySMsKd-8"
      }
    },
    {
      "cell_type": "code",
      "source": [
        "tf.random.set_seed(23)\n",
        "\n",
        "# create the model\n",
        "model_2 = tf.keras.Sequential([\n",
        "    tf.keras.layers.Dense(1, input_shape=[1]),\n",
        "    tf.keras.layers.Dense(1)\n",
        "])\n",
        "\n",
        "# compile the model\n",
        "model_2.compile(loss =tf.keras.losses.mae,\n",
        "                optimizer = tf.keras.optimizers.SGD(),\n",
        "                metrics=['mae'])\n",
        "\n",
        "# Fit the model\n",
        "model_2.fit(tf.expand_dims(X_train, axis=-1),\n",
        "            y_train,\n",
        "            epochs=100)"
      ],
      "metadata": {
        "colab": {
          "base_uri": "https://localhost:8080/"
        },
        "id": "P6i58oigJZFE",
        "outputId": "aae673ea-485a-496b-fdf6-aa89e13599ad"
      },
      "execution_count": 72,
      "outputs": [
        {
          "output_type": "stream",
          "name": "stdout",
          "text": [
            "Epoch 1/100\n",
            "2/2 [==============================] - 0s 11ms/step - loss: 63.2697 - mae: 63.2697\n",
            "Epoch 2/100\n",
            "2/2 [==============================] - 0s 10ms/step - loss: 18.2195 - mae: 18.2195\n",
            "Epoch 3/100\n",
            "2/2 [==============================] - 0s 7ms/step - loss: 13.1007 - mae: 13.1007\n",
            "Epoch 4/100\n",
            "2/2 [==============================] - 0s 7ms/step - loss: 29.0851 - mae: 29.0851\n",
            "Epoch 5/100\n",
            "2/2 [==============================] - 0s 7ms/step - loss: 15.1692 - mae: 15.1692\n",
            "Epoch 6/100\n",
            "2/2 [==============================] - 0s 7ms/step - loss: 21.3273 - mae: 21.3273\n",
            "Epoch 7/100\n",
            "2/2 [==============================] - 0s 7ms/step - loss: 16.3932 - mae: 16.3932\n",
            "Epoch 8/100\n",
            "2/2 [==============================] - 0s 7ms/step - loss: 16.1558 - mae: 16.1558\n",
            "Epoch 9/100\n",
            "2/2 [==============================] - 0s 7ms/step - loss: 9.5814 - mae: 9.5814\n",
            "Epoch 10/100\n",
            "2/2 [==============================] - 0s 8ms/step - loss: 13.5550 - mae: 13.5550\n",
            "Epoch 11/100\n",
            "2/2 [==============================] - 0s 7ms/step - loss: 11.3786 - mae: 11.3786\n",
            "Epoch 12/100\n",
            "2/2 [==============================] - 0s 7ms/step - loss: 17.2349 - mae: 17.2349\n",
            "Epoch 13/100\n",
            "2/2 [==============================] - 0s 7ms/step - loss: 15.9419 - mae: 15.9419\n",
            "Epoch 14/100\n",
            "2/2 [==============================] - 0s 7ms/step - loss: 19.6459 - mae: 19.6459\n",
            "Epoch 15/100\n",
            "2/2 [==============================] - 0s 7ms/step - loss: 18.2981 - mae: 18.2981\n",
            "Epoch 16/100\n",
            "2/2 [==============================] - 0s 7ms/step - loss: 15.8417 - mae: 15.8417\n",
            "Epoch 17/100\n",
            "2/2 [==============================] - 0s 8ms/step - loss: 12.6533 - mae: 12.6533\n",
            "Epoch 18/100\n",
            "2/2 [==============================] - 0s 7ms/step - loss: 12.2897 - mae: 12.2897\n",
            "Epoch 19/100\n",
            "2/2 [==============================] - 0s 7ms/step - loss: 20.9670 - mae: 20.9670\n",
            "Epoch 20/100\n",
            "2/2 [==============================] - 0s 7ms/step - loss: 7.4688 - mae: 7.4688\n",
            "Epoch 21/100\n",
            "2/2 [==============================] - 0s 8ms/step - loss: 20.2183 - mae: 20.2183\n",
            "Epoch 22/100\n",
            "2/2 [==============================] - 0s 7ms/step - loss: 8.4089 - mae: 8.4089\n",
            "Epoch 23/100\n",
            "2/2 [==============================] - 0s 7ms/step - loss: 15.3775 - mae: 15.3775\n",
            "Epoch 24/100\n",
            "2/2 [==============================] - 0s 10ms/step - loss: 7.8570 - mae: 7.8570\n",
            "Epoch 25/100\n",
            "2/2 [==============================] - 0s 7ms/step - loss: 12.1394 - mae: 12.1394\n",
            "Epoch 26/100\n",
            "2/2 [==============================] - 0s 7ms/step - loss: 19.3977 - mae: 19.3977\n",
            "Epoch 27/100\n",
            "2/2 [==============================] - 0s 7ms/step - loss: 32.2006 - mae: 32.2006\n",
            "Epoch 28/100\n",
            "2/2 [==============================] - 0s 8ms/step - loss: 11.9075 - mae: 11.9075\n",
            "Epoch 29/100\n",
            "2/2 [==============================] - 0s 7ms/step - loss: 12.7673 - mae: 12.7673\n",
            "Epoch 30/100\n",
            "2/2 [==============================] - 0s 7ms/step - loss: 13.9151 - mae: 13.9151\n",
            "Epoch 31/100\n",
            "2/2 [==============================] - 0s 7ms/step - loss: 14.4354 - mae: 14.4354\n",
            "Epoch 32/100\n",
            "2/2 [==============================] - 0s 9ms/step - loss: 10.3391 - mae: 10.3391\n",
            "Epoch 33/100\n",
            "2/2 [==============================] - 0s 8ms/step - loss: 10.2191 - mae: 10.2191\n",
            "Epoch 34/100\n",
            "2/2 [==============================] - 0s 7ms/step - loss: 7.2017 - mae: 7.2017\n",
            "Epoch 35/100\n",
            "2/2 [==============================] - 0s 7ms/step - loss: 10.5427 - mae: 10.5427\n",
            "Epoch 36/100\n",
            "2/2 [==============================] - 0s 7ms/step - loss: 13.0695 - mae: 13.0695\n",
            "Epoch 37/100\n",
            "2/2 [==============================] - 0s 7ms/step - loss: 11.0608 - mae: 11.0608\n",
            "Epoch 38/100\n",
            "2/2 [==============================] - 0s 7ms/step - loss: 27.2536 - mae: 27.2536\n",
            "Epoch 39/100\n",
            "2/2 [==============================] - 0s 7ms/step - loss: 25.0676 - mae: 25.0676\n",
            "Epoch 40/100\n",
            "2/2 [==============================] - 0s 7ms/step - loss: 7.4783 - mae: 7.4783\n",
            "Epoch 41/100\n",
            "2/2 [==============================] - 0s 7ms/step - loss: 11.5013 - mae: 11.5013\n",
            "Epoch 42/100\n",
            "2/2 [==============================] - 0s 7ms/step - loss: 14.1863 - mae: 14.1863\n",
            "Epoch 43/100\n",
            "2/2 [==============================] - 0s 8ms/step - loss: 18.7561 - mae: 18.7561\n",
            "Epoch 44/100\n",
            "2/2 [==============================] - 0s 7ms/step - loss: 7.8676 - mae: 7.8676\n",
            "Epoch 45/100\n",
            "2/2 [==============================] - 0s 7ms/step - loss: 11.2919 - mae: 11.2919\n",
            "Epoch 46/100\n",
            "2/2 [==============================] - 0s 8ms/step - loss: 18.0530 - mae: 18.0530\n",
            "Epoch 47/100\n",
            "2/2 [==============================] - 0s 7ms/step - loss: 12.2745 - mae: 12.2745\n",
            "Epoch 48/100\n",
            "2/2 [==============================] - 0s 7ms/step - loss: 29.4759 - mae: 29.4759\n",
            "Epoch 49/100\n",
            "2/2 [==============================] - 0s 8ms/step - loss: 8.4620 - mae: 8.4620\n",
            "Epoch 50/100\n",
            "2/2 [==============================] - 0s 7ms/step - loss: 18.9517 - mae: 18.9517\n",
            "Epoch 51/100\n",
            "2/2 [==============================] - 0s 7ms/step - loss: 10.1824 - mae: 10.1824\n",
            "Epoch 52/100\n",
            "2/2 [==============================] - 0s 9ms/step - loss: 12.7915 - mae: 12.7915\n",
            "Epoch 53/100\n",
            "2/2 [==============================] - 0s 7ms/step - loss: 8.8866 - mae: 8.8866\n",
            "Epoch 54/100\n",
            "2/2 [==============================] - 0s 7ms/step - loss: 13.9352 - mae: 13.9352\n",
            "Epoch 55/100\n",
            "2/2 [==============================] - 0s 7ms/step - loss: 7.2055 - mae: 7.2055\n",
            "Epoch 56/100\n",
            "2/2 [==============================] - 0s 7ms/step - loss: 16.0939 - mae: 16.0939\n",
            "Epoch 57/100\n",
            "2/2 [==============================] - 0s 8ms/step - loss: 10.6995 - mae: 10.6995\n",
            "Epoch 58/100\n",
            "2/2 [==============================] - 0s 7ms/step - loss: 11.8643 - mae: 11.8643\n",
            "Epoch 59/100\n",
            "2/2 [==============================] - 0s 7ms/step - loss: 15.3893 - mae: 15.3893\n",
            "Epoch 60/100\n",
            "2/2 [==============================] - 0s 7ms/step - loss: 10.4135 - mae: 10.4135\n",
            "Epoch 61/100\n",
            "2/2 [==============================] - 0s 8ms/step - loss: 10.5238 - mae: 10.5238\n",
            "Epoch 62/100\n",
            "2/2 [==============================] - 0s 8ms/step - loss: 6.9037 - mae: 6.9037\n",
            "Epoch 63/100\n",
            "2/2 [==============================] - 0s 7ms/step - loss: 22.6236 - mae: 22.6236\n",
            "Epoch 64/100\n",
            "2/2 [==============================] - 0s 7ms/step - loss: 12.1123 - mae: 12.1123\n",
            "Epoch 65/100\n",
            "2/2 [==============================] - 0s 7ms/step - loss: 13.8834 - mae: 13.8834\n",
            "Epoch 66/100\n",
            "2/2 [==============================] - 0s 7ms/step - loss: 17.0670 - mae: 17.0670\n",
            "Epoch 67/100\n",
            "2/2 [==============================] - 0s 10ms/step - loss: 20.7044 - mae: 20.7044\n",
            "Epoch 68/100\n",
            "2/2 [==============================] - 0s 8ms/step - loss: 11.8974 - mae: 11.8974\n",
            "Epoch 69/100\n",
            "2/2 [==============================] - 0s 11ms/step - loss: 23.5385 - mae: 23.5385\n",
            "Epoch 70/100\n",
            "2/2 [==============================] - 0s 8ms/step - loss: 11.6522 - mae: 11.6522\n",
            "Epoch 71/100\n",
            "2/2 [==============================] - 0s 7ms/step - loss: 16.5121 - mae: 16.5121\n",
            "Epoch 72/100\n",
            "2/2 [==============================] - 0s 7ms/step - loss: 10.1045 - mae: 10.1045\n",
            "Epoch 73/100\n",
            "2/2 [==============================] - 0s 7ms/step - loss: 14.5439 - mae: 14.5439\n",
            "Epoch 74/100\n",
            "2/2 [==============================] - 0s 7ms/step - loss: 7.6037 - mae: 7.6037\n",
            "Epoch 75/100\n",
            "2/2 [==============================] - 0s 7ms/step - loss: 14.8724 - mae: 14.8724\n",
            "Epoch 76/100\n",
            "2/2 [==============================] - 0s 7ms/step - loss: 18.8593 - mae: 18.8593\n",
            "Epoch 77/100\n",
            "2/2 [==============================] - 0s 7ms/step - loss: 18.6788 - mae: 18.6788\n",
            "Epoch 78/100\n",
            "2/2 [==============================] - 0s 8ms/step - loss: 9.8108 - mae: 9.8108\n",
            "Epoch 79/100\n",
            "2/2 [==============================] - 0s 7ms/step - loss: 12.2920 - mae: 12.2920\n",
            "Epoch 80/100\n",
            "2/2 [==============================] - 0s 8ms/step - loss: 27.3962 - mae: 27.3962\n",
            "Epoch 81/100\n",
            "2/2 [==============================] - 0s 7ms/step - loss: 11.9118 - mae: 11.9118\n",
            "Epoch 82/100\n",
            "2/2 [==============================] - 0s 7ms/step - loss: 11.6030 - mae: 11.6030\n",
            "Epoch 83/100\n",
            "2/2 [==============================] - 0s 7ms/step - loss: 10.2750 - mae: 10.2750\n",
            "Epoch 84/100\n",
            "2/2 [==============================] - 0s 11ms/step - loss: 11.2141 - mae: 11.2141\n",
            "Epoch 85/100\n",
            "2/2 [==============================] - 0s 8ms/step - loss: 26.5970 - mae: 26.5970\n",
            "Epoch 86/100\n",
            "2/2 [==============================] - 0s 7ms/step - loss: 13.2615 - mae: 13.2615\n",
            "Epoch 87/100\n",
            "2/2 [==============================] - 0s 7ms/step - loss: 25.8115 - mae: 25.8115\n",
            "Epoch 88/100\n",
            "2/2 [==============================] - 0s 7ms/step - loss: 21.0365 - mae: 21.0365\n",
            "Epoch 89/100\n",
            "2/2 [==============================] - 0s 7ms/step - loss: 12.4503 - mae: 12.4503\n",
            "Epoch 90/100\n",
            "2/2 [==============================] - 0s 7ms/step - loss: 24.3518 - mae: 24.3518\n",
            "Epoch 91/100\n",
            "2/2 [==============================] - 0s 7ms/step - loss: 17.4215 - mae: 17.4215\n",
            "Epoch 92/100\n",
            "2/2 [==============================] - 0s 7ms/step - loss: 10.9532 - mae: 10.9532\n",
            "Epoch 93/100\n",
            "2/2 [==============================] - 0s 7ms/step - loss: 9.0217 - mae: 9.0217\n",
            "Epoch 94/100\n",
            "2/2 [==============================] - 0s 7ms/step - loss: 11.6304 - mae: 11.6304\n",
            "Epoch 95/100\n",
            "2/2 [==============================] - 0s 7ms/step - loss: 22.0596 - mae: 22.0596\n",
            "Epoch 96/100\n",
            "2/2 [==============================] - 0s 7ms/step - loss: 8.9174 - mae: 8.9174\n",
            "Epoch 97/100\n",
            "2/2 [==============================] - 0s 7ms/step - loss: 15.4488 - mae: 15.4488\n",
            "Epoch 98/100\n",
            "2/2 [==============================] - 0s 8ms/step - loss: 9.4969 - mae: 9.4969\n",
            "Epoch 99/100\n",
            "2/2 [==============================] - 0s 10ms/step - loss: 12.7439 - mae: 12.7439\n",
            "Epoch 100/100\n",
            "2/2 [==============================] - 0s 7ms/step - loss: 19.3280 - mae: 19.3280\n"
          ]
        },
        {
          "output_type": "execute_result",
          "data": {
            "text/plain": [
              "<keras.src.callbacks.History at 0x78f9790c8ee0>"
            ]
          },
          "metadata": {},
          "execution_count": 72
        }
      ]
    },
    {
      "cell_type": "code",
      "source": [
        "# make and plot predictions for model_2\n",
        "\n",
        "y_preds_2 = model_2.predict(X_test)\n",
        "plot_predictions(predictions = y_preds_2)"
      ],
      "metadata": {
        "colab": {
          "base_uri": "https://localhost:8080/",
          "height": 481
        },
        "id": "C1d3v_YmLzrI",
        "outputId": "bc400840-7621-4c34-e4fe-fcb8fe5a6433"
      },
      "execution_count": 73,
      "outputs": [
        {
          "output_type": "stream",
          "name": "stdout",
          "text": [
            "1/1 [==============================] - 0s 77ms/step\n"
          ]
        },
        {
          "output_type": "display_data",
          "data": {
            "text/plain": [
              "<Figure size 1000x700 with 1 Axes>"
            ],
            "image/png": "[encoded data removed]"
          },
          "metadata": {}
        }
      ]
    },
    {
      "cell_type": "code",
      "source": [
        "# calculate model_2 evaluate metrics\n",
        "mae_2 = mae(y_test, y_preds_2)\n",
        "mse_2 = mse(y_test, y_preds_2)\n",
        "\n",
        "mae_2, mse_2"
      ],
      "metadata": {
        "colab": {
          "base_uri": "https://localhost:8080/"
        },
        "id": "uMtja9UQMHCR",
        "outputId": "0842a5d6-8357-44cb-e48d-72cc8d4d849b"
      },
      "execution_count": 75,
      "outputs": [
        {
          "output_type": "execute_result",
          "data": {
            "text/plain": [
              "(<tf.Tensor: shape=(), dtype=float32, numpy=13.134158>,\n",
              " <tf.Tensor: shape=(), dtype=float32, numpy=12.589118>)"
            ]
          },
          "metadata": {},
          "execution_count": 75
        }
      ]
    },
    {
      "cell_type": "code",
      "source": [],
      "metadata": {
        "id": "7fIf8eEuOJMI"
      },
      "execution_count": 76,
      "outputs": []
    },
    {
      "cell_type": "markdown",
      "source": [
        "## Model 3"
      ],
      "metadata": {
        "id": "BWqf0AvMN88w"
      }
    },
    {
      "cell_type": "code",
      "source": [
        "# set the random see\n",
        "tf.random.set_seed(42)\n",
        "\n",
        "\n",
        "# create the model\n",
        "model_3 = tf.keras.Sequential([\n",
        "    tf.keras.layers.Dense(10, input_shape=[1]),\n",
        "    tf.keras.layers.Dense(1)\n",
        "    ])\n",
        "\n",
        "# compile the model\n",
        "model_3.compile(loss = tf.keras.losses.mae,\n",
        "                optimizer = tf.keras.optimizers.SGD(),\n",
        "                metrics=[\"mae\"])\n",
        "\n",
        "# fit the model\n",
        "model_3.fit(tf.expand_dims(X_train, axis=-1),\n",
        "            y_train,\n",
        "            epochs=500)"
      ],
      "metadata": {
        "colab": {
          "base_uri": "https://localhost:8080/"
        },
        "id": "3ObT1VRUOItX",
        "outputId": "43307825-5773-40e2-b413-f7457c2c2a91"
      },
      "execution_count": 83,
      "outputs": [
        {
          "output_type": "stream",
          "name": "stdout",
          "text": [
            "Epoch 1/500\n",
            "2/2 [==============================] - 1s 15ms/step - loss: 73.8138 - mae: 73.8138\n",
            "Epoch 2/500\n",
            "2/2 [==============================] - 0s 11ms/step - loss: 12.9060 - mae: 12.9060\n",
            "Epoch 3/500\n",
            "2/2 [==============================] - 0s 10ms/step - loss: 41.6959 - mae: 41.6959\n",
            "Epoch 4/500\n",
            "2/2 [==============================] - 0s 10ms/step - loss: 19.9707 - mae: 19.9707\n",
            "Epoch 5/500\n",
            "2/2 [==============================] - 0s 10ms/step - loss: 15.4523 - mae: 15.4523\n",
            "Epoch 6/500\n",
            "2/2 [==============================] - 0s 9ms/step - loss: 12.3250 - mae: 12.3250\n",
            "Epoch 7/500\n",
            "2/2 [==============================] - 0s 9ms/step - loss: 13.9247 - mae: 13.9247\n",
            "Epoch 8/500\n",
            "2/2 [==============================] - 0s 8ms/step - loss: 13.2114 - mae: 13.2114\n",
            "Epoch 9/500\n",
            "2/2 [==============================] - 0s 8ms/step - loss: 35.1624 - mae: 35.1624\n",
            "Epoch 10/500\n",
            "2/2 [==============================] - 0s 9ms/step - loss: 24.4871 - mae: 24.4871\n",
            "Epoch 11/500\n",
            "2/2 [==============================] - 0s 8ms/step - loss: 11.8165 - mae: 11.8165\n",
            "Epoch 12/500\n",
            "2/2 [==============================] - 0s 8ms/step - loss: 23.6142 - mae: 23.6142\n",
            "Epoch 13/500\n",
            "2/2 [==============================] - 0s 9ms/step - loss: 21.3285 - mae: 21.3285\n",
            "Epoch 14/500\n",
            "2/2 [==============================] - 0s 8ms/step - loss: 23.8251 - mae: 23.8251\n",
            "Epoch 15/500\n",
            "2/2 [==============================] - 0s 7ms/step - loss: 15.8563 - mae: 15.8563\n",
            "Epoch 16/500\n",
            "2/2 [==============================] - 0s 8ms/step - loss: 10.4716 - mae: 10.4716\n",
            "Epoch 17/500\n",
            "2/2 [==============================] - 0s 7ms/step - loss: 19.7844 - mae: 19.7844\n",
            "Epoch 18/500\n",
            "2/2 [==============================] - 0s 7ms/step - loss: 13.3891 - mae: 13.3891\n",
            "Epoch 19/500\n",
            "2/2 [==============================] - 0s 7ms/step - loss: 16.4165 - mae: 16.4165\n",
            "Epoch 20/500\n",
            "2/2 [==============================] - 0s 8ms/step - loss: 8.2513 - mae: 8.2513\n",
            "Epoch 21/500\n",
            "2/2 [==============================] - 0s 7ms/step - loss: 14.4478 - mae: 14.4478\n",
            "Epoch 22/500\n",
            "2/2 [==============================] - 0s 7ms/step - loss: 12.8632 - mae: 12.8632\n",
            "Epoch 23/500\n",
            "2/2 [==============================] - 0s 8ms/step - loss: 15.4989 - mae: 15.4989\n",
            "Epoch 24/500\n",
            "2/2 [==============================] - 0s 7ms/step - loss: 15.2882 - mae: 15.2882\n",
            "Epoch 25/500\n",
            "2/2 [==============================] - 0s 7ms/step - loss: 14.3558 - mae: 14.3558\n",
            "Epoch 26/500\n",
            "2/2 [==============================] - 0s 7ms/step - loss: 19.3702 - mae: 19.3702\n",
            "Epoch 27/500\n",
            "2/2 [==============================] - 0s 7ms/step - loss: 11.4444 - mae: 11.4444\n",
            "Epoch 28/500\n",
            "2/2 [==============================] - 0s 10ms/step - loss: 29.0189 - mae: 29.0189\n",
            "Epoch 29/500\n",
            "2/2 [==============================] - 0s 9ms/step - loss: 9.2548 - mae: 9.2548\n",
            "Epoch 30/500\n",
            "2/2 [==============================] - 0s 8ms/step - loss: 29.7702 - mae: 29.7702\n",
            "Epoch 31/500\n",
            "2/2 [==============================] - 0s 8ms/step - loss: 54.0111 - mae: 54.0111\n",
            "Epoch 32/500\n",
            "2/2 [==============================] - 0s 7ms/step - loss: 9.5597 - mae: 9.5597\n",
            "Epoch 33/500\n",
            "2/2 [==============================] - 0s 7ms/step - loss: 12.1489 - mae: 12.1489\n",
            "Epoch 34/500\n",
            "2/2 [==============================] - 0s 9ms/step - loss: 23.8239 - mae: 23.8239\n",
            "Epoch 35/500\n",
            "2/2 [==============================] - 0s 10ms/step - loss: 12.6381 - mae: 12.6381\n",
            "Epoch 36/500\n",
            "2/2 [==============================] - 0s 12ms/step - loss: 21.5617 - mae: 21.5617\n",
            "Epoch 37/500\n",
            "2/2 [==============================] - 0s 9ms/step - loss: 11.3572 - mae: 11.3572\n",
            "Epoch 38/500\n",
            "2/2 [==============================] - 0s 8ms/step - loss: 13.4221 - mae: 13.4221\n",
            "Epoch 39/500\n",
            "2/2 [==============================] - 0s 8ms/step - loss: 10.7727 - mae: 10.7727\n",
            "Epoch 40/500\n",
            "2/2 [==============================] - 0s 9ms/step - loss: 16.5349 - mae: 16.5349\n",
            "Epoch 41/500\n",
            "2/2 [==============================] - 0s 11ms/step - loss: 10.9459 - mae: 10.9459\n",
            "Epoch 42/500\n",
            "2/2 [==============================] - 0s 10ms/step - loss: 9.2812 - mae: 9.2812\n",
            "Epoch 43/500\n",
            "2/2 [==============================] - 0s 8ms/step - loss: 9.5899 - mae: 9.5899\n",
            "Epoch 44/500\n",
            "2/2 [==============================] - 0s 9ms/step - loss: 27.8976 - mae: 27.8976\n",
            "Epoch 45/500\n",
            "2/2 [==============================] - 0s 8ms/step - loss: 11.2638 - mae: 11.2638\n",
            "Epoch 46/500\n",
            "2/2 [==============================] - 0s 11ms/step - loss: 13.8534 - mae: 13.8534\n",
            "Epoch 47/500\n",
            "2/2 [==============================] - 0s 10ms/step - loss: 11.9258 - mae: 11.9258\n",
            "Epoch 48/500\n",
            "2/2 [==============================] - 0s 9ms/step - loss: 16.9611 - mae: 16.9611\n",
            "Epoch 49/500\n",
            "2/2 [==============================] - 0s 9ms/step - loss: 9.7754 - mae: 9.7754\n",
            "Epoch 50/500\n",
            "2/2 [==============================] - 0s 9ms/step - loss: 14.1660 - mae: 14.1660\n",
            "Epoch 51/500\n",
            "2/2 [==============================] - 0s 8ms/step - loss: 11.7384 - mae: 11.7384\n",
            "Epoch 52/500\n",
            "2/2 [==============================] - 0s 10ms/step - loss: 31.3729 - mae: 31.3729\n",
            "Epoch 53/500\n",
            "2/2 [==============================] - 0s 9ms/step - loss: 14.7202 - mae: 14.7202\n",
            "Epoch 54/500\n",
            "2/2 [==============================] - 0s 11ms/step - loss: 24.6045 - mae: 24.6045\n",
            "Epoch 55/500\n",
            "2/2 [==============================] - 0s 10ms/step - loss: 23.8878 - mae: 23.8878\n",
            "Epoch 56/500\n",
            "2/2 [==============================] - 0s 8ms/step - loss: 11.1223 - mae: 11.1223\n",
            "Epoch 57/500\n",
            "2/2 [==============================] - 0s 9ms/step - loss: 13.0606 - mae: 13.0606\n",
            "Epoch 58/500\n",
            "2/2 [==============================] - 0s 7ms/step - loss: 9.7828 - mae: 9.7828\n",
            "Epoch 59/500\n",
            "2/2 [==============================] - 0s 8ms/step - loss: 13.2390 - mae: 13.2390\n",
            "Epoch 60/500\n",
            "2/2 [==============================] - 0s 8ms/step - loss: 10.8361 - mae: 10.8361\n",
            "Epoch 61/500\n",
            "2/2 [==============================] - 0s 7ms/step - loss: 13.4173 - mae: 13.4173\n",
            "Epoch 62/500\n",
            "2/2 [==============================] - 0s 7ms/step - loss: 17.3846 - mae: 17.3846\n",
            "Epoch 63/500\n",
            "2/2 [==============================] - 0s 9ms/step - loss: 9.1406 - mae: 9.1406\n",
            "Epoch 64/500\n",
            "2/2 [==============================] - 0s 8ms/step - loss: 18.2591 - mae: 18.2591\n",
            "Epoch 65/500\n",
            "2/2 [==============================] - 0s 8ms/step - loss: 10.0956 - mae: 10.0956\n",
            "Epoch 66/500\n",
            "2/2 [==============================] - 0s 8ms/step - loss: 24.0920 - mae: 24.0920\n",
            "Epoch 67/500\n",
            "2/2 [==============================] - 0s 8ms/step - loss: 10.8460 - mae: 10.8460\n",
            "Epoch 68/500\n",
            "2/2 [==============================] - 0s 9ms/step - loss: 10.7413 - mae: 10.7413\n",
            "Epoch 69/500\n",
            "2/2 [==============================] - 0s 10ms/step - loss: 23.0634 - mae: 23.0634\n",
            "Epoch 70/500\n",
            "2/2 [==============================] - 0s 10ms/step - loss: 8.8504 - mae: 8.8504\n",
            "Epoch 71/500\n",
            "2/2 [==============================] - 0s 8ms/step - loss: 16.0828 - mae: 16.0828\n",
            "Epoch 72/500\n",
            "2/2 [==============================] - 0s 10ms/step - loss: 7.7670 - mae: 7.7670\n",
            "Epoch 73/500\n",
            "2/2 [==============================] - 0s 8ms/step - loss: 10.6356 - mae: 10.6356\n",
            "Epoch 74/500\n",
            "2/2 [==============================] - 0s 12ms/step - loss: 27.9089 - mae: 27.9089\n",
            "Epoch 75/500\n",
            "2/2 [==============================] - 0s 8ms/step - loss: 10.4730 - mae: 10.4730\n",
            "Epoch 76/500\n",
            "2/2 [==============================] - 0s 8ms/step - loss: 13.4705 - mae: 13.4705\n",
            "Epoch 77/500\n",
            "2/2 [==============================] - 0s 7ms/step - loss: 19.3178 - mae: 19.3178\n",
            "Epoch 78/500\n",
            "2/2 [==============================] - 0s 8ms/step - loss: 8.9090 - mae: 8.9090\n",
            "Epoch 79/500\n",
            "2/2 [==============================] - 0s 8ms/step - loss: 27.9831 - mae: 27.9831\n",
            "Epoch 80/500\n",
            "2/2 [==============================] - 0s 7ms/step - loss: 30.0718 - mae: 30.0718\n",
            "Epoch 81/500\n",
            "2/2 [==============================] - 0s 8ms/step - loss: 13.8588 - mae: 13.8588\n",
            "Epoch 82/500\n",
            "2/2 [==============================] - 0s 7ms/step - loss: 15.7292 - mae: 15.7292\n",
            "Epoch 83/500\n",
            "2/2 [==============================] - 0s 7ms/step - loss: 9.2762 - mae: 9.2762\n",
            "Epoch 84/500\n",
            "2/2 [==============================] - 0s 8ms/step - loss: 8.1943 - mae: 8.1943\n",
            "Epoch 85/500\n",
            "2/2 [==============================] - 0s 10ms/step - loss: 18.7349 - mae: 18.7349\n",
            "Epoch 86/500\n",
            "2/2 [==============================] - 0s 10ms/step - loss: 22.2952 - mae: 22.2952\n",
            "Epoch 87/500\n",
            "2/2 [==============================] - 0s 8ms/step - loss: 11.3020 - mae: 11.3020\n",
            "Epoch 88/500\n",
            "2/2 [==============================] - 0s 9ms/step - loss: 26.2923 - mae: 26.2923\n",
            "Epoch 89/500\n",
            "2/2 [==============================] - 0s 10ms/step - loss: 9.5982 - mae: 9.5982\n",
            "Epoch 90/500\n",
            "2/2 [==============================] - 0s 9ms/step - loss: 18.5171 - mae: 18.5171\n",
            "Epoch 91/500\n",
            "2/2 [==============================] - 0s 11ms/step - loss: 10.4191 - mae: 10.4191\n",
            "Epoch 92/500\n",
            "2/2 [==============================] - 0s 9ms/step - loss: 17.7568 - mae: 17.7568\n",
            "Epoch 93/500\n",
            "2/2 [==============================] - 0s 11ms/step - loss: 6.8611 - mae: 6.8611\n",
            "Epoch 94/500\n",
            "2/2 [==============================] - 0s 11ms/step - loss: 17.5934 - mae: 17.5934\n",
            "Epoch 95/500\n",
            "2/2 [==============================] - 0s 12ms/step - loss: 17.2907 - mae: 17.2907\n",
            "Epoch 96/500\n",
            "2/2 [==============================] - 0s 12ms/step - loss: 11.4805 - mae: 11.4805\n",
            "Epoch 97/500\n",
            "2/2 [==============================] - 0s 9ms/step - loss: 18.2231 - mae: 18.2231\n",
            "Epoch 98/500\n",
            "2/2 [==============================] - 0s 10ms/step - loss: 9.7092 - mae: 9.7092\n",
            "Epoch 99/500\n",
            "2/2 [==============================] - 0s 9ms/step - loss: 16.8903 - mae: 16.8903\n",
            "Epoch 100/500\n",
            "2/2 [==============================] - 0s 8ms/step - loss: 17.7537 - mae: 17.7537\n",
            "Epoch 101/500\n",
            "2/2 [==============================] - 0s 10ms/step - loss: 16.4120 - mae: 16.4120\n",
            "Epoch 102/500\n",
            "2/2 [==============================] - 0s 8ms/step - loss: 12.8583 - mae: 12.8583\n",
            "Epoch 103/500\n",
            "2/2 [==============================] - 0s 8ms/step - loss: 16.0365 - mae: 16.0365\n",
            "Epoch 104/500\n",
            "2/2 [==============================] - 0s 9ms/step - loss: 22.1624 - mae: 22.1624\n",
            "Epoch 105/500\n",
            "2/2 [==============================] - 0s 10ms/step - loss: 20.5583 - mae: 20.5583\n",
            "Epoch 106/500\n",
            "2/2 [==============================] - 0s 10ms/step - loss: 10.0972 - mae: 10.0972\n",
            "Epoch 107/500\n",
            "2/2 [==============================] - 0s 10ms/step - loss: 24.6968 - mae: 24.6968\n",
            "Epoch 108/500\n",
            "2/2 [==============================] - 0s 12ms/step - loss: 15.3513 - mae: 15.3513\n",
            "Epoch 109/500\n",
            "2/2 [==============================] - 0s 9ms/step - loss: 7.6533 - mae: 7.6533\n",
            "Epoch 110/500\n",
            "2/2 [==============================] - 0s 9ms/step - loss: 10.6046 - mae: 10.6046\n",
            "Epoch 111/500\n",
            "2/2 [==============================] - 0s 9ms/step - loss: 16.7562 - mae: 16.7562\n",
            "Epoch 112/500\n",
            "2/2 [==============================] - 0s 10ms/step - loss: 9.5748 - mae: 9.5748\n",
            "Epoch 113/500\n",
            "2/2 [==============================] - 0s 9ms/step - loss: 17.5896 - mae: 17.5896\n",
            "Epoch 114/500\n",
            "2/2 [==============================] - 0s 13ms/step - loss: 16.9669 - mae: 16.9669\n",
            "Epoch 115/500\n",
            "2/2 [==============================] - 0s 10ms/step - loss: 11.1009 - mae: 11.1009\n",
            "Epoch 116/500\n",
            "2/2 [==============================] - 0s 8ms/step - loss: 22.9850 - mae: 22.9850\n",
            "Epoch 117/500\n",
            "2/2 [==============================] - 0s 8ms/step - loss: 9.5680 - mae: 9.5680\n",
            "Epoch 118/500\n",
            "2/2 [==============================] - 0s 10ms/step - loss: 10.6148 - mae: 10.6148\n",
            "Epoch 119/500\n",
            "2/2 [==============================] - 0s 9ms/step - loss: 8.0800 - mae: 8.0800\n",
            "Epoch 120/500\n",
            "2/2 [==============================] - 0s 9ms/step - loss: 29.1696 - mae: 29.1696\n",
            "Epoch 121/500\n",
            "2/2 [==============================] - 0s 10ms/step - loss: 8.1148 - mae: 8.1148\n",
            "Epoch 122/500\n",
            "2/2 [==============================] - 0s 8ms/step - loss: 27.8585 - mae: 27.8585\n",
            "Epoch 123/500\n",
            "2/2 [==============================] - 0s 7ms/step - loss: 32.3408 - mae: 32.3408\n",
            "Epoch 124/500\n",
            "2/2 [==============================] - 0s 11ms/step - loss: 19.2235 - mae: 19.2235\n",
            "Epoch 125/500\n",
            "2/2 [==============================] - 0s 7ms/step - loss: 6.4780 - mae: 6.4780\n",
            "Epoch 126/500\n",
            "2/2 [==============================] - 0s 7ms/step - loss: 26.4256 - mae: 26.4256\n",
            "Epoch 127/500\n",
            "2/2 [==============================] - 0s 8ms/step - loss: 8.5543 - mae: 8.5543\n",
            "Epoch 128/500\n",
            "2/2 [==============================] - 0s 8ms/step - loss: 13.6499 - mae: 13.6499\n",
            "Epoch 129/500\n",
            "2/2 [==============================] - 0s 9ms/step - loss: 10.8096 - mae: 10.8096\n",
            "Epoch 130/500\n",
            "2/2 [==============================] - 0s 9ms/step - loss: 15.2528 - mae: 15.2528\n",
            "Epoch 131/500\n",
            "2/2 [==============================] - 0s 7ms/step - loss: 8.8347 - mae: 8.8347\n",
            "Epoch 132/500\n",
            "2/2 [==============================] - 0s 7ms/step - loss: 14.7414 - mae: 14.7414\n",
            "Epoch 133/500\n",
            "2/2 [==============================] - 0s 10ms/step - loss: 7.9557 - mae: 7.9557\n",
            "Epoch 134/500\n",
            "2/2 [==============================] - 0s 10ms/step - loss: 22.5143 - mae: 22.5143\n",
            "Epoch 135/500\n",
            "2/2 [==============================] - 0s 12ms/step - loss: 19.8623 - mae: 19.8623\n",
            "Epoch 136/500\n",
            "2/2 [==============================] - 0s 8ms/step - loss: 13.7937 - mae: 13.7937\n",
            "Epoch 137/500\n",
            "2/2 [==============================] - 0s 9ms/step - loss: 25.2573 - mae: 25.2573\n",
            "Epoch 138/500\n",
            "2/2 [==============================] - 0s 9ms/step - loss: 9.9848 - mae: 9.9848\n",
            "Epoch 139/500\n",
            "2/2 [==============================] - 0s 10ms/step - loss: 9.4607 - mae: 9.4607\n",
            "Epoch 140/500\n",
            "2/2 [==============================] - 0s 12ms/step - loss: 18.5003 - mae: 18.5003\n",
            "Epoch 141/500\n",
            "2/2 [==============================] - 0s 13ms/step - loss: 8.3214 - mae: 8.3214\n",
            "Epoch 142/500\n",
            "2/2 [==============================] - 0s 10ms/step - loss: 33.1550 - mae: 33.1550\n",
            "Epoch 143/500\n",
            "2/2 [==============================] - 0s 10ms/step - loss: 23.2961 - mae: 23.2961\n",
            "Epoch 144/500\n",
            "2/2 [==============================] - 0s 10ms/step - loss: 10.4930 - mae: 10.4930\n",
            "Epoch 145/500\n",
            "2/2 [==============================] - 0s 9ms/step - loss: 25.8553 - mae: 25.8553\n",
            "Epoch 146/500\n",
            "2/2 [==============================] - 0s 9ms/step - loss: 9.9349 - mae: 9.9349\n",
            "Epoch 147/500\n",
            "2/2 [==============================] - 0s 11ms/step - loss: 14.7495 - mae: 14.7495\n",
            "Epoch 148/500\n",
            "2/2 [==============================] - 0s 11ms/step - loss: 17.8656 - mae: 17.8656\n",
            "Epoch 149/500\n",
            "2/2 [==============================] - 0s 10ms/step - loss: 8.4454 - mae: 8.4454\n",
            "Epoch 150/500\n",
            "2/2 [==============================] - 0s 11ms/step - loss: 7.6236 - mae: 7.6236\n",
            "Epoch 151/500\n",
            "2/2 [==============================] - 0s 10ms/step - loss: 18.8075 - mae: 18.8075\n",
            "Epoch 152/500\n",
            "2/2 [==============================] - 0s 11ms/step - loss: 10.4623 - mae: 10.4623\n",
            "Epoch 153/500\n",
            "2/2 [==============================] - 0s 12ms/step - loss: 30.3153 - mae: 30.3153\n",
            "Epoch 154/500\n",
            "2/2 [==============================] - 0s 9ms/step - loss: 10.0060 - mae: 10.0060\n",
            "Epoch 155/500\n",
            "2/2 [==============================] - 0s 10ms/step - loss: 15.7552 - mae: 15.7552\n",
            "Epoch 156/500\n",
            "2/2 [==============================] - 0s 9ms/step - loss: 17.6810 - mae: 17.6810\n",
            "Epoch 157/500\n",
            "2/2 [==============================] - 0s 11ms/step - loss: 31.0861 - mae: 31.0861\n",
            "Epoch 158/500\n",
            "2/2 [==============================] - 0s 12ms/step - loss: 10.2157 - mae: 10.2157\n",
            "Epoch 159/500\n",
            "2/2 [==============================] - 0s 11ms/step - loss: 8.6950 - mae: 8.6950\n",
            "Epoch 160/500\n",
            "2/2 [==============================] - 0s 11ms/step - loss: 20.7312 - mae: 20.7312\n",
            "Epoch 161/500\n",
            "2/2 [==============================] - 0s 12ms/step - loss: 11.8140 - mae: 11.8140\n",
            "Epoch 162/500\n",
            "2/2 [==============================] - 0s 8ms/step - loss: 21.7127 - mae: 21.7127\n",
            "Epoch 163/500\n",
            "2/2 [==============================] - 0s 8ms/step - loss: 19.3880 - mae: 19.3880\n",
            "Epoch 164/500\n",
            "2/2 [==============================] - 0s 10ms/step - loss: 11.1362 - mae: 11.1362\n",
            "Epoch 165/500\n",
            "2/2 [==============================] - 0s 8ms/step - loss: 9.6211 - mae: 9.6211\n",
            "Epoch 166/500\n",
            "2/2 [==============================] - 0s 8ms/step - loss: 21.5482 - mae: 21.5482\n",
            "Epoch 167/500\n",
            "2/2 [==============================] - 0s 7ms/step - loss: 26.4082 - mae: 26.4082\n",
            "Epoch 168/500\n",
            "2/2 [==============================] - 0s 7ms/step - loss: 9.9265 - mae: 9.9265\n",
            "Epoch 169/500\n",
            "2/2 [==============================] - 0s 7ms/step - loss: 22.6509 - mae: 22.6509\n",
            "Epoch 170/500\n",
            "2/2 [==============================] - 0s 6ms/step - loss: 10.1622 - mae: 10.1622\n",
            "Epoch 171/500\n",
            "2/2 [==============================] - 0s 8ms/step - loss: 18.0225 - mae: 18.0225\n",
            "Epoch 172/500\n",
            "2/2 [==============================] - 0s 7ms/step - loss: 28.9010 - mae: 28.9010\n",
            "Epoch 173/500\n",
            "2/2 [==============================] - 0s 9ms/step - loss: 16.5939 - mae: 16.5939\n",
            "Epoch 174/500\n",
            "2/2 [==============================] - 0s 8ms/step - loss: 11.2298 - mae: 11.2298\n",
            "Epoch 175/500\n",
            "2/2 [==============================] - 0s 7ms/step - loss: 27.5717 - mae: 27.5717\n",
            "Epoch 176/500\n",
            "2/2 [==============================] - 0s 8ms/step - loss: 8.3290 - mae: 8.3290\n",
            "Epoch 177/500\n",
            "2/2 [==============================] - 0s 8ms/step - loss: 9.3173 - mae: 9.3173\n",
            "Epoch 178/500\n",
            "2/2 [==============================] - 0s 8ms/step - loss: 18.1730 - mae: 18.1730\n",
            "Epoch 179/500\n",
            "2/2 [==============================] - 0s 8ms/step - loss: 10.6007 - mae: 10.6007\n",
            "Epoch 180/500\n",
            "2/2 [==============================] - 0s 8ms/step - loss: 7.9482 - mae: 7.9482\n",
            "Epoch 181/500\n",
            "2/2 [==============================] - 0s 7ms/step - loss: 17.4039 - mae: 17.4039\n",
            "Epoch 182/500\n",
            "2/2 [==============================] - 0s 8ms/step - loss: 11.0544 - mae: 11.0544\n",
            "Epoch 183/500\n",
            "2/2 [==============================] - 0s 8ms/step - loss: 11.7120 - mae: 11.7120\n",
            "Epoch 184/500\n",
            "2/2 [==============================] - 0s 8ms/step - loss: 30.3561 - mae: 30.3561\n",
            "Epoch 185/500\n",
            "2/2 [==============================] - 0s 7ms/step - loss: 8.2078 - mae: 8.2078\n",
            "Epoch 186/500\n",
            "2/2 [==============================] - 0s 7ms/step - loss: 18.6755 - mae: 18.6755\n",
            "Epoch 187/500\n",
            "2/2 [==============================] - 0s 7ms/step - loss: 8.7971 - mae: 8.7971\n",
            "Epoch 188/500\n",
            "2/2 [==============================] - 0s 7ms/step - loss: 23.6605 - mae: 23.6605\n",
            "Epoch 189/500\n",
            "2/2 [==============================] - 0s 10ms/step - loss: 9.4428 - mae: 9.4428\n",
            "Epoch 190/500\n",
            "2/2 [==============================] - 0s 7ms/step - loss: 17.1926 - mae: 17.1926\n",
            "Epoch 191/500\n",
            "2/2 [==============================] - 0s 8ms/step - loss: 8.5790 - mae: 8.5790\n",
            "Epoch 192/500\n",
            "2/2 [==============================] - 0s 7ms/step - loss: 15.1729 - mae: 15.1729\n",
            "Epoch 193/500\n",
            "2/2 [==============================] - 0s 8ms/step - loss: 29.9974 - mae: 29.9974\n",
            "Epoch 194/500\n",
            "2/2 [==============================] - 0s 8ms/step - loss: 9.6212 - mae: 9.6212\n",
            "Epoch 195/500\n",
            "2/2 [==============================] - 0s 8ms/step - loss: 12.0107 - mae: 12.0107\n",
            "Epoch 196/500\n",
            "2/2 [==============================] - 0s 8ms/step - loss: 23.3488 - mae: 23.3488\n",
            "Epoch 197/500\n",
            "2/2 [==============================] - 0s 8ms/step - loss: 17.9361 - mae: 17.9361\n",
            "Epoch 198/500\n",
            "2/2 [==============================] - 0s 7ms/step - loss: 12.6924 - mae: 12.6924\n",
            "Epoch 199/500\n",
            "2/2 [==============================] - 0s 7ms/step - loss: 18.1970 - mae: 18.1970\n",
            "Epoch 200/500\n",
            "2/2 [==============================] - 0s 7ms/step - loss: 14.0197 - mae: 14.0197\n",
            "Epoch 201/500\n",
            "2/2 [==============================] - 0s 8ms/step - loss: 6.1032 - mae: 6.1032\n",
            "Epoch 202/500\n",
            "2/2 [==============================] - 0s 8ms/step - loss: 23.0471 - mae: 23.0471\n",
            "Epoch 203/500\n",
            "2/2 [==============================] - 0s 12ms/step - loss: 9.0557 - mae: 9.0557\n",
            "Epoch 204/500\n",
            "2/2 [==============================] - 0s 8ms/step - loss: 18.9682 - mae: 18.9682\n",
            "Epoch 205/500\n",
            "2/2 [==============================] - 0s 8ms/step - loss: 9.4683 - mae: 9.4683\n",
            "Epoch 206/500\n",
            "2/2 [==============================] - 0s 8ms/step - loss: 10.5214 - mae: 10.5214\n",
            "Epoch 207/500\n",
            "2/2 [==============================] - 0s 9ms/step - loss: 21.1715 - mae: 21.1715\n",
            "Epoch 208/500\n",
            "2/2 [==============================] - 0s 7ms/step - loss: 16.5558 - mae: 16.5558\n",
            "Epoch 209/500\n",
            "2/2 [==============================] - 0s 7ms/step - loss: 14.4210 - mae: 14.4210\n",
            "Epoch 210/500\n",
            "2/2 [==============================] - 0s 8ms/step - loss: 17.4059 - mae: 17.4059\n",
            "Epoch 211/500\n",
            "2/2 [==============================] - 0s 8ms/step - loss: 10.3300 - mae: 10.3300\n",
            "Epoch 212/500\n",
            "2/2 [==============================] - 0s 10ms/step - loss: 19.9102 - mae: 19.9102\n",
            "Epoch 213/500\n",
            "2/2 [==============================] - 0s 8ms/step - loss: 14.6429 - mae: 14.6429\n",
            "Epoch 214/500\n",
            "2/2 [==============================] - 0s 8ms/step - loss: 14.3389 - mae: 14.3389\n",
            "Epoch 215/500\n",
            "2/2 [==============================] - 0s 8ms/step - loss: 22.8087 - mae: 22.8087\n",
            "Epoch 216/500\n",
            "2/2 [==============================] - 0s 8ms/step - loss: 14.2875 - mae: 14.2875\n",
            "Epoch 217/500\n",
            "2/2 [==============================] - 0s 8ms/step - loss: 9.1091 - mae: 9.1091\n",
            "Epoch 218/500\n",
            "2/2 [==============================] - 0s 9ms/step - loss: 12.0005 - mae: 12.0005\n",
            "Epoch 219/500\n",
            "2/2 [==============================] - 0s 8ms/step - loss: 6.7570 - mae: 6.7570\n",
            "Epoch 220/500\n",
            "2/2 [==============================] - 0s 7ms/step - loss: 7.1581 - mae: 7.1581\n",
            "Epoch 221/500\n",
            "2/2 [==============================] - 0s 7ms/step - loss: 38.1949 - mae: 38.1949\n",
            "Epoch 222/500\n",
            "2/2 [==============================] - 0s 8ms/step - loss: 38.1526 - mae: 38.1526\n",
            "Epoch 223/500\n",
            "2/2 [==============================] - 0s 7ms/step - loss: 5.5392 - mae: 5.5392\n",
            "Epoch 224/500\n",
            "2/2 [==============================] - 0s 8ms/step - loss: 12.9309 - mae: 12.9309\n",
            "Epoch 225/500\n",
            "2/2 [==============================] - 0s 8ms/step - loss: 32.1631 - mae: 32.1631\n",
            "Epoch 226/500\n",
            "2/2 [==============================] - 0s 7ms/step - loss: 13.2583 - mae: 13.2583\n",
            "Epoch 227/500\n",
            "2/2 [==============================] - 0s 8ms/step - loss: 20.1983 - mae: 20.1983\n",
            "Epoch 228/500\n",
            "2/2 [==============================] - 0s 7ms/step - loss: 19.5752 - mae: 19.5752\n",
            "Epoch 229/500\n",
            "2/2 [==============================] - 0s 7ms/step - loss: 7.6150 - mae: 7.6150\n",
            "Epoch 230/500\n",
            "2/2 [==============================] - 0s 7ms/step - loss: 7.7119 - mae: 7.7119\n",
            "Epoch 231/500\n",
            "2/2 [==============================] - 0s 7ms/step - loss: 25.9557 - mae: 25.9557\n",
            "Epoch 232/500\n",
            "2/2 [==============================] - 0s 8ms/step - loss: 9.0679 - mae: 9.0679\n",
            "Epoch 233/500\n",
            "2/2 [==============================] - 0s 7ms/step - loss: 25.8317 - mae: 25.8317\n",
            "Epoch 234/500\n",
            "2/2 [==============================] - 0s 8ms/step - loss: 9.3627 - mae: 9.3627\n",
            "Epoch 235/500\n",
            "2/2 [==============================] - 0s 7ms/step - loss: 14.7284 - mae: 14.7284\n",
            "Epoch 236/500\n",
            "2/2 [==============================] - 0s 8ms/step - loss: 5.1589 - mae: 5.1589\n",
            "Epoch 237/500\n",
            "2/2 [==============================] - 0s 7ms/step - loss: 13.1110 - mae: 13.1110\n",
            "Epoch 238/500\n",
            "2/2 [==============================] - 0s 8ms/step - loss: 7.3719 - mae: 7.3719\n",
            "Epoch 239/500\n",
            "2/2 [==============================] - 0s 10ms/step - loss: 21.3182 - mae: 21.3182\n",
            "Epoch 240/500\n",
            "2/2 [==============================] - 0s 8ms/step - loss: 25.0053 - mae: 25.0053\n",
            "Epoch 241/500\n",
            "2/2 [==============================] - 0s 8ms/step - loss: 9.6685 - mae: 9.6685\n",
            "Epoch 242/500\n",
            "2/2 [==============================] - 0s 9ms/step - loss: 15.7472 - mae: 15.7472\n",
            "Epoch 243/500\n",
            "2/2 [==============================] - 0s 8ms/step - loss: 11.2721 - mae: 11.2721\n",
            "Epoch 244/500\n",
            "2/2 [==============================] - 0s 8ms/step - loss: 10.5461 - mae: 10.5461\n",
            "Epoch 245/500\n",
            "2/2 [==============================] - 0s 9ms/step - loss: 14.7134 - mae: 14.7134\n",
            "Epoch 246/500\n",
            "2/2 [==============================] - 0s 8ms/step - loss: 15.8596 - mae: 15.8596\n",
            "Epoch 247/500\n",
            "2/2 [==============================] - 0s 8ms/step - loss: 17.7518 - mae: 17.7518\n",
            "Epoch 248/500\n",
            "2/2 [==============================] - 0s 8ms/step - loss: 13.3084 - mae: 13.3084\n",
            "Epoch 249/500\n",
            "2/2 [==============================] - 0s 9ms/step - loss: 14.5735 - mae: 14.5735\n",
            "Epoch 250/500\n",
            "2/2 [==============================] - 0s 8ms/step - loss: 23.3170 - mae: 23.3170\n",
            "Epoch 251/500\n",
            "2/2 [==============================] - 0s 8ms/step - loss: 8.5728 - mae: 8.5728\n",
            "Epoch 252/500\n",
            "2/2 [==============================] - 0s 9ms/step - loss: 41.3133 - mae: 41.3133\n",
            "Epoch 253/500\n",
            "2/2 [==============================] - 0s 7ms/step - loss: 25.5224 - mae: 25.5224\n",
            "Epoch 254/500\n",
            "2/2 [==============================] - 0s 8ms/step - loss: 7.6598 - mae: 7.6598\n",
            "Epoch 255/500\n",
            "2/2 [==============================] - 0s 8ms/step - loss: 26.8976 - mae: 26.8976\n",
            "Epoch 256/500\n",
            "2/2 [==============================] - 0s 8ms/step - loss: 14.7333 - mae: 14.7333\n",
            "Epoch 257/500\n",
            "2/2 [==============================] - 0s 8ms/step - loss: 7.8522 - mae: 7.8522\n",
            "Epoch 258/500\n",
            "2/2 [==============================] - 0s 8ms/step - loss: 11.0582 - mae: 11.0582\n",
            "Epoch 259/500\n",
            "2/2 [==============================] - 0s 8ms/step - loss: 16.2239 - mae: 16.2239\n",
            "Epoch 260/500\n",
            "2/2 [==============================] - 0s 8ms/step - loss: 24.3065 - mae: 24.3065\n",
            "Epoch 261/500\n",
            "2/2 [==============================] - 0s 7ms/step - loss: 8.9291 - mae: 8.9291\n",
            "Epoch 262/500\n",
            "2/2 [==============================] - 0s 8ms/step - loss: 8.1006 - mae: 8.1006\n",
            "Epoch 263/500\n",
            "2/2 [==============================] - 0s 15ms/step - loss: 7.8065 - mae: 7.8065\n",
            "Epoch 264/500\n",
            "2/2 [==============================] - 0s 8ms/step - loss: 16.6015 - mae: 16.6015\n",
            "Epoch 265/500\n",
            "2/2 [==============================] - 0s 8ms/step - loss: 12.7190 - mae: 12.7190\n",
            "Epoch 266/500\n",
            "2/2 [==============================] - 0s 9ms/step - loss: 14.2787 - mae: 14.2787\n",
            "Epoch 267/500\n",
            "2/2 [==============================] - 0s 8ms/step - loss: 11.4072 - mae: 11.4072\n",
            "Epoch 268/500\n",
            "2/2 [==============================] - 0s 8ms/step - loss: 19.9006 - mae: 19.9006\n",
            "Epoch 269/500\n",
            "2/2 [==============================] - 0s 9ms/step - loss: 38.4194 - mae: 38.4194\n",
            "Epoch 270/500\n",
            "2/2 [==============================] - 0s 8ms/step - loss: 11.4615 - mae: 11.4615\n",
            "Epoch 271/500\n",
            "2/2 [==============================] - 0s 11ms/step - loss: 14.0048 - mae: 14.0048\n",
            "Epoch 272/500\n",
            "2/2 [==============================] - 0s 8ms/step - loss: 27.7012 - mae: 27.7012\n",
            "Epoch 273/500\n",
            "2/2 [==============================] - 0s 8ms/step - loss: 8.3983 - mae: 8.3983\n",
            "Epoch 274/500\n",
            "2/2 [==============================] - 0s 8ms/step - loss: 6.5364 - mae: 6.5364\n",
            "Epoch 275/500\n",
            "2/2 [==============================] - 0s 8ms/step - loss: 35.1552 - mae: 35.1552\n",
            "Epoch 276/500\n",
            "2/2 [==============================] - 0s 8ms/step - loss: 8.1650 - mae: 8.1650\n",
            "Epoch 277/500\n",
            "2/2 [==============================] - 0s 8ms/step - loss: 26.2593 - mae: 26.2593\n",
            "Epoch 278/500\n",
            "2/2 [==============================] - 0s 8ms/step - loss: 11.3505 - mae: 11.3505\n",
            "Epoch 279/500\n",
            "2/2 [==============================] - 0s 7ms/step - loss: 16.1242 - mae: 16.1242\n",
            "Epoch 280/500\n",
            "2/2 [==============================] - 0s 7ms/step - loss: 21.2347 - mae: 21.2347\n",
            "Epoch 281/500\n",
            "2/2 [==============================] - 0s 8ms/step - loss: 23.7971 - mae: 23.7971\n",
            "Epoch 282/500\n",
            "2/2 [==============================] - 0s 7ms/step - loss: 8.3393 - mae: 8.3393\n",
            "Epoch 283/500\n",
            "2/2 [==============================] - 0s 8ms/step - loss: 8.5118 - mae: 8.5118\n",
            "Epoch 284/500\n",
            "2/2 [==============================] - 0s 8ms/step - loss: 26.4833 - mae: 26.4833\n",
            "Epoch 285/500\n",
            "2/2 [==============================] - 0s 8ms/step - loss: 15.0539 - mae: 15.0539\n",
            "Epoch 286/500\n",
            "2/2 [==============================] - 0s 8ms/step - loss: 8.6834 - mae: 8.6834\n",
            "Epoch 287/500\n",
            "2/2 [==============================] - 0s 8ms/step - loss: 22.3783 - mae: 22.3783\n",
            "Epoch 288/500\n",
            "2/2 [==============================] - 0s 8ms/step - loss: 23.1967 - mae: 23.1967\n",
            "Epoch 289/500\n",
            "2/2 [==============================] - 0s 8ms/step - loss: 12.1266 - mae: 12.1266\n",
            "Epoch 290/500\n",
            "2/2 [==============================] - 0s 7ms/step - loss: 16.6940 - mae: 16.6940\n",
            "Epoch 291/500\n",
            "2/2 [==============================] - 0s 8ms/step - loss: 17.0069 - mae: 17.0069\n",
            "Epoch 292/500\n",
            "2/2 [==============================] - 0s 8ms/step - loss: 10.2151 - mae: 10.2151\n",
            "Epoch 293/500\n",
            "2/2 [==============================] - 0s 8ms/step - loss: 14.9869 - mae: 14.9869\n",
            "Epoch 294/500\n",
            "2/2 [==============================] - 0s 7ms/step - loss: 22.0987 - mae: 22.0987\n",
            "Epoch 295/500\n",
            "2/2 [==============================] - 0s 8ms/step - loss: 19.3224 - mae: 19.3224\n",
            "Epoch 296/500\n",
            "2/2 [==============================] - 0s 8ms/step - loss: 6.8102 - mae: 6.8102\n",
            "Epoch 297/500\n",
            "2/2 [==============================] - 0s 7ms/step - loss: 9.7339 - mae: 9.7339\n",
            "Epoch 298/500\n",
            "2/2 [==============================] - 0s 8ms/step - loss: 23.8202 - mae: 23.8202\n",
            "Epoch 299/500\n",
            "2/2 [==============================] - 0s 7ms/step - loss: 16.1309 - mae: 16.1309\n",
            "Epoch 300/500\n",
            "2/2 [==============================] - 0s 8ms/step - loss: 7.0329 - mae: 7.0329\n",
            "Epoch 301/500\n",
            "2/2 [==============================] - 0s 8ms/step - loss: 25.0493 - mae: 25.0493\n",
            "Epoch 302/500\n",
            "2/2 [==============================] - 0s 8ms/step - loss: 8.3582 - mae: 8.3582\n",
            "Epoch 303/500\n",
            "2/2 [==============================] - 0s 8ms/step - loss: 21.3787 - mae: 21.3787\n",
            "Epoch 304/500\n",
            "2/2 [==============================] - 0s 8ms/step - loss: 13.9244 - mae: 13.9244\n",
            "Epoch 305/500\n",
            "2/2 [==============================] - 0s 8ms/step - loss: 7.1911 - mae: 7.1911\n",
            "Epoch 306/500\n",
            "2/2 [==============================] - 0s 8ms/step - loss: 19.4480 - mae: 19.4480\n",
            "Epoch 307/500\n",
            "2/2 [==============================] - 0s 7ms/step - loss: 8.9974 - mae: 8.9974\n",
            "Epoch 308/500\n",
            "2/2 [==============================] - 0s 8ms/step - loss: 20.5603 - mae: 20.5603\n",
            "Epoch 309/500\n",
            "2/2 [==============================] - 0s 7ms/step - loss: 13.6878 - mae: 13.6878\n",
            "Epoch 310/500\n",
            "2/2 [==============================] - 0s 7ms/step - loss: 6.2142 - mae: 6.2142\n",
            "Epoch 311/500\n",
            "2/2 [==============================] - 0s 7ms/step - loss: 13.9748 - mae: 13.9748\n",
            "Epoch 312/500\n",
            "2/2 [==============================] - 0s 9ms/step - loss: 30.6485 - mae: 30.6485\n",
            "Epoch 313/500\n",
            "2/2 [==============================] - 0s 7ms/step - loss: 4.1647 - mae: 4.1647\n",
            "Epoch 314/500\n",
            "2/2 [==============================] - 0s 8ms/step - loss: 14.5402 - mae: 14.5402\n",
            "Epoch 315/500\n",
            "2/2 [==============================] - 0s 8ms/step - loss: 10.4378 - mae: 10.4378\n",
            "Epoch 316/500\n",
            "2/2 [==============================] - 0s 7ms/step - loss: 6.9985 - mae: 6.9985\n",
            "Epoch 317/500\n",
            "2/2 [==============================] - 0s 7ms/step - loss: 35.6981 - mae: 35.6981\n",
            "Epoch 318/500\n",
            "2/2 [==============================] - 0s 7ms/step - loss: 20.9793 - mae: 20.9793\n",
            "Epoch 319/500\n",
            "2/2 [==============================] - 0s 8ms/step - loss: 7.4841 - mae: 7.4841\n",
            "Epoch 320/500\n",
            "2/2 [==============================] - 0s 8ms/step - loss: 16.6411 - mae: 16.6411\n",
            "Epoch 321/500\n",
            "2/2 [==============================] - 0s 8ms/step - loss: 5.4144 - mae: 5.4144\n",
            "Epoch 322/500\n",
            "2/2 [==============================] - 0s 9ms/step - loss: 14.2230 - mae: 14.2230\n",
            "Epoch 323/500\n",
            "2/2 [==============================] - 0s 9ms/step - loss: 18.6507 - mae: 18.6507\n",
            "Epoch 324/500\n",
            "2/2 [==============================] - 0s 13ms/step - loss: 17.9887 - mae: 17.9887\n",
            "Epoch 325/500\n",
            "2/2 [==============================] - 0s 7ms/step - loss: 7.9548 - mae: 7.9548\n",
            "Epoch 326/500\n",
            "2/2 [==============================] - 0s 10ms/step - loss: 21.1953 - mae: 21.1953\n",
            "Epoch 327/500\n",
            "2/2 [==============================] - 0s 8ms/step - loss: 24.6154 - mae: 24.6154\n",
            "Epoch 328/500\n",
            "2/2 [==============================] - 0s 8ms/step - loss: 12.4939 - mae: 12.4939\n",
            "Epoch 329/500\n",
            "2/2 [==============================] - 0s 7ms/step - loss: 15.7626 - mae: 15.7626\n",
            "Epoch 330/500\n",
            "2/2 [==============================] - 0s 8ms/step - loss: 14.0581 - mae: 14.0581\n",
            "Epoch 331/500\n",
            "2/2 [==============================] - 0s 8ms/step - loss: 21.6805 - mae: 21.6805\n",
            "Epoch 332/500\n",
            "2/2 [==============================] - 0s 8ms/step - loss: 22.2413 - mae: 22.2413\n",
            "Epoch 333/500\n",
            "2/2 [==============================] - 0s 7ms/step - loss: 13.0459 - mae: 13.0459\n",
            "Epoch 334/500\n",
            "2/2 [==============================] - 0s 8ms/step - loss: 9.1924 - mae: 9.1924\n",
            "Epoch 335/500\n",
            "2/2 [==============================] - 0s 7ms/step - loss: 12.5486 - mae: 12.5486\n",
            "Epoch 336/500\n",
            "2/2 [==============================] - 0s 8ms/step - loss: 32.2095 - mae: 32.2095\n",
            "Epoch 337/500\n",
            "2/2 [==============================] - 0s 8ms/step - loss: 10.4597 - mae: 10.4597\n",
            "Epoch 338/500\n",
            "2/2 [==============================] - 0s 7ms/step - loss: 19.7021 - mae: 19.7021\n",
            "Epoch 339/500\n",
            "2/2 [==============================] - 0s 8ms/step - loss: 35.0372 - mae: 35.0372\n",
            "Epoch 340/500\n",
            "2/2 [==============================] - 0s 8ms/step - loss: 10.0787 - mae: 10.0787\n",
            "Epoch 341/500\n",
            "2/2 [==============================] - 0s 7ms/step - loss: 13.6304 - mae: 13.6304\n",
            "Epoch 342/500\n",
            "2/2 [==============================] - 0s 6ms/step - loss: 15.4365 - mae: 15.4365\n",
            "Epoch 343/500\n",
            "2/2 [==============================] - 0s 7ms/step - loss: 11.1001 - mae: 11.1001\n",
            "Epoch 344/500\n",
            "2/2 [==============================] - 0s 9ms/step - loss: 10.0491 - mae: 10.0491\n",
            "Epoch 345/500\n",
            "2/2 [==============================] - 0s 9ms/step - loss: 31.0339 - mae: 31.0339\n",
            "Epoch 346/500\n",
            "2/2 [==============================] - 0s 9ms/step - loss: 10.7539 - mae: 10.7539\n",
            "Epoch 347/500\n",
            "2/2 [==============================] - 0s 8ms/step - loss: 25.7625 - mae: 25.7625\n",
            "Epoch 348/500\n",
            "2/2 [==============================] - 0s 8ms/step - loss: 12.7226 - mae: 12.7226\n",
            "Epoch 349/500\n",
            "2/2 [==============================] - 0s 8ms/step - loss: 12.5734 - mae: 12.5734\n",
            "Epoch 350/500\n",
            "2/2 [==============================] - 0s 7ms/step - loss: 15.2799 - mae: 15.2799\n",
            "Epoch 351/500\n",
            "2/2 [==============================] - 0s 10ms/step - loss: 32.5648 - mae: 32.5648\n",
            "Epoch 352/500\n",
            "2/2 [==============================] - 0s 9ms/step - loss: 13.6174 - mae: 13.6174\n",
            "Epoch 353/500\n",
            "2/2 [==============================] - 0s 8ms/step - loss: 17.5407 - mae: 17.5407\n",
            "Epoch 354/500\n",
            "2/2 [==============================] - 0s 9ms/step - loss: 11.2327 - mae: 11.2327\n",
            "Epoch 355/500\n",
            "2/2 [==============================] - 0s 8ms/step - loss: 26.5090 - mae: 26.5090\n",
            "Epoch 356/500\n",
            "2/2 [==============================] - 0s 8ms/step - loss: 10.5932 - mae: 10.5932\n",
            "Epoch 357/500\n",
            "2/2 [==============================] - 0s 7ms/step - loss: 15.2778 - mae: 15.2778\n",
            "Epoch 358/500\n",
            "2/2 [==============================] - 0s 9ms/step - loss: 15.2926 - mae: 15.2926\n",
            "Epoch 359/500\n",
            "2/2 [==============================] - 0s 8ms/step - loss: 11.9078 - mae: 11.9078\n",
            "Epoch 360/500\n",
            "2/2 [==============================] - 0s 8ms/step - loss: 20.5370 - mae: 20.5370\n",
            "Epoch 361/500\n",
            "2/2 [==============================] - 0s 9ms/step - loss: 10.3856 - mae: 10.3856\n",
            "Epoch 362/500\n",
            "2/2 [==============================] - 0s 8ms/step - loss: 7.2669 - mae: 7.2669\n",
            "Epoch 363/500\n",
            "2/2 [==============================] - 0s 8ms/step - loss: 26.2635 - mae: 26.2635\n",
            "Epoch 364/500\n",
            "2/2 [==============================] - 0s 8ms/step - loss: 32.8600 - mae: 32.8600\n",
            "Epoch 365/500\n",
            "2/2 [==============================] - 0s 14ms/step - loss: 10.6974 - mae: 10.6974\n",
            "Epoch 366/500\n",
            "2/2 [==============================] - 0s 7ms/step - loss: 11.8982 - mae: 11.8982\n",
            "Epoch 367/500\n",
            "2/2 [==============================] - 0s 6ms/step - loss: 30.0842 - mae: 30.0842\n",
            "Epoch 368/500\n",
            "2/2 [==============================] - 0s 10ms/step - loss: 9.8154 - mae: 9.8154\n",
            "Epoch 369/500\n",
            "2/2 [==============================] - 0s 8ms/step - loss: 15.0164 - mae: 15.0164\n",
            "Epoch 370/500\n",
            "2/2 [==============================] - 0s 8ms/step - loss: 14.6770 - mae: 14.6770\n",
            "Epoch 371/500\n",
            "2/2 [==============================] - 0s 8ms/step - loss: 23.4013 - mae: 23.4013\n",
            "Epoch 372/500\n",
            "2/2 [==============================] - 0s 9ms/step - loss: 13.1002 - mae: 13.1002\n",
            "Epoch 373/500\n",
            "2/2 [==============================] - 0s 8ms/step - loss: 9.0376 - mae: 9.0376\n",
            "Epoch 374/500\n",
            "2/2 [==============================] - 0s 8ms/step - loss: 5.3848 - mae: 5.3848\n",
            "Epoch 375/500\n",
            "2/2 [==============================] - 0s 8ms/step - loss: 15.6197 - mae: 15.6197\n",
            "Epoch 376/500\n",
            "2/2 [==============================] - 0s 8ms/step - loss: 15.1706 - mae: 15.1706\n",
            "Epoch 377/500\n",
            "2/2 [==============================] - 0s 8ms/step - loss: 15.0680 - mae: 15.0680\n",
            "Epoch 378/500\n",
            "2/2 [==============================] - 0s 12ms/step - loss: 16.4957 - mae: 16.4957\n",
            "Epoch 379/500\n",
            "2/2 [==============================] - 0s 11ms/step - loss: 12.9308 - mae: 12.9308\n",
            "Epoch 380/500\n",
            "2/2 [==============================] - 0s 8ms/step - loss: 27.1913 - mae: 27.1913\n",
            "Epoch 381/500\n",
            "2/2 [==============================] - 0s 10ms/step - loss: 9.0216 - mae: 9.0216\n",
            "Epoch 382/500\n",
            "2/2 [==============================] - 0s 8ms/step - loss: 9.7141 - mae: 9.7141\n",
            "Epoch 383/500\n",
            "2/2 [==============================] - 0s 8ms/step - loss: 5.9152 - mae: 5.9152\n",
            "Epoch 384/500\n",
            "2/2 [==============================] - 0s 8ms/step - loss: 8.7246 - mae: 8.7246\n",
            "Epoch 385/500\n",
            "2/2 [==============================] - 0s 8ms/step - loss: 5.0619 - mae: 5.0619\n",
            "Epoch 386/500\n",
            "2/2 [==============================] - 0s 9ms/step - loss: 25.1403 - mae: 25.1403\n",
            "Epoch 387/500\n",
            "2/2 [==============================] - 0s 8ms/step - loss: 15.1077 - mae: 15.1077\n",
            "Epoch 388/500\n",
            "2/2 [==============================] - 0s 8ms/step - loss: 6.7404 - mae: 6.7404\n",
            "Epoch 389/500\n",
            "2/2 [==============================] - 0s 9ms/step - loss: 17.6290 - mae: 17.6290\n",
            "Epoch 390/500\n",
            "2/2 [==============================] - 0s 9ms/step - loss: 23.9146 - mae: 23.9146\n",
            "Epoch 391/500\n",
            "2/2 [==============================] - 0s 9ms/step - loss: 16.4009 - mae: 16.4009\n",
            "Epoch 392/500\n",
            "2/2 [==============================] - 0s 9ms/step - loss: 8.4361 - mae: 8.4361\n",
            "Epoch 393/500\n",
            "2/2 [==============================] - 0s 8ms/step - loss: 18.2128 - mae: 18.2128\n",
            "Epoch 394/500\n",
            "2/2 [==============================] - 0s 8ms/step - loss: 14.2525 - mae: 14.2525\n",
            "Epoch 395/500\n",
            "2/2 [==============================] - 0s 9ms/step - loss: 28.7258 - mae: 28.7258\n",
            "Epoch 396/500\n",
            "2/2 [==============================] - 0s 9ms/step - loss: 8.2838 - mae: 8.2838\n",
            "Epoch 397/500\n",
            "2/2 [==============================] - 0s 8ms/step - loss: 10.1465 - mae: 10.1465\n",
            "Epoch 398/500\n",
            "2/2 [==============================] - 0s 8ms/step - loss: 9.7067 - mae: 9.7067\n",
            "Epoch 399/500\n",
            "2/2 [==============================] - 0s 9ms/step - loss: 6.7504 - mae: 6.7504\n",
            "Epoch 400/500\n",
            "2/2 [==============================] - 0s 8ms/step - loss: 25.9216 - mae: 25.9216\n",
            "Epoch 401/500\n",
            "2/2 [==============================] - 0s 8ms/step - loss: 12.4179 - mae: 12.4179\n",
            "Epoch 402/500\n",
            "2/2 [==============================] - 0s 10ms/step - loss: 21.6873 - mae: 21.6873\n",
            "Epoch 403/500\n",
            "2/2 [==============================] - 0s 8ms/step - loss: 22.2175 - mae: 22.2175\n",
            "Epoch 404/500\n",
            "2/2 [==============================] - 0s 8ms/step - loss: 14.3277 - mae: 14.3277\n",
            "Epoch 405/500\n",
            "2/2 [==============================] - 0s 8ms/step - loss: 4.1856 - mae: 4.1856\n",
            "Epoch 406/500\n",
            "2/2 [==============================] - 0s 9ms/step - loss: 19.2428 - mae: 19.2428\n",
            "Epoch 407/500\n",
            "2/2 [==============================] - 0s 8ms/step - loss: 13.4910 - mae: 13.4910\n",
            "Epoch 408/500\n",
            "2/2 [==============================] - 0s 8ms/step - loss: 23.9038 - mae: 23.9038\n",
            "Epoch 409/500\n",
            "2/2 [==============================] - 0s 8ms/step - loss: 21.9591 - mae: 21.9591\n",
            "Epoch 410/500\n",
            "2/2 [==============================] - 0s 9ms/step - loss: 12.8398 - mae: 12.8398\n",
            "Epoch 411/500\n",
            "2/2 [==============================] - 0s 9ms/step - loss: 15.5003 - mae: 15.5003\n",
            "Epoch 412/500\n",
            "2/2 [==============================] - 0s 11ms/step - loss: 22.8301 - mae: 22.8301\n",
            "Epoch 413/500\n",
            "2/2 [==============================] - 0s 8ms/step - loss: 14.4888 - mae: 14.4888\n",
            "Epoch 414/500\n",
            "2/2 [==============================] - 0s 8ms/step - loss: 5.6339 - mae: 5.6339\n",
            "Epoch 415/500\n",
            "2/2 [==============================] - 0s 12ms/step - loss: 13.6089 - mae: 13.6089\n",
            "Epoch 416/500\n",
            "2/2 [==============================] - 0s 11ms/step - loss: 28.2143 - mae: 28.2143\n",
            "Epoch 417/500\n",
            "2/2 [==============================] - 0s 9ms/step - loss: 7.5635 - mae: 7.5635\n",
            "Epoch 418/500\n",
            "2/2 [==============================] - 0s 10ms/step - loss: 7.3613 - mae: 7.3613\n",
            "Epoch 419/500\n",
            "2/2 [==============================] - 0s 10ms/step - loss: 13.8990 - mae: 13.8990\n",
            "Epoch 420/500\n",
            "2/2 [==============================] - 0s 10ms/step - loss: 11.1401 - mae: 11.1401\n",
            "Epoch 421/500\n",
            "2/2 [==============================] - 0s 9ms/step - loss: 5.0628 - mae: 5.0628\n",
            "Epoch 422/500\n",
            "2/2 [==============================] - 0s 9ms/step - loss: 18.3446 - mae: 18.3446\n",
            "Epoch 423/500\n",
            "2/2 [==============================] - 0s 8ms/step - loss: 36.1159 - mae: 36.1159\n",
            "Epoch 424/500\n",
            "2/2 [==============================] - 0s 8ms/step - loss: 13.9067 - mae: 13.9067\n",
            "Epoch 425/500\n",
            "2/2 [==============================] - 0s 10ms/step - loss: 7.3407 - mae: 7.3407\n",
            "Epoch 426/500\n",
            "2/2 [==============================] - 0s 9ms/step - loss: 20.5419 - mae: 20.5419\n",
            "Epoch 427/500\n",
            "2/2 [==============================] - 0s 10ms/step - loss: 6.4844 - mae: 6.4844\n",
            "Epoch 428/500\n",
            "2/2 [==============================] - 0s 8ms/step - loss: 12.8714 - mae: 12.8714\n",
            "Epoch 429/500\n",
            "2/2 [==============================] - 0s 9ms/step - loss: 12.2856 - mae: 12.2856\n",
            "Epoch 430/500\n",
            "2/2 [==============================] - 0s 9ms/step - loss: 11.2913 - mae: 11.2913\n",
            "Epoch 431/500\n",
            "2/2 [==============================] - 0s 9ms/step - loss: 10.2082 - mae: 10.2082\n",
            "Epoch 432/500\n",
            "2/2 [==============================] - 0s 11ms/step - loss: 13.5959 - mae: 13.5959\n",
            "Epoch 433/500\n",
            "2/2 [==============================] - 0s 9ms/step - loss: 10.9111 - mae: 10.9111\n",
            "Epoch 434/500\n",
            "2/2 [==============================] - 0s 8ms/step - loss: 30.6859 - mae: 30.6859\n",
            "Epoch 435/500\n",
            "2/2 [==============================] - 0s 10ms/step - loss: 11.2694 - mae: 11.2694\n",
            "Epoch 436/500\n",
            "2/2 [==============================] - 0s 10ms/step - loss: 28.8095 - mae: 28.8095\n",
            "Epoch 437/500\n",
            "2/2 [==============================] - 0s 9ms/step - loss: 8.1783 - mae: 8.1783\n",
            "Epoch 438/500\n",
            "2/2 [==============================] - 0s 8ms/step - loss: 12.8744 - mae: 12.8744\n",
            "Epoch 439/500\n",
            "2/2 [==============================] - 0s 8ms/step - loss: 33.9345 - mae: 33.9345\n",
            "Epoch 440/500\n",
            "2/2 [==============================] - 0s 12ms/step - loss: 15.5454 - mae: 15.5454\n",
            "Epoch 441/500\n",
            "2/2 [==============================] - 0s 8ms/step - loss: 17.9211 - mae: 17.9211\n",
            "Epoch 442/500\n",
            "2/2 [==============================] - 0s 8ms/step - loss: 17.3258 - mae: 17.3258\n",
            "Epoch 443/500\n",
            "2/2 [==============================] - 0s 8ms/step - loss: 6.3509 - mae: 6.3509\n",
            "Epoch 444/500\n",
            "2/2 [==============================] - 0s 9ms/step - loss: 24.1243 - mae: 24.1243\n",
            "Epoch 445/500\n",
            "2/2 [==============================] - 0s 8ms/step - loss: 8.5935 - mae: 8.5935\n",
            "Epoch 446/500\n",
            "2/2 [==============================] - 0s 8ms/step - loss: 8.5422 - mae: 8.5422\n",
            "Epoch 447/500\n",
            "2/2 [==============================] - 0s 8ms/step - loss: 10.7414 - mae: 10.7414\n",
            "Epoch 448/500\n",
            "2/2 [==============================] - 0s 8ms/step - loss: 15.5143 - mae: 15.5143\n",
            "Epoch 449/500\n",
            "2/2 [==============================] - 0s 8ms/step - loss: 17.2619 - mae: 17.2619\n",
            "Epoch 450/500\n",
            "2/2 [==============================] - 0s 8ms/step - loss: 16.0172 - mae: 16.0172\n",
            "Epoch 451/500\n",
            "2/2 [==============================] - 0s 9ms/step - loss: 18.7453 - mae: 18.7453\n",
            "Epoch 452/500\n",
            "2/2 [==============================] - 0s 9ms/step - loss: 40.7022 - mae: 40.7022\n",
            "Epoch 453/500\n",
            "2/2 [==============================] - 0s 8ms/step - loss: 23.0913 - mae: 23.0913\n",
            "Epoch 454/500\n",
            "2/2 [==============================] - 0s 8ms/step - loss: 19.5922 - mae: 19.5922\n",
            "Epoch 455/500\n",
            "2/2 [==============================] - 0s 7ms/step - loss: 6.4120 - mae: 6.4120\n",
            "Epoch 456/500\n",
            "2/2 [==============================] - 0s 9ms/step - loss: 6.9579 - mae: 6.9579\n",
            "Epoch 457/500\n",
            "2/2 [==============================] - 0s 8ms/step - loss: 16.1384 - mae: 16.1384\n",
            "Epoch 458/500\n",
            "2/2 [==============================] - 0s 8ms/step - loss: 11.0859 - mae: 11.0859\n",
            "Epoch 459/500\n",
            "2/2 [==============================] - 0s 8ms/step - loss: 23.1036 - mae: 23.1036\n",
            "Epoch 460/500\n",
            "2/2 [==============================] - 0s 7ms/step - loss: 22.2842 - mae: 22.2842\n",
            "Epoch 461/500\n",
            "2/2 [==============================] - 0s 8ms/step - loss: 8.0405 - mae: 8.0405\n",
            "Epoch 462/500\n",
            "2/2 [==============================] - 0s 8ms/step - loss: 13.3953 - mae: 13.3953\n",
            "Epoch 463/500\n",
            "2/2 [==============================] - 0s 8ms/step - loss: 29.6804 - mae: 29.6804\n",
            "Epoch 464/500\n",
            "2/2 [==============================] - 0s 11ms/step - loss: 4.1730 - mae: 4.1730\n",
            "Epoch 465/500\n",
            "2/2 [==============================] - 0s 8ms/step - loss: 23.1027 - mae: 23.1027\n",
            "Epoch 466/500\n",
            "2/2 [==============================] - 0s 8ms/step - loss: 21.3701 - mae: 21.3701\n",
            "Epoch 467/500\n",
            "2/2 [==============================] - 0s 13ms/step - loss: 11.6378 - mae: 11.6378\n",
            "Epoch 468/500\n",
            "2/2 [==============================] - 0s 11ms/step - loss: 10.4146 - mae: 10.4146\n",
            "Epoch 469/500\n",
            "2/2 [==============================] - 0s 8ms/step - loss: 27.3553 - mae: 27.3553\n",
            "Epoch 470/500\n",
            "2/2 [==============================] - 0s 7ms/step - loss: 12.5062 - mae: 12.5062\n",
            "Epoch 471/500\n",
            "2/2 [==============================] - 0s 9ms/step - loss: 12.0588 - mae: 12.0588\n",
            "Epoch 472/500\n",
            "2/2 [==============================] - 0s 10ms/step - loss: 15.5415 - mae: 15.5415\n",
            "Epoch 473/500\n",
            "2/2 [==============================] - 0s 7ms/step - loss: 15.5827 - mae: 15.5827\n",
            "Epoch 474/500\n",
            "2/2 [==============================] - 0s 8ms/step - loss: 8.8499 - mae: 8.8499\n",
            "Epoch 475/500\n",
            "2/2 [==============================] - 0s 8ms/step - loss: 5.6096 - mae: 5.6096\n",
            "Epoch 476/500\n",
            "2/2 [==============================] - 0s 8ms/step - loss: 8.9038 - mae: 8.9038\n",
            "Epoch 477/500\n",
            "2/2 [==============================] - 0s 7ms/step - loss: 28.4276 - mae: 28.4276\n",
            "Epoch 478/500\n",
            "2/2 [==============================] - 0s 7ms/step - loss: 7.1679 - mae: 7.1679\n",
            "Epoch 479/500\n",
            "2/2 [==============================] - 0s 8ms/step - loss: 5.9720 - mae: 5.9720\n",
            "Epoch 480/500\n",
            "2/2 [==============================] - 0s 8ms/step - loss: 18.5233 - mae: 18.5233\n",
            "Epoch 481/500\n",
            "2/2 [==============================] - 0s 8ms/step - loss: 10.9794 - mae: 10.9794\n",
            "Epoch 482/500\n",
            "2/2 [==============================] - 0s 8ms/step - loss: 18.4695 - mae: 18.4695\n",
            "Epoch 483/500\n",
            "2/2 [==============================] - 0s 7ms/step - loss: 19.7966 - mae: 19.7966\n",
            "Epoch 484/500\n",
            "2/2 [==============================] - 0s 8ms/step - loss: 18.0270 - mae: 18.0270\n",
            "Epoch 485/500\n",
            "2/2 [==============================] - 0s 8ms/step - loss: 7.9921 - mae: 7.9921\n",
            "Epoch 486/500\n",
            "2/2 [==============================] - 0s 9ms/step - loss: 19.5427 - mae: 19.5427\n",
            "Epoch 487/500\n",
            "2/2 [==============================] - 0s 8ms/step - loss: 12.1425 - mae: 12.1425\n",
            "Epoch 488/500\n",
            "2/2 [==============================] - 0s 8ms/step - loss: 12.4181 - mae: 12.4181\n",
            "Epoch 489/500\n",
            "2/2 [==============================] - 0s 7ms/step - loss: 16.1946 - mae: 16.1946\n",
            "Epoch 490/500\n",
            "2/2 [==============================] - 0s 9ms/step - loss: 14.3461 - mae: 14.3461\n",
            "Epoch 491/500\n",
            "2/2 [==============================] - 0s 9ms/step - loss: 26.4886 - mae: 26.4886\n",
            "Epoch 492/500\n",
            "2/2 [==============================] - 0s 7ms/step - loss: 13.3558 - mae: 13.3558\n",
            "Epoch 493/500\n",
            "2/2 [==============================] - 0s 9ms/step - loss: 9.2832 - mae: 9.2832\n",
            "Epoch 494/500\n",
            "2/2 [==============================] - 0s 8ms/step - loss: 13.3781 - mae: 13.3781\n",
            "Epoch 495/500\n",
            "2/2 [==============================] - 0s 8ms/step - loss: 14.4277 - mae: 14.4277\n",
            "Epoch 496/500\n",
            "2/2 [==============================] - 0s 8ms/step - loss: 12.5294 - mae: 12.5294\n",
            "Epoch 497/500\n",
            "2/2 [==============================] - 0s 8ms/step - loss: 17.9138 - mae: 17.9138\n",
            "Epoch 498/500\n",
            "2/2 [==============================] - 0s 8ms/step - loss: 22.9393 - mae: 22.9393\n",
            "Epoch 499/500\n",
            "2/2 [==============================] - 0s 7ms/step - loss: 8.7841 - mae: 8.7841\n",
            "Epoch 500/500\n",
            "2/2 [==============================] - 0s 7ms/step - loss: 14.4646 - mae: 14.4646\n"
          ]
        },
        {
          "output_type": "execute_result",
          "data": {
            "text/plain": [
              "<keras.src.callbacks.History at 0x78f979518130>"
            ]
          },
          "metadata": {},
          "execution_count": 83
        }
      ]
    },
    {
      "cell_type": "code",
      "source": [
        "# make and plot some predictions\n",
        "y_preds_3 = model_3.predict(X_test)\n",
        "plot_predictions(predictions=y_preds_3)"
      ],
      "metadata": {
        "colab": {
          "base_uri": "https://localhost:8080/",
          "height": 486
        },
        "id": "p7gI3-ZrNs_v",
        "outputId": "f2bab7f4-3494-4b79-9e93-47e42de3774a"
      },
      "execution_count": 84,
      "outputs": [
        {
          "output_type": "stream",
          "name": "stdout",
          "text": [
            "1/1 [==============================] - 0s 178ms/step\n"
          ]
        },
        {
          "output_type": "display_data",
          "data": {
            "text/plain": [
              "<Figure size 1000x700 with 1 Axes>"
            ],
            "image/png": "[encoded data removed]"
          },
          "metadata": {}
        }
      ]
    },
    {
      "cell_type": "code",
      "source": [
        "# calculate model_3 metrics\n",
        "mae_3 = mae(y_test, y_preds_3)\n",
        "mse_3 = mse(y_test, y_preds_3)\n",
        "\n",
        "mae_3, mse_3"
      ],
      "metadata": {
        "colab": {
          "base_uri": "https://localhost:8080/"
        },
        "id": "V-WzqxY9QUiq",
        "outputId": "8eac6012-5c1f-42f4-b91f-d70a8a93db74"
      },
      "execution_count": 85,
      "outputs": [
        {
          "output_type": "execute_result",
          "data": {
            "text/plain": [
              "(<tf.Tensor: shape=(), dtype=float32, numpy=58.209618>,\n",
              " <tf.Tensor: shape=(), dtype=float32, numpy=4737.422>)"
            ]
          },
          "metadata": {},
          "execution_count": 85
        }
      ]
    },
    {
      "cell_type": "markdown",
      "source": [
        "# Comparing the Results of our Experiments"
      ],
      "metadata": {
        "id": "aY7FuFMxQz7_"
      }
    },
    {
      "cell_type": "code",
      "source": [
        "# comparing model results with pandas dataframe\n",
        "\n",
        "import pandas as pd\n",
        "\n",
        "model_results = [[\"model_1\", mae_1.numpy(), mse_1.numpy()],\n",
        "                 [\"model_2\", mae_2.numpy(), mse_2.numpy()],\n",
        "                 [\"model_3\", mae_3.numpy(), mse_3.numpy()]]\n",
        "\n",
        "all_results = pd.DataFrame(model_results, columns=[\"model\", \"mae\", \"mse\"])\n",
        "all_results"
      ],
      "metadata": {
        "colab": {
          "base_uri": "https://localhost:8080/",
          "height": 143
        },
        "id": "APnGfJdZQr2O",
        "outputId": "66cf3a3d-f6d2-4037-f63d-f5a554875860"
      },
      "execution_count": 87,
      "outputs": [
        {
          "output_type": "execute_result",
          "data": {
            "text/plain": [
              "     model        mae          mse\n",
              "0  model_1   6.611316   277.294434\n",
              "1  model_2  13.134158    12.589118\n",
              "2  model_3  58.209618  4737.421875"
            ],
            "text/html": [
              "\n",
              "  <div id=\"df-364b7c04-0257-41d0-b8c5-ecc235e90697\" class=\"colab-df-container\">\n",
              "    <div>\n",
              "<style scoped>\n",
              "    .dataframe tbody tr th:only-of-type {\n",
              "        vertical-align: middle;\n",
              "    }\n",
              "\n",
              "    .dataframe tbody tr th {\n",
              "        vertical-align: top;\n",
              "    }\n",
              "\n",
              "    .dataframe thead th {\n",
              "        text-align: right;\n",
              "    }\n",
              "</style>\n",
              "<table border=\"1\" class=\"dataframe\">\n",
              "  <thead>\n",
              "    <tr style=\"text-align: right;\">\n",
              "      <th></th>\n",
              "      <th>model</th>\n",
              "      <th>mae</th>\n",
              "      <th>mse</th>\n",
              "    </tr>\n",
              "  </thead>\n",
              "  <tbody>\n",
              "    <tr>\n",
              "      <th>0</th>\n",
              "      <td>model_1</td>\n",
              "      <td>6.611316</td>\n",
              "      <td>277.294434</td>\n",
              "    </tr>\n",
              "    <tr>\n",
              "      <th>1</th>\n",
              "      <td>model_2</td>\n",
              "      <td>13.134158</td>\n",
              "      <td>12.589118</td>\n",
              "    </tr>\n",
              "    <tr>\n",
              "      <th>2</th>\n",
              "      <td>model_3</td>\n",
              "      <td>58.209618</td>\n",
              "      <td>4737.421875</td>\n",
              "    </tr>\n",
              "  </tbody>\n",
              "</table>\n",
              "</div>\n",
              "    <div class=\"colab-df-buttons\">\n",
              "\n",
              "  <div class=\"colab-df-container\">\n",
              "    <button class=\"colab-df-convert\" onclick=\"convertToInteractive('df-364b7c04-0257-41d0-b8c5-ecc235e90697')\"\n",
              "            title=\"Convert this dataframe to an interactive table.\"\n",
              "            style=\"display:none;\">\n",
              "\n",
              "  <svg xmlns=\"http://www.w3.org/2000/svg\" height=\"24px\" viewBox=\"0 -960 960 960\">\n",
              "    <path d=\"M120-120v-720h720v720H120Zm60-500h600v-160H180v160Zm220 220h160v-160H400v160Zm0 220h160v-160H400v160ZM180-400h160v-160H180v160Zm440 0h160v-160H620v160ZM180-180h160v-160H180v160Zm440 0h160v-160H620v160Z\"/>\n",
              "  </svg>\n",
              "    </button>\n",
              "\n",
              "  <style>\n",
              "    .colab-df-container {\n",
              "      display:flex;\n",
              "      gap: 12px;\n",
              "    }\n",
              "\n",
              "    .colab-df-convert {\n",
              "      background-color: #E8F0FE;\n",
              "      border: none;\n",
              "      border-radius: 50%;\n",
              "      cursor: pointer;\n",
              "      display: none;\n",
              "      fill: #1967D2;\n",
              "      height: 32px;\n",
              "      padding: 0 0 0 0;\n",
              "      width: 32px;\n",
              "    }\n",
              "\n",
              "    .colab-df-convert:hover {\n",
              "      background-color: #E2EBFA;\n",
              "      box-shadow: 0px 1px 2px rgba(60, 64, 67, 0.3), 0px 1px 3px 1px rgba(60, 64, 67, 0.15);\n",
              "      fill: #174EA6;\n",
              "    }\n",
              "\n",
              "    .colab-df-buttons div {\n",
              "      margin-bottom: 4px;\n",
              "    }\n",
              "\n",
              "    [theme=dark] .colab-df-convert {\n",
              "      background-color: #3B4455;\n",
              "      fill: #D2E3FC;\n",
              "    }\n",
              "\n",
              "    [theme=dark] .colab-df-convert:hover {\n",
              "      background-color: #434B5C;\n",
              "      box-shadow: 0px 1px 3px 1px rgba(0, 0, 0, 0.15);\n",
              "      filter: drop-shadow(0px 1px 2px rgba(0, 0, 0, 0.3));\n",
              "      fill: #FFFFFF;\n",
              "    }\n",
              "  </style>\n",
              "\n",
              "    <script>\n",
              "      const buttonEl =\n",
              "        document.querySelector('#df-364b7c04-0257-41d0-b8c5-ecc235e90697 button.colab-df-convert');\n",
              "      buttonEl.style.display =\n",
              "        google.colab.kernel.accessAllowed ? 'block' : 'none';\n",
              "\n",
              "      async function convertToInteractive(key) {\n",
              "        const element = document.querySelector('#df-364b7c04-0257-41d0-b8c5-ecc235e90697');\n",
              "        const dataTable =\n",
              "          await google.colab.kernel.invokeFunction('convertToInteractive',\n",
              "                                                    [key], {});\n",
              "        if (!dataTable) return;\n",
              "\n",
              "        const docLinkHtml = 'Like what you see? Visit the ' +\n",
              "          '<a target=\"_blank\" href=https://colab.research.google.com/notebooks/data_table.ipynb>data table notebook</a>'\n",
              "          + ' to learn more about interactive tables.';\n",
              "        element.innerHTML = '';\n",
              "        dataTable['output_type'] = 'display_data';\n",
              "        await google.colab.output.renderOutput(dataTable, element);\n",
              "        const docLink = document.createElement('div');\n",
              "        docLink.innerHTML = docLinkHtml;\n",
              "        element.appendChild(docLink);\n",
              "      }\n",
              "    </script>\n",
              "  </div>\n",
              "\n",
              "\n",
              "<div id=\"df-206568a7-ec3d-4abe-b01e-b5315d2a9296\">\n",
              "  <button class=\"colab-df-quickchart\" onclick=\"quickchart('df-206568a7-ec3d-4abe-b01e-b5315d2a9296')\"\n",
              "            title=\"Suggest charts\"\n",
              "            style=\"display:none;\">\n",
              "\n",
              "<svg xmlns=\"http://www.w3.org/2000/svg\" height=\"24px\"viewBox=\"0 0 24 24\"\n",
              "     width=\"24px\">\n",
              "    <g>\n",
              "        <path d=\"M19 3H5c-1.1 0-2 .9-2 2v14c0 1.1.9 2 2 2h14c1.1 0 2-.9 2-2V5c0-1.1-.9-2-2-2zM9 17H7v-7h2v7zm4 0h-2V7h2v10zm4 0h-2v-4h2v4z\"/>\n",
              "    </g>\n",
              "</svg>\n",
              "  </button>\n",
              "\n",
              "<style>\n",
              "  .colab-df-quickchart {\n",
              "      --bg-color: #E8F0FE;\n",
              "      --fill-color: #1967D2;\n",
              "      --hover-bg-color: #E2EBFA;\n",
              "      --hover-fill-color: #174EA6;\n",
              "      --disabled-fill-color: #AAA;\n",
              "      --disabled-bg-color: #DDD;\n",
              "  }\n",
              "\n",
              "  [theme=dark] .colab-df-quickchart {\n",
              "      --bg-color: #3B4455;\n",
              "      --fill-color: #D2E3FC;\n",
              "      --hover-bg-color: #434B5C;\n",
              "      --hover-fill-color: #FFFFFF;\n",
              "      --disabled-bg-color: #3B4455;\n",
              "      --disabled-fill-color: #666;\n",
              "  }\n",
              "\n",
              "  .colab-df-quickchart {\n",
              "    background-color: var(--bg-color);\n",
              "    border: none;\n",
              "    border-radius: 50%;\n",
              "    cursor: pointer;\n",
              "    display: none;\n",
              "    fill: var(--fill-color);\n",
              "    height: 32px;\n",
              "    padding: 0;\n",
              "    width: 32px;\n",
              "  }\n",
              "\n",
              "  .colab-df-quickchart:hover {\n",
              "    background-color: var(--hover-bg-color);\n",
              "    box-shadow: 0 1px 2px rgba(60, 64, 67, 0.3), 0 1px 3px 1px rgba(60, 64, 67, 0.15);\n",
              "    fill: var(--button-hover-fill-color);\n",
              "  }\n",
              "\n",
              "  .colab-df-quickchart-complete:disabled,\n",
              "  .colab-df-quickchart-complete:disabled:hover {\n",
              "    background-color: var(--disabled-bg-color);\n",
              "    fill: var(--disabled-fill-color);\n",
              "    box-shadow: none;\n",
              "  }\n",
              "\n",
              "  .colab-df-spinner {\n",
              "    border: 2px solid var(--fill-color);\n",
              "    border-color: transparent;\n",
              "    border-bottom-color: var(--fill-color);\n",
              "    animation:\n",
              "      spin 1s steps(1) infinite;\n",
              "  }\n",
              "\n",
              "  @keyframes spin {\n",
              "    0% {\n",
              "      border-color: transparent;\n",
              "      border-bottom-color: var(--fill-color);\n",
              "      border-left-color: var(--fill-color);\n",
              "    }\n",
              "    20% {\n",
              "      border-color: transparent;\n",
              "      border-left-color: var(--fill-color);\n",
              "      border-top-color: var(--fill-color);\n",
              "    }\n",
              "    30% {\n",
              "      border-color: transparent;\n",
              "      border-left-color: var(--fill-color);\n",
              "      border-top-color: var(--fill-color);\n",
              "      border-right-color: var(--fill-color);\n",
              "    }\n",
              "    40% {\n",
              "      border-color: transparent;\n",
              "      border-right-color: var(--fill-color);\n",
              "      border-top-color: var(--fill-color);\n",
              "    }\n",
              "    60% {\n",
              "      border-color: transparent;\n",
              "      border-right-color: var(--fill-color);\n",
              "    }\n",
              "    80% {\n",
              "      border-color: transparent;\n",
              "      border-right-color: var(--fill-color);\n",
              "      border-bottom-color: var(--fill-color);\n",
              "    }\n",
              "    90% {\n",
              "      border-color: transparent;\n",
              "      border-bottom-color: var(--fill-color);\n",
              "    }\n",
              "  }\n",
              "</style>\n",
              "\n",
              "  <script>\n",
              "    async function quickchart(key) {\n",
              "      const quickchartButtonEl =\n",
              "        document.querySelector('#' + key + ' button');\n",
              "      quickchartButtonEl.disabled = true;  // To prevent multiple clicks.\n",
              "      quickchartButtonEl.classList.add('colab-df-spinner');\n",
              "      try {\n",
              "        const charts = await google.colab.kernel.invokeFunction(\n",
              "            'suggestCharts', [key], {});\n",
              "      } catch (error) {\n",
              "        console.error('Error during call to suggestCharts:', error);\n",
              "      }\n",
              "      quickchartButtonEl.classList.remove('colab-df-spinner');\n",
              "      quickchartButtonEl.classList.add('colab-df-quickchart-complete');\n",
              "    }\n",
              "    (() => {\n",
              "      let quickchartButtonEl =\n",
              "        document.querySelector('#df-206568a7-ec3d-4abe-b01e-b5315d2a9296 button');\n",
              "      quickchartButtonEl.style.display =\n",
              "        google.colab.kernel.accessAllowed ? 'block' : 'none';\n",
              "    })();\n",
              "  </script>\n",
              "</div>\n",
              "\n",
              "  <div id=\"id_c4e8b688-52a7-40bb-b982-3d0043c403fc\">\n",
              "    <style>\n",
              "      .colab-df-generate {\n",
              "        background-color: #E8F0FE;\n",
              "        border: none;\n",
              "        border-radius: 50%;\n",
              "        cursor: pointer;\n",
              "        display: none;\n",
              "        fill: #1967D2;\n",
              "        height: 32px;\n",
              "        padding: 0 0 0 0;\n",
              "        width: 32px;\n",
              "      }\n",
              "\n",
              "      .colab-df-generate:hover {\n",
              "        background-color: #E2EBFA;\n",
              "        box-shadow: 0px 1px 2px rgba(60, 64, 67, 0.3), 0px 1px 3px 1px rgba(60, 64, 67, 0.15);\n",
              "        fill: #174EA6;\n",
              "      }\n",
              "\n",
              "      [theme=dark] .colab-df-generate {\n",
              "        background-color: #3B4455;\n",
              "        fill: #D2E3FC;\n",
              "      }\n",
              "\n",
              "      [theme=dark] .colab-df-generate:hover {\n",
              "        background-color: #434B5C;\n",
              "        box-shadow: 0px 1px 3px 1px rgba(0, 0, 0, 0.15);\n",
              "        filter: drop-shadow(0px 1px 2px rgba(0, 0, 0, 0.3));\n",
              "        fill: #FFFFFF;\n",
              "      }\n",
              "    </style>\n",
              "    <button class=\"colab-df-generate\" onclick=\"generateWithVariable('all_results')\"\n",
              "            title=\"Generate code using this dataframe.\"\n",
              "            style=\"display:none;\">\n",
              "\n",
              "  <svg xmlns=\"http://www.w3.org/2000/svg\" height=\"24px\"viewBox=\"0 0 24 24\"\n",
              "       width=\"24px\">\n",
              "    <path d=\"M7,19H8.4L18.45,9,17,7.55,7,17.6ZM5,21V16.75L18.45,3.32a2,2,0,0,1,2.83,0l1.4,1.43a1.91,1.91,0,0,1,.58,1.4,1.91,1.91,0,0,1-.58,1.4L9.25,21ZM18.45,9,17,7.55Zm-12,3A5.31,5.31,0,0,0,4.9,8.1,5.31,5.31,0,0,0,1,6.5,5.31,5.31,0,0,0,4.9,4.9,5.31,5.31,0,0,0,6.5,1,5.31,5.31,0,0,0,8.1,4.9,5.31,5.31,0,0,0,12,6.5,5.46,5.46,0,0,0,6.5,12Z\"/>\n",
              "  </svg>\n",
              "    </button>\n",
              "    <script>\n",
              "      (() => {\n",
              "      const buttonEl =\n",
              "        document.querySelector('#id_c4e8b688-52a7-40bb-b982-3d0043c403fc button.colab-df-generate');\n",
              "      buttonEl.style.display =\n",
              "        google.colab.kernel.accessAllowed ? 'block' : 'none';\n",
              "\n",
              "      buttonEl.onclick = () => {\n",
              "        google.colab.notebook.generateWithVariable('all_results');\n",
              "      }\n",
              "      })();\n",
              "    </script>\n",
              "  </div>\n",
              "\n",
              "    </div>\n",
              "  </div>\n"
            ],
            "application/vnd.google.colaboratory.intrinsic+json": {
              "type": "dataframe",
              "variable_name": "all_results",
              "summary": "{\n  \"name\": \"all_results\",\n  \"rows\": 3,\n  \"fields\": [\n    {\n      \"column\": \"model\",\n      \"properties\": {\n        \"dtype\": \"string\",\n        \"num_unique_values\": 3,\n        \"samples\": [\n          \"model_1\",\n          \"model_2\",\n          \"model_3\"\n        ],\n        \"semantic_type\": \"\",\n        \"description\": \"\"\n      }\n    },\n    {\n      \"column\": \"mae\",\n      \"properties\": {\n        \"dtype\": \"float32\",\n        \"num_unique_values\": 3,\n        \"samples\": [\n          6.611315727233887,\n          13.13415813446045,\n          58.209617614746094\n        ],\n        \"semantic_type\": \"\",\n        \"description\": \"\"\n      }\n    },\n    {\n      \"column\": \"mse\",\n      \"properties\": {\n        \"dtype\": \"float32\",\n        \"num_unique_values\": 3,\n        \"samples\": [\n          277.29443359375,\n          12.589118003845215,\n          4737.421875\n        ],\n        \"semantic_type\": \"\",\n        \"description\": \"\"\n      }\n    }\n  ]\n}"
            }
          },
          "metadata": {},
          "execution_count": 87
        }
      ]
    },
    {
      "cell_type": "code",
      "source": [
        "# Model 2 performed the best\n",
        "\n",
        "model_2.summary()"
      ],
      "metadata": {
        "colab": {
          "base_uri": "https://localhost:8080/"
        },
        "id": "B53X9X-YR7lt",
        "outputId": "ba3d258c-5956-48b4-bdae-24a6fca069a2"
      },
      "execution_count": 89,
      "outputs": [
        {
          "output_type": "stream",
          "name": "stdout",
          "text": [
            "Model: \"sequential_15\"\n",
            "_________________________________________________________________\n",
            " Layer (type)                Output Shape              Param #   \n",
            "=================================================================\n",
            " dense_20 (Dense)            (None, 1)                 2         \n",
            "                                                                 \n",
            " dense_21 (Dense)            (None, 1)                 2         \n",
            "                                                                 \n",
            "=================================================================\n",
            "Total params: 4 (16.00 Byte)\n",
            "Trainable params: 4 (16.00 Byte)\n",
            "Non-trainable params: 0 (0.00 Byte)\n",
            "_________________________________________________________________\n"
          ]
        }
      ]
    },
    {
      "cell_type": "markdown",
      "source": [
        "# Trackig your Experiments\n",
        "\n",
        "One really good habit to get into is tracking your modelling experiments to see which perform better than others.\n",
        "\n",
        "We've done a simple version of this above (keeping the results in different variables).\n",
        "\n",
        "📖 Resource: But as you build more models, you'll want to look into using tools such as:\n",
        "\n",
        "- **TensorBoard** - a component of the TensorFlow library to help track modelling experiments (we'll see this later).\n",
        "\n",
        "- **Weights & Biases** - a tool for tracking all kinds of machine learning experiments (the good news for Weights & Biases is it plugs into TensorBoard)."
      ],
      "metadata": {
        "id": "GRQEN6iPSoPb"
      }
    },
    {
      "cell_type": "code",
      "source": [],
      "metadata": {
        "id": "92I3D52oTD2t"
      },
      "execution_count": null,
      "outputs": []
    },
    {
      "cell_type": "markdown",
      "source": [
        "# Saving Models\n",
        "\n",
        "Once we've trained a model and found one which performs to your liking, we'll probably want to save it for use elsewhere (like a web application or mobile device).\n",
        "\n",
        "We can save a TensorFlow/Keras model using model.save().\n",
        "\n",
        "There are two ways to save a model in TensorFlow:\n",
        "\n",
        "- The **SavedModel** format (default).\n",
        "- The **HDF5** format.\n",
        "\n",
        "The main difference between the two is the SavedModel is automatically able to save custom objects (such as special layers) without additional modifications when loading the model back in.\n",
        "\n",
        "Which one should you use?\n",
        "\n",
        "It depends on your situation but the SavedModel format will suffice most of the time.\n",
        "\n",
        "Both methods use the same method call."
      ],
      "metadata": {
        "id": "n5Fv5_roTEOO"
      }
    },
    {
      "cell_type": "code",
      "source": [
        "# save Model using the SavedModel format\n",
        "model_2.save(\"best_model_SavedModel_format\")"
      ],
      "metadata": {
        "id": "xiIQ8VHqR7yH"
      },
      "execution_count": 91,
      "outputs": []
    },
    {
      "cell_type": "code",
      "source": [
        "# save model using the HDF5 format\n",
        "model_2.save(\"best_model_HDF5_format.h5\")"
      ],
      "metadata": {
        "colab": {
          "base_uri": "https://localhost:8080/"
        },
        "id": "PdYpL7QlSqbF",
        "outputId": "6ed1645c-e231-483c-9587-12b1d53db80b"
      },
      "execution_count": 92,
      "outputs": [
        {
          "output_type": "stream",
          "name": "stderr",
          "text": [
            "/usr/local/lib/python3.10/dist-packages/keras/src/engine/training.py:3103: UserWarning: You are saving your model as an HDF5 file via `model.save()`. This file format is considered legacy. We recommend using instead the native Keras format, e.g. `model.save('my_model.keras')`.\n",
            "  saving_api.save_model(\n"
          ]
        }
      ]
    },
    {
      "cell_type": "markdown",
      "source": [
        "# Loading a Saved Model\n",
        "We can load a saved model using the load_model() method.\n",
        "\n",
        "Loading a model for the different formats (SavedModel and HDF5) is the same (as long as the pathnames to the particular formats are correct)."
      ],
      "metadata": {
        "id": "LFym7WacZC__"
      }
    },
    {
      "cell_type": "code",
      "source": [
        "# load in saved model format model\n",
        "loaded_SavedModel_format = tf.keras.models.load_model(\"/content/best_model_SavedModel_format\")\n",
        "loaded_SavedModel_format.summary()"
      ],
      "metadata": {
        "colab": {
          "base_uri": "https://localhost:8080/"
        },
        "id": "Qzl_kYriY0aq",
        "outputId": "88dbd9cc-4d2a-4074-8499-0ed30d4202f4"
      },
      "execution_count": 93,
      "outputs": [
        {
          "output_type": "stream",
          "name": "stdout",
          "text": [
            "Model: \"sequential_15\"\n",
            "_________________________________________________________________\n",
            " Layer (type)                Output Shape              Param #   \n",
            "=================================================================\n",
            " dense_20 (Dense)            (None, 1)                 2         \n",
            "                                                                 \n",
            " dense_21 (Dense)            (None, 1)                 2         \n",
            "                                                                 \n",
            "=================================================================\n",
            "Total params: 4 (16.00 Byte)\n",
            "Trainable params: 4 (16.00 Byte)\n",
            "Non-trainable params: 0 (0.00 Byte)\n",
            "_________________________________________________________________\n"
          ]
        }
      ]
    },
    {
      "cell_type": "code",
      "source": [
        "# recheck original model_2 summary to confirm model architecture\n",
        "model_2.summary()"
      ],
      "metadata": {
        "colab": {
          "base_uri": "https://localhost:8080/"
        },
        "id": "2AfCffY7bBUX",
        "outputId": "454527e2-d1ca-45e0-bfb0-7045250e9c6f"
      },
      "execution_count": 94,
      "outputs": [
        {
          "output_type": "stream",
          "name": "stdout",
          "text": [
            "Model: \"sequential_15\"\n",
            "_________________________________________________________________\n",
            " Layer (type)                Output Shape              Param #   \n",
            "=================================================================\n",
            " dense_20 (Dense)            (None, 1)                 2         \n",
            "                                                                 \n",
            " dense_21 (Dense)            (None, 1)                 2         \n",
            "                                                                 \n",
            "=================================================================\n",
            "Total params: 4 (16.00 Byte)\n",
            "Trainable params: 4 (16.00 Byte)\n",
            "Non-trainable params: 0 (0.00 Byte)\n",
            "_________________________________________________________________\n"
          ]
        }
      ]
    },
    {
      "cell_type": "code",
      "source": [
        "# Compare Model_2 predictions with SavedModel format model predictions\n",
        "\n",
        "model_2_preds = model_2.predict(X_test)\n",
        "loaded_SavedModel_format_preds = loaded_SavedModel_format.predict(X_test)\n",
        "\n",
        "model_2_preds == loaded_SavedModel_format_preds"
      ],
      "metadata": {
        "colab": {
          "base_uri": "https://localhost:8080/"
        },
        "id": "ZyrN1SkKbFas",
        "outputId": "91ef21e6-050f-495e-d6de-aafcb9bd3ea4"
      },
      "execution_count": 96,
      "outputs": [
        {
          "output_type": "stream",
          "name": "stdout",
          "text": [
            "1/1 [==============================] - 0s 66ms/step\n",
            "1/1 [==============================] - 0s 69ms/step\n"
          ]
        },
        {
          "output_type": "execute_result",
          "data": {
            "text/plain": [
              "array([[ True],\n",
              "       [ True],\n",
              "       [ True],\n",
              "       [ True],\n",
              "       [ True],\n",
              "       [ True],\n",
              "       [ True],\n",
              "       [ True],\n",
              "       [ True],\n",
              "       [ True]])"
            ]
          },
          "metadata": {},
          "execution_count": 96
        }
      ]
    },
    {
      "cell_type": "markdown",
      "source": [
        "# Loading a HDF5 model"
      ],
      "metadata": {
        "id": "hNO9oWECcdkV"
      }
    },
    {
      "cell_type": "code",
      "source": [
        "loaded_h5_model = tf.keras.models.load_model(\"/content/best_model_HDF5_format.h5\")\n",
        "loaded_h5_model.summary()"
      ],
      "metadata": {
        "colab": {
          "base_uri": "https://localhost:8080/"
        },
        "id": "GEg-3-g6bxJY",
        "outputId": "a292b389-0edf-4778-dea2-d09b752df918"
      },
      "execution_count": 97,
      "outputs": [
        {
          "output_type": "stream",
          "name": "stdout",
          "text": [
            "Model: \"sequential_15\"\n",
            "_________________________________________________________________\n",
            " Layer (type)                Output Shape              Param #   \n",
            "=================================================================\n",
            " dense_20 (Dense)            (None, 1)                 2         \n",
            "                                                                 \n",
            " dense_21 (Dense)            (None, 1)                 2         \n",
            "                                                                 \n",
            "=================================================================\n",
            "Total params: 4 (16.00 Byte)\n",
            "Trainable params: 4 (16.00 Byte)\n",
            "Non-trainable params: 0 (0.00 Byte)\n",
            "_________________________________________________________________\n"
          ]
        }
      ]
    },
    {
      "cell_type": "code",
      "source": [
        "# Compare Model_2 predictions with SavedModel format model predictions\n",
        "\n",
        "model_2_preds = model_2.predict(X_test)\n",
        "loaded_h5_model_preds = loaded_h5_model.predict(X_test)\n",
        "\n",
        "model_2_preds == loaded_h5_model_preds"
      ],
      "metadata": {
        "colab": {
          "base_uri": "https://localhost:8080/"
        },
        "id": "hsBSbMlYcoZS",
        "outputId": "5c5601ce-3f4a-4d68-9d8a-fb1323ccd107"
      },
      "execution_count": 98,
      "outputs": [
        {
          "output_type": "stream",
          "name": "stdout",
          "text": [
            "1/1 [==============================] - 0s 18ms/step\n",
            "1/1 [==============================] - 0s 43ms/step\n"
          ]
        },
        {
          "output_type": "execute_result",
          "data": {
            "text/plain": [
              "array([[ True],\n",
              "       [ True],\n",
              "       [ True],\n",
              "       [ True],\n",
              "       [ True],\n",
              "       [ True],\n",
              "       [ True],\n",
              "       [ True],\n",
              "       [ True],\n",
              "       [ True]])"
            ]
          },
          "metadata": {},
          "execution_count": 98
        }
      ]
    },
    {
      "cell_type": "markdown",
      "source": [
        "# Download Files from COlab"
      ],
      "metadata": {
        "id": "sXhGsGnveNQq"
      }
    },
    {
      "cell_type": "code",
      "source": [
        "# Download the h5 model\n",
        "\n",
        "from google.colab import files\n",
        "files.download(\"/content/best_model_HDF5_format.h5\")"
      ],
      "metadata": {
        "colab": {
          "base_uri": "https://localhost:8080/",
          "height": 17
        },
        "id": "CKBvTzt2c9P5",
        "outputId": "9e5119a8-0570-4c70-9df7-69d011db5214"
      },
      "execution_count": 99,
      "outputs": [
        {
          "output_type": "display_data",
          "data": {
            "text/plain": [
              "<IPython.core.display.Javascript object>"
            ],
            "application/javascript": [
              "\n",
              "    async function download(id, filename, size) {\n",
              "      if (!google.colab.kernel.accessAllowed) {\n",
              "        return;\n",
              "      }\n",
              "      const div = document.createElement('div');\n",
              "      const label = document.createElement('label');\n",
              "      label.textContent = `Downloading \"${filename}\": `;\n",
              "      div.appendChild(label);\n",
              "      const progress = document.createElement('progress');\n",
              "      progress.max = size;\n",
              "      div.appendChild(progress);\n",
              "      document.body.appendChild(div);\n",
              "\n",
              "      const buffers = [];\n",
              "      let downloaded = 0;\n",
              "\n",
              "      const channel = await google.colab.kernel.comms.open(id);\n",
              "      // Send a message to notify the kernel that we're ready.\n",
              "      channel.send({})\n",
              "\n",
              "      for await (const message of channel.messages) {\n",
              "        // Send a message to notify the kernel that we're ready.\n",
              "        channel.send({})\n",
              "        if (message.buffers) {\n",
              "          for (const buffer of message.buffers) {\n",
              "            buffers.push(buffer);\n",
              "            downloaded += buffer.byteLength;\n",
              "            progress.value = downloaded;\n",
              "          }\n",
              "        }\n",
              "      }\n",
              "      const blob = new Blob(buffers, {type: 'application/binary'});\n",
              "      const a = document.createElement('a');\n",
              "      a.href = window.URL.createObjectURL(blob);\n",
              "      a.download = filename;\n",
              "      div.appendChild(a);\n",
              "      a.click();\n",
              "      div.remove();\n",
              "    }\n",
              "  "
            ]
          },
          "metadata": {}
        },
        {
          "output_type": "display_data",
          "data": {
            "text/plain": [
              "<IPython.core.display.Javascript object>"
            ],
            "application/javascript": [
              "download(\"download_37b93ff3-f543-4ec7-a893-2d92610c0b83\", \"best_model_HDF5_format.h5\", 21952)"
            ]
          },
          "metadata": {}
        }
      ]
    },
    {
      "cell_type": "code",
      "source": [
        "# import the SavedMOdel Folder\n",
        "\n",
        "from google.colab import files\n",
        "import shutil\n",
        "\n",
        "shutil.make_archive('saved_model_archive',\n",
        "                    'zip',\n",
        "                    'best_model_SavedModel_format')\n",
        "\n",
        "# download the zip files\n",
        "files.download('saved_model_archive.zip')"
      ],
      "metadata": {
        "colab": {
          "base_uri": "https://localhost:8080/",
          "height": 17
        },
        "id": "4gT3ZOPgeZZr",
        "outputId": "d7ddb591-9982-433b-c5dd-3ad78d8fa8e3"
      },
      "execution_count": 100,
      "outputs": [
        {
          "output_type": "display_data",
          "data": {
            "text/plain": [
              "<IPython.core.display.Javascript object>"
            ],
            "application/javascript": [
              "\n",
              "    async function download(id, filename, size) {\n",
              "      if (!google.colab.kernel.accessAllowed) {\n",
              "        return;\n",
              "      }\n",
              "      const div = document.createElement('div');\n",
              "      const label = document.createElement('label');\n",
              "      label.textContent = `Downloading \"${filename}\": `;\n",
              "      div.appendChild(label);\n",
              "      const progress = document.createElement('progress');\n",
              "      progress.max = size;\n",
              "      div.appendChild(progress);\n",
              "      document.body.appendChild(div);\n",
              "\n",
              "      const buffers = [];\n",
              "      let downloaded = 0;\n",
              "\n",
              "      const channel = await google.colab.kernel.comms.open(id);\n",
              "      // Send a message to notify the kernel that we're ready.\n",
              "      channel.send({})\n",
              "\n",
              "      for await (const message of channel.messages) {\n",
              "        // Send a message to notify the kernel that we're ready.\n",
              "        channel.send({})\n",
              "        if (message.buffers) {\n",
              "          for (const buffer of message.buffers) {\n",
              "            buffers.push(buffer);\n",
              "            downloaded += buffer.byteLength;\n",
              "            progress.value = downloaded;\n",
              "          }\n",
              "        }\n",
              "      }\n",
              "      const blob = new Blob(buffers, {type: 'application/binary'});\n",
              "      const a = document.createElement('a');\n",
              "      a.href = window.URL.createObjectURL(blob);\n",
              "      a.download = filename;\n",
              "      div.appendChild(a);\n",
              "      a.click();\n",
              "      div.remove();\n",
              "    }\n",
              "  "
            ]
          },
          "metadata": {}
        },
        {
          "output_type": "display_data",
          "data": {
            "text/plain": [
              "<IPython.core.display.Javascript object>"
            ],
            "application/javascript": [
              "download(\"download_f167b330-03e1-496a-93b8-d6150f68d249\", \"saved_model_archive.zip\", 12572)"
            ]
          },
          "metadata": {}
        }
      ]
    },
    {
      "cell_type": "code",
      "source": [],
      "metadata": {
        "id": "1icug0bBe-R-"
      },
      "execution_count": null,
      "outputs": []
    }
  ]
}